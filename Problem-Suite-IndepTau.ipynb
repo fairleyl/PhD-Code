{
 "cells": [
  {
   "cell_type": "code",
   "execution_count": 364,
   "id": "0c967fd8",
   "metadata": {},
   "outputs": [],
   "source": [
    "using Distributions\n",
    "using Random\n",
    "using Plots\n",
    "using PyPlot\n",
    "using StatsBase\n",
    "using StatsPlots\n",
    "using Serialization\n",
    "using LinearAlgebra"
   ]
  },
  {
   "attachments": {},
   "cell_type": "markdown",
   "id": "8b1ef523",
   "metadata": {},
   "source": [
    "# Problem-Suite"
   ]
  },
  {
   "attachments": {},
   "cell_type": "markdown",
   "id": "ebbc7791",
   "metadata": {},
   "source": [
    "Problem-Suite is a large structured notebook containing all of the functions created so far for this project.\n",
    "\n",
    "Sections:\n",
    "\n",
    "-[Miscellaneous Functions](#Miscellaneous-Functions)\n",
    "\n",
    "-[Pre-requisite functions for uniformised AVI](#Pre-requisite-functions-for-uniformised-AVI)\n",
    "\n",
    "-[Uniformised AVI functions](#Uniformised-AVI-functions)\n",
    "\n",
    "-[Pre-requisite functions for SMARVI](#Pre-requisite-functions-for-SMARVI)\n",
    "\n",
    "-[SMARVI Functions](#SMARVI-Functions)\n",
    "\n",
    "-[Pre-requisite Functions for Exact DP on Homogeneous Problems](#Pre-requisite-Functions-for-Exact-DP-on-Homogeneous-Problems)\n",
    "\n",
    "-[Exact DP on Homogeneous Problems (RVIA and PE/PI)](#Exact-DP-for-Homogeneous-problem)\n",
    "\n",
    "-[Pre-requisite Functions for Exact DP on Inhomogeneous Problems](#Pre-requisite-Functions-for-Exact-DP-on-Inhomogeneous-Problems)\n",
    "\n",
    "-[Exact DP on Inhomogeneous Problems (RVIA and PE/PI)](#Exact-DP-for-Inhomogeneous-Problem-(using-exact-h-or-VFA))\n",
    "\n",
    "-[Evaluation via simulation](#Evaluation-via-simulation)\n",
    "\n",
    "-[APE on Fully Active Policy](#APE-on-Fully-Active-Policy)\n",
    "\n",
    "-[SMARPE](#SMARPE)\n",
    "\n",
    "-[Tabular SMARVI and gEval](#tabular-smarvi-and-geval)\n",
    "\n",
    "-[SMART Functions](#SMART-Functions)\n",
    "\n",
    "-[SMARVI - New VFA](#SMARVI---New-VFA)\n",
    "\n",
    "-[SMARPI New VFA Functions](#SMARPI-New-VFA-Functions)\n",
    "\n",
    "-[Tests](#Tests)"
   ]
  },
  {
   "cell_type": "markdown",
   "id": "4b12fe12",
   "metadata": {},
   "source": [
    "# Miscellaneous Functions"
   ]
  },
  {
   "cell_type": "markdown",
   "id": "d2556d9f",
   "metadata": {},
   "source": [
    "-Functions for enumerating state and action spaces\n",
    "\n",
    "-Functions for calculating flows given a state or state-action pair\n",
    "\n",
    "-Function for evaluating a VFA at a given state"
   ]
  },
  {
   "cell_type": "code",
   "execution_count": 365,
   "id": "26a0da98",
   "metadata": {},
   "outputs": [
    {
     "data": {
      "text/plain": [
       "arrayToString (generic function with 1 method)"
      ]
     },
     "execution_count": 365,
     "metadata": {},
     "output_type": "execute_result"
    }
   ],
   "source": [
    "#produce an array of array representations of all possible states\n",
    "function enumerateStates(N::Int64)\n",
    "    if N==1\n",
    "        return [[1],[2],[3]]\n",
    "    end\n",
    "    \n",
    "    output = []\n",
    "    lower = enumerateStates(N-1)\n",
    "    for s in lower\n",
    "        new1 = append!([1],s)\n",
    "        new2 = append!([2],s)\n",
    "        new3 = append!([3],s)\n",
    "        append!(output,[new1])\n",
    "        append!(output,[new2])\n",
    "        append!(output,[new3])\n",
    "    end\n",
    "    \n",
    "    return output\n",
    "end\n",
    "\n",
    "#produce an array of array representations of all possible actions\n",
    "function enumerateActions(N::Int64)\n",
    "    if N==1\n",
    "        return [[0],[1]]\n",
    "    end\n",
    "    \n",
    "    output = []\n",
    "    lower = enumerateActions(N-1)\n",
    "    for a in lower\n",
    "        new1 = append!([0],a)\n",
    "        new2 = append!([1],a)\n",
    "        append!(output,[new1])\n",
    "        append!(output,[new2])\n",
    "    end\n",
    "    \n",
    "    return output\n",
    "end    \n",
    "\n",
    "#produce array of array representations of all restricted, or single-repair, actions\n",
    "function enumerateRestrictedActions(N::Int64)\n",
    "    if N==1\n",
    "        return [[0],[1]]\n",
    "    end\n",
    "    \n",
    "    output = [zeros(Int64,N)]\n",
    "    for i in 1:N\n",
    "        temp = zeros(N)\n",
    "        temp[i] = 1\n",
    "        append!(output,[temp])\n",
    "    end\n",
    "    \n",
    "    return output\n",
    "end\n",
    "\n",
    "#convert all array elements to string, then concatanate all elements (DEPRECATED AS DICTS CAN TAKE ARRAYS AS KEYS)\n",
    "function arrayToString(x)\n",
    "    return join(string.(x))\n",
    "end"
   ]
  },
  {
   "cell_type": "code",
   "execution_count": 366,
   "id": "57ba543e",
   "metadata": {},
   "outputs": [
    {
     "data": {
      "text/plain": [
       "calculateFlows (generic function with 2 methods)"
      ]
     },
     "execution_count": 366,
     "metadata": {},
     "output_type": "execute_result"
    }
   ],
   "source": [
    "#function for calculating the flows given a state\n",
    "function calculateFlows(s,N,alpha_d, alpha_r, beta, tau, c0, c1, r)\n",
    "    #update flows\n",
    "    flows = zeros(N)\n",
    "    healthy = sum(i == 1 for i in s)\n",
    "    \n",
    "    #if no links are healthy, return \n",
    "    if healthy == 0\n",
    "        return flows, c1\n",
    "    end\n",
    "    \n",
    "    #otherwise, find best route, and return\n",
    "    bestCost = maximum(c0) + 1\n",
    "    usedLink = 0\n",
    "    for k in 1:N\n",
    "        if s[k] == 1 && c0[k] < bestCost\n",
    "            bestCost = c0[k]\n",
    "            usedLink = k\n",
    "        end\n",
    "    end\n",
    "    \n",
    "    flows[usedLink] = beta\n",
    "    \n",
    "    return flows, bestCost\n",
    "end\n",
    "\n",
    "#function for calculating the flows given a state-action pair\n",
    "function calculateFlows(s,a,N,alpha_d, alpha_r, beta, tau, c0, c1, r)\n",
    "    sPrime = s - a\n",
    "    return calculateFlows(sPrime,N,alpha_d, alpha_r, beta, tau, c0, c1, r)\n",
    "end"
   ]
  },
  {
   "cell_type": "code",
   "execution_count": 367,
   "id": "127d3f03",
   "metadata": {},
   "outputs": [
    {
     "data": {
      "text/plain": [
       "v (generic function with 4 methods)"
      ]
     },
     "execution_count": 367,
     "metadata": {},
     "output_type": "execute_result"
    }
   ],
   "source": [
    "#evaluate a VFA at a given state\n",
    "function v(s::Vector{Int64}, params::Vector{Float64}, features::Vector{Function})\n",
    "    numFeatures = length(features)\n",
    "    return params[1] + sum(params[i+1]*features[i](s) for i in 1:numFeatures)\n",
    "end"
   ]
  },
  {
   "cell_type": "code",
   "execution_count": 368,
   "id": "960bf4ae",
   "metadata": {},
   "outputs": [
    {
     "data": {
      "text/plain": [
       "v (generic function with 4 methods)"
      ]
     },
     "execution_count": 368,
     "metadata": {},
     "output_type": "execute_result"
    }
   ],
   "source": [
    "#version of v that takes flows for the features\n",
    "function v(s::Vector{Int64}, flows::Vector{Float64}, params::Vector{Float64}, features::Vector{Function})\n",
    "    N = length(params)\n",
    "    return params[1] + sum(params[i]*features[i-1](s, flows) for i in 2:N)\n",
    "end"
   ]
  },
  {
   "cell_type": "code",
   "execution_count": 369,
   "id": "a47c84ee",
   "metadata": {},
   "outputs": [
    {
     "data": {
      "text/plain": [
       "calculatePi_SSP (generic function with 1 method)"
      ]
     },
     "execution_count": 369,
     "metadata": {},
     "output_type": "execute_result"
    }
   ],
   "source": [
    "#Note here that tau is a vector of independend repair rates\n",
    "function calculatePi_SSP(N,alpha_d, alpha_r, beta, tau, c0, c1, r, lambda)\n",
    "    mu = fill(0.0, N)\n",
    "    nu = tau + alpha_r + lambda\n",
    "    pi = fill(0.0, N, 3) #index by pi[edge, state]\n",
    "    alpha_u = beta*alpha_d + alpha_r\n",
    "    mu[1] = alpha_u[1]\n",
    "    pi[1,1] = lambda[1]*tau[1]/(mu[1]*nu[1]+lambda[1]*tau[1])\n",
    "    pi[1,2] = (lambda[1]/nu[1])*(1 - pi[1,1])\n",
    "    pi[1,3] = 1 - pi[1,1] - pi[1,2]\n",
    "\n",
    "    useprob = 1\n",
    "    for i in 2:N\n",
    "        useprob = useprob*(1 - pi[i-1,1])\n",
    "        mu[i] = useprob*alpha_u[i] + (1 - useprob)alpha_r[i]\n",
    "        normConst = mu[i]*nu[i] + lambda[i]*tau[i]\n",
    "        pi[i,1] = tau[i]*lambda[i]/normConst\n",
    "        pi[i,2] = (lambda[i]/nu[i])*(1 - pi[i,1])\n",
    "        pi[i,3] = 1 - pi[i,1] - pi[i,2]\n",
    "    end\n",
    "\n",
    "    return pi\n",
    "end"
   ]
  },
  {
   "cell_type": "code",
   "execution_count": 370,
   "id": "06ad4759",
   "metadata": {},
   "outputs": [
    {
     "data": {
      "text/plain": [
       "calculateG_SSP (generic function with 1 method)"
      ]
     },
     "execution_count": 370,
     "metadata": {},
     "output_type": "execute_result"
    }
   ],
   "source": [
    "function calculateG_SSP(N,alpha_d, alpha_r, beta, tau, c0, c1, r, lambda)\n",
    "    pi = calculatePi_SSP(N,alpha_d, alpha_r, beta, tau, c0, c1, r, lambda)\n",
    "    prodNonHealthy = fill(0.0, N)\n",
    "    prodNonHealthy[1] = 1 - pi[1,1]\n",
    "    for i in 2:N\n",
    "        prodNonHealthy[i] = prodNonHealthy[i-1]*(1 - pi[i,1])\n",
    "    end\n",
    "\n",
    "    return sum(r[i]*pi[i,2] for i in 1:N) + beta*c0[1]pi[1,1] + sum(beta*c0[i]*pi[i,1]*prodNonHealthy[i-1] for i in 2:N)+ beta*c1*prodNonHealthy[N], pi\n",
    "end"
   ]
  },
  {
   "cell_type": "code",
   "execution_count": 371,
   "id": "804d4962",
   "metadata": {},
   "outputs": [
    {
     "data": {
      "text/plain": [
       "calculateG_DSP (generic function with 1 method)"
      ]
     },
     "execution_count": 371,
     "metadata": {},
     "output_type": "execute_result"
    }
   ],
   "source": [
    "function calculateG_DSP(N,alpha_d, alpha_r, beta, tau, c0, c1, r, dsPolicy)\n",
    "    if dsPolicy == fill(0,N)\n",
    "        return beta*c1\n",
    "    end\n",
    "    S = []\n",
    "    K = 0\n",
    "\n",
    "    #calculate S the set of maintained links and K the number of maintained links\n",
    "    prodNonHealthy = [1.0]\n",
    "    prodNonHealthyCurrent = 1\n",
    "    for i in 1:N\n",
    "        if dsPolicy[i] == 1\n",
    "            push!(S, i)\n",
    "            K+=1\n",
    "        end\n",
    "    end\n",
    "\n",
    "    #calculate p_AD(j in S, j<i) for all i in S, and p_AD(i in S)\n",
    "    for i in S\n",
    "        prodNonHealthyCurrent = prodNonHealthyCurrent*alpha_r[i]/(alpha_r[i] + tau[i])\n",
    "        push!(prodNonHealthy, prodNonHealthyCurrent)\n",
    "    end\n",
    "\n",
    "    #calculate and return g\n",
    "    return sum(r[S[i]]*alpha_r[S[i]]/(alpha_r[S[i]] + tau[S[i]]) + beta*c0[S[i]]*tau[S[i]]*prodNonHealthy[i]/(alpha_r[S[i]] + tau[S[i]]) for i in 1:K) + beta*c1*prodNonHealthy[K+1]\n",
    "end"
   ]
  },
  {
   "cell_type": "code",
   "execution_count": 372,
   "id": "a59ff8dd",
   "metadata": {},
   "outputs": [
    {
     "data": {
      "text/plain": [
       "calculateG_SSP_Homog (generic function with 1 method)"
      ]
     },
     "execution_count": 372,
     "metadata": {},
     "output_type": "execute_result"
    }
   ],
   "source": [
    "function calculateG_SSP_Homog(N,alpha_d, alpha_r, beta, tau, c0, c1, r, lambdaActive, K)\n",
    "    alpha_d = [alpha_d for i in 1:N]\n",
    "    alpha_r = [alpha_r for i in 1:N]\n",
    "    c0 = fill(c0, N)\n",
    "    r = fill(r, N)\n",
    "    lambda = fill(0.0, N)\n",
    "    for i in 1:K\n",
    "        lambda[i] = lambdaActive\n",
    "    end\n",
    "\n",
    "    return calculateG_SSP(N,alpha_d, alpha_r, beta, tau, c0, c1, r, lambda)\n",
    "end"
   ]
  },
  {
   "cell_type": "code",
   "execution_count": 373,
   "id": "7479409f",
   "metadata": {},
   "outputs": [
    {
     "data": {
      "text/plain": [
       "faAction (generic function with 1 method)"
      ]
     },
     "execution_count": 373,
     "metadata": {},
     "output_type": "execute_result"
    }
   ],
   "source": [
    "#Computes the Fully Active action for a given state s\n",
    "function faAction(s)\n",
    "    N = length(s)\n",
    "    a = zeros(Int64,N)\n",
    "    for i in 1:N\n",
    "        if s[i] == 3\n",
    "            a[i] = 1\n",
    "        end\n",
    "    end\n",
    "    return a\n",
    "end"
   ]
  },
  {
   "cell_type": "markdown",
   "id": "9b05d0fc",
   "metadata": {},
   "source": [
    "# Pre-requisite functions for uniformised AVI"
   ]
  },
  {
   "attachments": {},
   "cell_type": "markdown",
   "id": "5c56072f",
   "metadata": {},
   "source": [
    "This section contains functions used within the AVI algorithms"
   ]
  },
  {
   "attachments": {},
   "cell_type": "markdown",
   "id": "476755cd",
   "metadata": {},
   "source": [
    "Given a state-action pair, return the next random pre-decision state, the instant cost, and the updated flows"
   ]
  },
  {
   "cell_type": "code",
   "execution_count": 374,
   "id": "1d157b13",
   "metadata": {},
   "outputs": [
    {
     "data": {
      "text/plain": [
       "updateStateAndFlowsUnif (generic function with 1 method)"
      ]
     },
     "execution_count": 374,
     "metadata": {},
     "output_type": "execute_result"
    }
   ],
   "source": [
    "function updateStateAndFlowsUnif(s,a,N,alpha_d, alpha_r, beta, tau, c0, c1, r, del, flows)\n",
    "    #immediate change\n",
    "    sPrime = s - a\n",
    "    healthy = sum(i == 1 for i in sPrime)\n",
    "    repair = sum(i == 2 for i in sPrime)\n",
    "    damaged = sum(i == 3 for i in sPrime)\n",
    "    \n",
    "    #observe exogenous information\n",
    "    w = rand(Uniform(0, 1))\n",
    "    \n",
    "    #interpret exog info: is it a demand deg, rare deg, or completed repair \n",
    "    found = false\n",
    "    runningTotal = 0\n",
    "    \n",
    "    #demand degs\n",
    "    for k in 1:N\n",
    "        if runningTotal <= w <= runningTotal + flows[k]*alpha_d[k]*del\n",
    "            found = true\n",
    "            sPrime[k] = 3\n",
    "            #println(\"Demand Deg at \"*string.(k))\n",
    "            break\n",
    "        end\n",
    "        runningTotal = runningTotal + flows[k]*alpha_d[k]*del\n",
    "    end\n",
    "    \n",
    "    #rare degs\n",
    "    if found == false\n",
    "        for k in 1:N\n",
    "            if runningTotal <= w <= runningTotal + (s[k]!=3)*alpha_r[k]*del\n",
    "                found = true\n",
    "                sPrime[k] = 3\n",
    "                #println(\"Rare Deg at \"*string.(k))\n",
    "                break\n",
    "            end\n",
    "            runningTotal = runningTotal + alpha_r[k]*del\n",
    "        end\n",
    "    end\n",
    "    \n",
    "    #repairs\n",
    "    if found == false\n",
    "        for k in 1:N\n",
    "            if runningTotal <= w <= runningTotal + (s[k]==2)*tau[k]*del\n",
    "                found = true\n",
    "                sPrime[k] = 1\n",
    "                break\n",
    "            end\n",
    "            runningTotal = runningTotal + (s[k]==2)*tau[k]*del\n",
    "        end\n",
    "    end\n",
    "    \n",
    "    if found == false\n",
    "        #println(\"NO EVENT\")\n",
    "    end\n",
    "    \n",
    "    #update flows\n",
    "    flowUpdate = calculateFlows(sPrime,N,alpha_d, alpha_r, beta, tau, c0, c1, r)\n",
    "    newFlows = flowUpdate[1]\n",
    "    bestCost = flowUpdate[2]\n",
    "    healthy = sum(i == 1 for i in sPrime)\n",
    "    \n",
    "    return sPrime, (beta*bestCost + sum(r[k]*(sPrime[k]==2) for k in 1:N))*del, newFlows\n",
    "end"
   ]
  },
  {
   "attachments": {},
   "cell_type": "markdown",
   "id": "836f070e",
   "metadata": {},
   "source": [
    "Given a state action pair, return the instant cost over the delta timestep."
   ]
  },
  {
   "cell_type": "code",
   "execution_count": 375,
   "id": "685eb320",
   "metadata": {},
   "outputs": [
    {
     "data": {
      "text/plain": [
       "instantCostUnif (generic function with 1 method)"
      ]
     },
     "execution_count": 375,
     "metadata": {},
     "output_type": "execute_result"
    }
   ],
   "source": [
    "#instant cost over the timestep\n",
    "function instantCostUnif(s,a,N,alpha_d, alpha_r, beta, tau, c0, c1, r, del)\n",
    "    #immediate change\n",
    "    sPrime = s - a\n",
    "    healthy = sum(sPrime[i] == 1 for i in 1:N)\n",
    "    repair = sum(sPrime[i] == 2 for i in 1:N)\n",
    "    damaged = sum(sPrime[i] == 3 for i in 1:N)\n",
    "    \n",
    "    #update flows\n",
    "    flowUpdate = calculateFlows(sPrime,N,alpha_d, alpha_r, beta, tau, c0, c1, r)\n",
    "    newFlows = flowUpdate[1]\n",
    "    bestCost = flowUpdate[2]\n",
    "    \n",
    "    return (beta*bestCost + sum(r[k]*(sPrime[k]==2) for k in 1:N))*del\n",
    "end"
   ]
  },
  {
   "attachments": {},
   "cell_type": "markdown",
   "id": "f587fd5b",
   "metadata": {},
   "source": [
    "# Pre-requisite functions for SMARVI"
   ]
  },
  {
   "attachments": {},
   "cell_type": "markdown",
   "id": "2008a2c4",
   "metadata": {},
   "source": [
    "Helper functions for the SMARVI algorithms"
   ]
  },
  {
   "attachments": {},
   "cell_type": "markdown",
   "id": "a1f36cda",
   "metadata": {},
   "source": [
    "Given a state-action pair and pre-calculated flows, return the expected sojourn time for the state-action pair."
   ]
  },
  {
   "cell_type": "code",
   "execution_count": 376,
   "id": "1506350d",
   "metadata": {},
   "outputs": [
    {
     "data": {
      "text/plain": [
       "sojournTime (generic function with 1 method)"
      ]
     },
     "execution_count": 376,
     "metadata": {},
     "output_type": "execute_result"
    }
   ],
   "source": [
    "#Calculate the expected sojourn time of a state-action pair\n",
    "function sojournTime(s, a, flows, N, alpha_d, alpha_r, beta, tau)\n",
    "    s = s - a\n",
    "    if s == fill(3,N)\n",
    "        return 1/(beta*sum(alpha_d) + sum(alpha_r) + sum(tau))\n",
    "    end\n",
    "    \n",
    "    \n",
    "    totalRate = sum(flows[i]*alpha_d[i] + alpha_r[i]*(s[i]!=3) + tau[i]*(s[i]==2) for i in 1:N)\n",
    "    \n",
    "    return 1/totalRate\n",
    "end"
   ]
  },
  {
   "attachments": {},
   "cell_type": "markdown",
   "id": "bb2c6d2b",
   "metadata": {},
   "source": [
    "Given a state-action pair and flows, calculate the expected cost accumulated until a transition occurs, or calculate the simulated cost accumulated over a simulated time del."
   ]
  },
  {
   "cell_type": "code",
   "execution_count": 377,
   "id": "66c5307b",
   "metadata": {},
   "outputs": [
    {
     "data": {
      "text/plain": [
       "instantCostCont (generic function with 1 method)"
      ]
     },
     "execution_count": 377,
     "metadata": {},
     "output_type": "execute_result"
    }
   ],
   "source": [
    "#calculate the expected cost accumulated until a transition \n",
    "function instantCostCont(s,a,N,alpha_d, alpha_r, beta, tau, c0, c1, r, flows; del = 0)\n",
    "    if del == 0\n",
    "        del = sojournTime(s, a, flows, N, alpha_d, alpha_r, beta, tau)\n",
    "    end\n",
    "    \n",
    "    return instantCostUnif(s,a,N,alpha_d, alpha_r, beta, tau, c0, c1, r, del)\n",
    "end"
   ]
  },
  {
   "attachments": {},
   "cell_type": "markdown",
   "id": "8ecc13f2",
   "metadata": {},
   "source": [
    "Given a state-action pair, return the next random pre-decision state, the cost accumulated over the sojourn time, and the updated flows"
   ]
  },
  {
   "cell_type": "code",
   "execution_count": 378,
   "id": "b4dfb647",
   "metadata": {},
   "outputs": [
    {
     "data": {
      "text/plain": [
       "updateStateAndFlowsCont (generic function with 1 method)"
      ]
     },
     "execution_count": 378,
     "metadata": {},
     "output_type": "execute_result"
    }
   ],
   "source": [
    "function updateStateAndFlowsCont(s,a,N,alpha_d, alpha_r, beta, tau, c0, c1, r, flows)\n",
    "    #immediate change\n",
    "    sPrime = s - a\n",
    "    sOld = copy(sPrime)\n",
    "    flowsOld = copy(flows)\n",
    "    healthy = sum(i == 1 for i in sPrime)\n",
    "    repair = sum(i == 2 for i in sPrime)\n",
    "    damaged = sum(i == 3 for i in sPrime)\n",
    "    \n",
    "    #deal with all-damaged edge case\n",
    "    if sPrime == fill(3, N)\n",
    "        del = 1/(sum(beta*alpha_d) + sum(alpha_r) + tau(N))\n",
    "        return sPrime, beta*c1*del, flows, del\n",
    "    end\n",
    "\n",
    "    #create list of events (degradations for all non-damaged links and repair events for all repairing links) and list of rates\n",
    "    events = [i for i in 1:N if sPrime[i]!=3]\n",
    "    eventsRep = [N + i for i in 1:N if sPrime[i] == 2]\n",
    "    append!(events, eventsRep)\n",
    "\n",
    "    rates = [flows[i]*alpha_d[i] + alpha_r[i] for i in 1:N if sPrime[i]!=3]\n",
    "    ratesRep = [tau[i] for i in 1:N if sPrime[i] == 2]\n",
    "    append!(rates, ratesRep)\n",
    "\n",
    "    #sample event\n",
    "    del = 1/sum(rates)\n",
    "    event = wsample(events, rates)\n",
    "\n",
    "    #if event >= N+1, it's a repair, otherwise it's a degradation\n",
    "    if event >= N + 1 \n",
    "        sPrime[event - N] = 1\n",
    "    else\n",
    "        sPrime[event] = 3\n",
    "    end\n",
    "    \n",
    "    #update flows\n",
    "    flowUpdate = calculateFlows(sPrime,N,alpha_d, alpha_r, beta, tau, c0, c1, r)\n",
    "    newFlows = flowUpdate[1]\n",
    "    bestCost = flowUpdate[2]\n",
    "    \n",
    "    return sPrime, (beta*c1*(healthy == 0) + sum(flowsOld[k]*c0[k] + r[k]*(sOld[k]==2) for k in 1:N))*del, newFlows, del\n",
    "end"
   ]
  },
  {
   "attachments": {},
   "cell_type": "markdown",
   "id": "620585dd",
   "metadata": {},
   "source": [
    "Generate random action for e-greedy algorithms"
   ]
  },
  {
   "cell_type": "code",
   "execution_count": 379,
   "id": "d2fd2e39",
   "metadata": {},
   "outputs": [
    {
     "data": {
      "text/plain": [
       "randomActionAllDamaged (generic function with 1 method)"
      ]
     },
     "execution_count": 379,
     "metadata": {},
     "output_type": "execute_result"
    }
   ],
   "source": [
    "#Calculate random action for e-greedy algorithms\n",
    "function randomAction(s,N)\n",
    "    #deal with all-damaged case\n",
    "    if s == fill(3,N)\n",
    "        return randomActionAllDamaged(N)\n",
    "    end\n",
    "\n",
    "    damaged = [0]\n",
    "    for i in 1:N\n",
    "        if s[i] == 3\n",
    "            append!(damaged, [i])\n",
    "        end\n",
    "    end\n",
    "            \n",
    "    choice = sample(damaged)\n",
    "    optA = zeros(Int64, N)\n",
    "    if choice == 0\n",
    "        return optA\n",
    "    else\n",
    "        optA[choice] = 1\n",
    "        return optA\n",
    "    end\n",
    "end\n",
    "\n",
    "#calculate random action for [3,3...,3] state\n",
    "function randomActionAllDamaged(N)\n",
    "    choice = sample(1:N)\n",
    "    a = zeros(Int64, N)\n",
    "    a[choice] = 1\n",
    "    return a\n",
    "end"
   ]
  },
  {
   "cell_type": "markdown",
   "id": "98eaa235",
   "metadata": {},
   "source": [
    "# Pre-requisite Functions for Exact DP on Homogeneous Problems "
   ]
  },
  {
   "attachments": {},
   "cell_type": "markdown",
   "id": "d7b7c104",
   "metadata": {},
   "source": [
    "Helper functions for Homogeneous Exact DP"
   ]
  },
  {
   "attachments": {},
   "cell_type": "markdown",
   "id": "a1801225",
   "metadata": {},
   "source": [
    "Calculates instant cost for homogeneous problem"
   ]
  },
  {
   "cell_type": "code",
   "execution_count": 380,
   "id": "22678b0d",
   "metadata": {},
   "outputs": [
    {
     "data": {
      "text/plain": [
       "instantCostHomog (generic function with 1 method)"
      ]
     },
     "execution_count": 380,
     "metadata": {},
     "output_type": "execute_result"
    }
   ],
   "source": [
    "#instant cost function strictly for homogeneous problem\n",
    "function instantCostHomog(i1,i2,a,N,alpha_d, alpha_r, beta, tau, c0, c1, r, del)\n",
    "    #immediate change\n",
    "    i1Prime = i1 - a\n",
    "    i2Prime = i2 + a\n",
    "    \n",
    "    #if no links are healthy, return \n",
    "    if N - i1 - i2 == 0\n",
    "        return (beta*c1 + r*i2Prime)*del\n",
    "    end\n",
    "    \n",
    "    \n",
    "    return (beta*c0 + r*i2Prime)*del\n",
    "end"
   ]
  },
  {
   "attachments": {},
   "cell_type": "markdown",
   "id": "94e504b7",
   "metadata": {},
   "source": [
    "Given state (i_1, i_2) and action a, calculates the expected next value function after one timestep"
   ]
  },
  {
   "cell_type": "code",
   "execution_count": 381,
   "id": "a17eacf7",
   "metadata": {},
   "outputs": [
    {
     "data": {
      "text/plain": [
       "expectedNextValueHomog (generic function with 1 method)"
      ]
     },
     "execution_count": 381,
     "metadata": {},
     "output_type": "execute_result"
    }
   ],
   "source": [
    "#calculates E(h(s')) from s,a strictly for a homogeneous problem\n",
    "function expectedNextValueHomog(i1,i2, h, a,N,alpha_d, alpha_r, beta, tau, c0, c1, r, del)\n",
    "    #immediate change\n",
    "    i1Prime = i1 - a\n",
    "    i2Prime = i2 + a\n",
    "    thisH = h[i1+1,i2+1]\n",
    "    \n",
    "    #if all are damaged\n",
    "    if i1Prime == N\n",
    "        return thisH\n",
    "    end\n",
    "    \n",
    "    #if none are healthy\n",
    "    if N - i1 - i2 == 0\n",
    "        return thisH + tau*i2Prime*del*(h[i1Prime+1,i2Prime-1+1] - thisH) + i2Prime*del*alpha_r*(h[i1Prime+1+1, i2Prime-1+1] - thisH)\n",
    "    end\n",
    "    \n",
    "    #if none are repairing\n",
    "    if i2Prime == 0\n",
    "        return thisH + (beta*alpha_d + (N - i1 - i2)*alpha_r)*del*(h[i1Prime+1+1,i2Prime+1] - thisH)\n",
    "    end\n",
    "    \n",
    "    return thisH + (beta*alpha_d + (N - i1 - i2)*alpha_r)*del*(h[i1Prime+1+1,i2Prime+1] - thisH) + i2Prime*alpha_r*del*(h[i1Prime+1+1,i2Prime-1+1] - thisH) + tau*i2Prime*del*(h[i1Prime+1,i2Prime-1+1] - thisH)\n",
    "end"
   ]
  },
  {
   "attachments": {},
   "cell_type": "markdown",
   "id": "68c7af12",
   "metadata": {},
   "source": [
    "Given state (i_1,i_2) and value function h, calculates and returns the best action for the state using full expectations."
   ]
  },
  {
   "cell_type": "code",
   "execution_count": 382,
   "id": "beeb2b35",
   "metadata": {},
   "outputs": [
    {
     "data": {
      "text/plain": [
       "piActionHomog (generic function with 1 method)"
      ]
     },
     "execution_count": 382,
     "metadata": {},
     "output_type": "execute_result"
    }
   ],
   "source": [
    "#calculates the exact PI action strictly for a homogeneous problem\n",
    "function piActionHomog(i1, i2, h, N, alpha_d, alpha_r, beta, tau, c0, c1, r, del; forceActive = false)\n",
    "    if i1 == 0\n",
    "        return 0\n",
    "    end\n",
    "    \n",
    "    if i1 == N && forceActive\n",
    "        optA = 1\n",
    "        optH = instantCostHomog(i1,i2,optA,N,alpha_d, alpha_r, beta, tau, c0, c1, r, del) + expectedNextValueHomog(i1,i2, h, optA,N,alpha_d, alpha_r, beta, tau, c0, c1, r, del)\n",
    "        for a in 2:i1\n",
    "            testH = instantCostHomog(i1,i2,a,N,alpha_d, alpha_r, beta, tau, c0, c1, r, del) + expectedNextValueHomog(i1,i2, h,a,N,alpha_d, alpha_r, beta, tau, c0, c1, r, del)\n",
    "            if testH <= optH\n",
    "                optA = a\n",
    "                optH = testH\n",
    "            end\n",
    "        end\n",
    "        return optA\n",
    "    end\n",
    "    \n",
    "    optA = 0\n",
    "    optH = instantCostHomog(i1,i2,optA,N,alpha_d, alpha_r, beta, tau, c0, c1, r, del) + expectedNextValueHomog(i1,i2, h, optA,N,alpha_d, alpha_r, beta, tau, c0, c1, r, del)\n",
    "    for a in 1:i1\n",
    "        testH = instantCostHomog(i1,i2,a,N,alpha_d, alpha_r, beta, tau, c0, c1, r, del) + expectedNextValueHomog(i1,i2, h,a,N,alpha_d, alpha_r, beta, tau, c0, c1, r, del)\n",
    "        if testH <= optH\n",
    "            optA = a\n",
    "            optH = testH\n",
    "        end\n",
    "    end\n",
    "    \n",
    "    return optA\n",
    "end"
   ]
  },
  {
   "attachments": {},
   "cell_type": "markdown",
   "id": "71928099",
   "metadata": {},
   "source": [
    "Similar to above, but uses the approximation Q(s,a) = h(s+a) for a!=0"
   ]
  },
  {
   "cell_type": "code",
   "execution_count": 383,
   "id": "b58a1177",
   "metadata": {},
   "outputs": [
    {
     "data": {
      "text/plain": [
       "piActionHomogApprox (generic function with 1 method)"
      ]
     },
     "execution_count": 383,
     "metadata": {},
     "output_type": "execute_result"
    }
   ],
   "source": [
    "#calculates the approx PI action based on instantaneous approximation, strictly for a homogeneous problem\n",
    "function piActionHomogApprox(i1, i2, h, N, alpha_d, alpha_r, beta, tau, c0, c1, r, del, g; forceActive = false)\n",
    "    #deal with \"nothing damaged\" edge case\n",
    "    if i1 == 0\n",
    "        return 0\n",
    "    end\n",
    "    \n",
    "    #deal with \"everything damaged\" edge case\n",
    "    if i1 == N && forceActive\n",
    "        optA = 1\n",
    "        optH = h[i1-optA+1,i2+optA+1]\n",
    "        for a in 2:i1\n",
    "            testH = h[i1-a+1,i2+a+1]\n",
    "            if testH <= optH\n",
    "                optA = a\n",
    "                optH = testH\n",
    "            end\n",
    "        end\n",
    "        return optA\n",
    "    end\n",
    "    \n",
    "    optA = 0\n",
    "    optH = instantCostHomog(i1,i2,optA,N,alpha_d, alpha_r, beta, tau, c0, c1, r, del) + expectedNextValueHomog(i1,i2, h, optA,N,alpha_d, alpha_r, beta, tau, c0, c1, r, del) - g*del\n",
    "    for a in 1:i1\n",
    "        testH = h[i1-a+1,i2+a+1]\n",
    "        if testH <= optH\n",
    "            optA = a\n",
    "            optH = testH\n",
    "        end\n",
    "    end\n",
    "    \n",
    "    return optA\n",
    "end"
   ]
  },
  {
   "attachments": {},
   "cell_type": "markdown",
   "id": "f8ab05cf",
   "metadata": {},
   "source": [
    "Given h, constructs optimal policy using exact PI method"
   ]
  },
  {
   "cell_type": "code",
   "execution_count": 384,
   "id": "6335a065",
   "metadata": {},
   "outputs": [
    {
     "data": {
      "text/plain": [
       "piPolicyHomog (generic function with 1 method)"
      ]
     },
     "execution_count": 384,
     "metadata": {},
     "output_type": "execute_result"
    }
   ],
   "source": [
    "#calculates the exact PI policy strictly for a homogeneous problem\n",
    "function piPolicyHomog(h, N, alpha_d, alpha_r, beta, tau, c0, c1, r, del; forceActive = false)\n",
    "    policy = zeros(Int64, N+1, N+1)\n",
    "    for i1 in 0:N\n",
    "        for i2 in 0:(N - i1)\n",
    "            policy[i1+1,i2+1] = piActionHomog(i1, i2, h, N, alpha_d, alpha_r, beta, tau, c0, c1, r, del; forceActive = forceActive)\n",
    "        end\n",
    "    end\n",
    "    \n",
    "    return policy\n",
    "end"
   ]
  },
  {
   "attachments": {},
   "cell_type": "markdown",
   "id": "34525984",
   "metadata": {},
   "source": [
    "Given h, constructs optimal policy using Q(s,a) = h(s,a) for a!=0 approximation"
   ]
  },
  {
   "cell_type": "code",
   "execution_count": 385,
   "id": "404bfec4",
   "metadata": {},
   "outputs": [
    {
     "data": {
      "text/plain": [
       "piPolicyHomogApprox (generic function with 1 method)"
      ]
     },
     "execution_count": 385,
     "metadata": {},
     "output_type": "execute_result"
    }
   ],
   "source": [
    "#calculates the approx PI policy based on instantaneous approximation, strictly for a homogeneous problem\n",
    "function piPolicyHomogApprox(h, N, alpha_d, alpha_r, beta, tau, c0, c1, r, del, g; forceActive = false)\n",
    "    policy = zeros(Int64, N+1, N+1)\n",
    "    for i1 in 0:N\n",
    "        for i2 in 0:(N - i1)\n",
    "            policy[i1+1,i2+1] = piActionHomogApprox(i1, i2, h, N, alpha_d, alpha_r, beta, tau, c0, c1, r, del, g; forceActive = forceActive)\n",
    "        end\n",
    "    end\n",
    "    \n",
    "    return policy\n",
    "end"
   ]
  },
  {
   "attachments": {},
   "cell_type": "markdown",
   "id": "905b77bf",
   "metadata": {},
   "source": [
    "Constructs a h table from a VFA"
   ]
  },
  {
   "cell_type": "code",
   "execution_count": 386,
   "id": "42156f95",
   "metadata": {},
   "outputs": [
    {
     "data": {
      "text/plain": [
       "hFromVFAHomog (generic function with 1 method)"
      ]
     },
     "execution_count": 386,
     "metadata": {},
     "output_type": "execute_result"
    }
   ],
   "source": [
    "function hFromVFAHomog(N, params, features)\n",
    "    #construct hIn table\n",
    "    hIn = zeros(Float64, N+1, N+1)\n",
    "    for i1 in 0:N\n",
    "        for i2 in 0:(N - i1)\n",
    "            s = fill(1,N)\n",
    "            if i1 > 0\n",
    "                for i in 1:i1\n",
    "                    s[i] = 3\n",
    "                end\n",
    "            end\n",
    "            \n",
    "            if i2 > 0\n",
    "                for i in (i1+1):(i1+i2)\n",
    "                    s[i] = 2\n",
    "                end\n",
    "            end\n",
    "            \n",
    "            hIn[i1+1,i2+1] = v(s, params, features)\n",
    "        end\n",
    "    end\n",
    "    \n",
    "    return hIn\n",
    "end"
   ]
  },
  {
   "cell_type": "markdown",
   "id": "74c11abe",
   "metadata": {},
   "source": [
    "# Exact DP for Homogeneous problem"
   ]
  },
  {
   "attachments": {},
   "cell_type": "markdown",
   "id": "0fc32308",
   "metadata": {},
   "source": [
    "Actual DP algorithms "
   ]
  },
  {
   "attachments": {},
   "cell_type": "markdown",
   "id": "99f7e6cf",
   "metadata": {},
   "source": [
    "Given a h table, performs PE on PI policy derived from h, and returns g, h, n (number of iterations), and the PI policy"
   ]
  },
  {
   "cell_type": "code",
   "execution_count": 387,
   "id": "fc148338",
   "metadata": {},
   "outputs": [
    {
     "data": {
      "text/plain": [
       "rpiHomog (generic function with 1 method)"
      ]
     },
     "execution_count": 387,
     "metadata": {},
     "output_type": "execute_result"
    }
   ],
   "source": [
    "#Evaluates a PI policy based on a given exact h function, strictly for a homogeneous problem \n",
    "function rpiHomog(N::Int64, hIn, alpha_d::Float64, alpha_r::Float64, beta::Float64, tau, c0::Float64, c1::Float64, r::Float64, epsilon::Float64; nMax = 0, delScale = 1, forceActive = false)\n",
    "    #calculate stepsize and initialise h,w,and policy vectors\n",
    "    del = 1/(delScale*(beta*alpha_d + N*alpha_r + N*tau))\n",
    "    h = zeros(Float64, N+1, N+1)\n",
    "    w = zeros(Float64, N+1, N+1)\n",
    "    policy = piPolicyHomog(hIn, N, alpha_d, alpha_r, beta, tau, c0, c1, r, del; forceActive = forceActive)\n",
    "    n = 0\n",
    "    #repeat until epsilion-convergence or n = nMax\n",
    "    while true\n",
    "        n = n + 1\n",
    "        #calculate new w values\n",
    "        for i1 in 0:N\n",
    "            for i2 in 0:(N - i1)\n",
    "                a = policy[i1+1,i2+1]\n",
    "                w[i1+1,i2+1] = instantCostHomog(i1,i2,a,N,alpha_d, alpha_r, beta, tau, c0, c1, r, del) + expectedNextValueHomog(i1,i2, h, a,N,alpha_d, alpha_r, beta, tau, c0, c1, r, del)\n",
    "            end\n",
    "        end\n",
    "        \n",
    "        \n",
    "        #calculate new relative values\n",
    "        hNew = zeros(Float64, N+1, N+1)\n",
    "        for i1 in 0:N\n",
    "            for i2 in 0:(N - i1)\n",
    "                hNew[i1+1,i2+1] = w[i1+1,i2+1] - w[1,1]\n",
    "            end\n",
    "        end\n",
    "        \n",
    "        #check for convergence\n",
    "        deltas = zeros(Float64, N+1, N+1)\n",
    "        for i1 in 0:N\n",
    "            for i2 in 0:N-i1\n",
    "                deltas[i1+1,i2+1] = hNew[i1+1,i2+1] - h[i1+1,i2+1]\n",
    "            end\n",
    "        end\n",
    "        \n",
    "        h = hNew\n",
    "        if maximum(deltas) < epsilon || n == nMax\n",
    "            break\n",
    "        end\n",
    "    end\n",
    "    \n",
    "    v = beta*c0*del + (beta*alpha_d + (N)*alpha_r)*del*h[1+1,0+1] + (1 - (beta*alpha_d + (N)*alpha_r)*del)*h[0+1,0+1]\n",
    "    \n",
    "    return v/del, h, n, policy\n",
    "end"
   ]
  },
  {
   "attachments": {},
   "cell_type": "markdown",
   "id": "0b8046e6",
   "metadata": {},
   "source": [
    "Performs PE on the fully active policy"
   ]
  },
  {
   "cell_type": "code",
   "execution_count": 388,
   "id": "e39012f7",
   "metadata": {},
   "outputs": [
    {
     "data": {
      "text/plain": [
       "rpeFAHomog (generic function with 1 method)"
      ]
     },
     "execution_count": 388,
     "metadata": {},
     "output_type": "execute_result"
    }
   ],
   "source": [
    "#Evaluates the fully active policy, strictly for a homogeneous problem \n",
    "function rpeFAHomog(N::Int64, alpha_d::Float64, alpha_r::Float64, beta::Float64, tau, c0::Float64, c1::Float64, r::Float64, epsilon::Float64; nMax = 0, delScale = 1, forceActive = false)\n",
    "    #calculate stepsize and initialise h,w,and policy vectors\n",
    "    del = 1/(delScale*(beta*alpha_d + N*alpha_r + N*tau))\n",
    "    h = zeros(Float64, N+1, N+1)\n",
    "    w = zeros(Float64, N+1, N+1)\n",
    "    n = 0\n",
    "    #repeat until epsilion-convergence or n = nMax\n",
    "    while true\n",
    "        n = n + 1\n",
    "        #calculate new w values\n",
    "        for i1 in 0:N\n",
    "            for i2 in 0:(N - i1)\n",
    "                a = i1\n",
    "                w[i1+1,i2+1] = instantCostHomog(i1,i2,a,N,alpha_d, alpha_r, beta, tau, c0, c1, r, del) + expectedNextValueHomog(i1,i2, h, a,N,alpha_d, alpha_r, beta, tau, c0, c1, r, del)\n",
    "            end\n",
    "        end\n",
    "        \n",
    "        \n",
    "        #calculate new relative values\n",
    "        hNew = zeros(Float64, N+1, N+1)\n",
    "        for i1 in 0:N\n",
    "            for i2 in 0:(N - i1)\n",
    "                hNew[i1+1,i2+1] = w[i1+1,i2+1] - w[1,1]\n",
    "            end\n",
    "        end\n",
    "        \n",
    "        #check for convergence\n",
    "        deltas = zeros(Float64, N+1, N+1)\n",
    "        for i1 in 0:N\n",
    "            for i2 in 0:N-i1\n",
    "                deltas[i1+1,i2+1] = hNew[i1+1,i2+1] - h[i1+1,i2+1]\n",
    "            end\n",
    "        end\n",
    "        \n",
    "        h = hNew\n",
    "        if maximum(deltas) < epsilon || n == nMax\n",
    "            break\n",
    "        end\n",
    "    end\n",
    "    \n",
    "    v = beta*c0*del + (beta*alpha_d + (N)*alpha_r)*del*h[1+1,0+1] + (1 - (beta*alpha_d + (N)*alpha_r)*del)*h[0+1,0+1]\n",
    "    \n",
    "    return v/del, h, n\n",
    "end"
   ]
  },
  {
   "attachments": {},
   "cell_type": "markdown",
   "id": "4c051660",
   "metadata": {},
   "source": [
    "Similar to rpiHomog, but uses Q(s,a) = h(s,a) approximation for PI step."
   ]
  },
  {
   "cell_type": "code",
   "execution_count": 389,
   "id": "964c01ac",
   "metadata": {},
   "outputs": [
    {
     "data": {
      "text/plain": [
       "rpiHomogApprox (generic function with 1 method)"
      ]
     },
     "execution_count": 389,
     "metadata": {},
     "output_type": "execute_result"
    }
   ],
   "source": [
    "#Evaluates an approximate PI policy based on a given exact h function and instananeous actions, strictly for a homogeneous problem \n",
    "function rpiHomogApprox(N::Int64, hIn, alpha_d::Float64, alpha_r::Float64, beta::Float64, tau, c0::Float64, c1::Float64, r::Float64, epsilon::Float64, g::Float64; nMax = 0, delScale = 1, forceActive = false)\n",
    "    #calculate stepsize and initialise h,w,and policy vectors\n",
    "    del = 1/(delScale*(beta*alpha_d + N*alpha_r + N*tau))\n",
    "    h = zeros(Float64, N+1, N+1)\n",
    "    w = zeros(Float64, N+1, N+1)\n",
    "    policy = piPolicyHomogApprox(hIn, N, alpha_d, alpha_r, beta, tau, c0, c1, r, del, g; forceActive = forceActive)\n",
    "    n = 0\n",
    "    #repeat until epsilion-convergence or n = nMax\n",
    "    while true\n",
    "        n = n + 1\n",
    "        #calculate new w values\n",
    "        for i1 in 0:N\n",
    "            for i2 in 0:(N - i1)\n",
    "                a = policy[i1+1,i2+1]\n",
    "                w[i1+1,i2+1] = instantCostHomog(i1,i2,a,N,alpha_d, alpha_r, beta, tau, c0, c1, r, del) + expectedNextValueHomog(i1,i2, h, a,N,alpha_d, alpha_r, beta, tau, c0, c1, r, del)\n",
    "            end\n",
    "        end\n",
    "        \n",
    "        \n",
    "        #calculate new relative values\n",
    "        hNew = zeros(Float64, N+1, N+1)\n",
    "        for i1 in 0:N\n",
    "            for i2 in 0:(N - i1)\n",
    "                hNew[i1+1,i2+1] = w[i1+1,i2+1] - w[1,1]\n",
    "            end\n",
    "        end\n",
    "        \n",
    "        #check for convergence\n",
    "        deltas = zeros(Float64, N+1, N+1)\n",
    "        for i1 in 0:N\n",
    "            for i2 in 0:N-i1\n",
    "                deltas[i1+1,i2+1] = hNew[i1+1,i2+1] - h[i1+1,i2+1]\n",
    "            end\n",
    "        end\n",
    "        \n",
    "        h = hNew\n",
    "        if maximum(deltas) < epsilon || n == nMax\n",
    "            break\n",
    "        end\n",
    "    end\n",
    "    \n",
    "    v = beta*c0*del + (beta*alpha_d + (N)*alpha_r)*del*h[1+1,0+1] + (1 - (beta*alpha_d + (N)*alpha_r)*del)*h[0+1,0+1]\n",
    "    \n",
    "    return v/del, h, n, policy\n",
    "end"
   ]
  },
  {
   "attachments": {},
   "cell_type": "markdown",
   "id": "690683ed",
   "metadata": {},
   "source": [
    "Performs RVIA"
   ]
  },
  {
   "cell_type": "code",
   "execution_count": 390,
   "id": "939c3f20",
   "metadata": {},
   "outputs": [
    {
     "data": {
      "text/plain": [
       "rviHomog (generic function with 1 method)"
      ]
     },
     "execution_count": 390,
     "metadata": {},
     "output_type": "execute_result"
    }
   ],
   "source": [
    "#Performs RVIA \n",
    "function rviHomog(N::Int64, alpha_d::Float64, alpha_r::Float64, beta::Float64, tau, c0::Float64, c1::Float64, r::Float64, epsilon::Float64; nMax = 0, delScale = 1, forceActive = false)\n",
    "    #calculate stepsize and initialise h,w,and policy vectors\n",
    "    del = 1/(delScale*(beta*alpha_d + N*alpha_r + N*tau))\n",
    "    h = zeros(Float64, N+1, N+1)\n",
    "    w = zeros(Float64, N+1, N+1)\n",
    "    n = 0\n",
    "    #repeat until epsilion-convergence or n = nMax\n",
    "    while true\n",
    "        n = n + 1\n",
    "        #calculate new w values\n",
    "        for i1 in 0:N\n",
    "            for i2 in 0:(N - i1)\n",
    "                a = piActionHomog(i1, i2, h, N, alpha_d, alpha_r, beta, tau, c0, c1, r, del; forceActive = forceActive)\n",
    "                w[i1+1,i2+1] = instantCostHomog(i1,i2,a,N,alpha_d, alpha_r, beta, tau, c0, c1, r, del) + expectedNextValueHomog(i1,i2, h, a,N,alpha_d, alpha_r, beta, tau, c0, c1, r, del)\n",
    "            end\n",
    "        end\n",
    "        \n",
    "        \n",
    "        #calculate new relative values\n",
    "        hNew = zeros(Float64, N+1, N+1)\n",
    "        for i1 in 0:N\n",
    "            for i2 in 0:(N - i1)\n",
    "                hNew[i1+1,i2+1] = w[i1+1,i2+1] - w[1,1]\n",
    "            end\n",
    "        end\n",
    "        \n",
    "        #check for convergence\n",
    "        deltas = zeros(Float64, N+1, N+1)\n",
    "        for i1 in 0:N\n",
    "            for i2 in 0:N-i1\n",
    "                deltas[i1+1,i2+1] = hNew[i1+1,i2+1] - h[i1+1,i2+1]\n",
    "            end\n",
    "        end\n",
    "        \n",
    "        h = hNew\n",
    "        if maximum(deltas) < epsilon || n == nMax\n",
    "            break\n",
    "        end\n",
    "    end\n",
    "    \n",
    "    v = beta*c0*del + (beta*alpha_d + (N)*alpha_r)*del*h[1+1,0+1] + (1 - (beta*alpha_d + (N)*alpha_r)*del)*h[0+1,0+1]\n",
    "    \n",
    "    return v/del, h, n, piPolicyHomog(h, N, alpha_d, alpha_r, beta, tau, c0, c1, r, del; forceActive = false)\n",
    "end"
   ]
  },
  {
   "cell_type": "markdown",
   "id": "f60b3849",
   "metadata": {},
   "source": [
    "# Pre-requisite Functions for Exact DP on Inhomogeneous Problems"
   ]
  },
  {
   "attachments": {},
   "cell_type": "markdown",
   "id": "a1e53ece",
   "metadata": {},
   "source": [
    "Helper functions for inhomogeneous exact DP"
   ]
  },
  {
   "attachments": {},
   "cell_type": "markdown",
   "id": "14ea586f",
   "metadata": {},
   "source": [
    "Given a state-action pair and h, calculates the expected next value of the value function after one timestep."
   ]
  },
  {
   "cell_type": "code",
   "execution_count": 391,
   "id": "d45adbd8",
   "metadata": {},
   "outputs": [
    {
     "data": {
      "text/plain": [
       "expectedNextValueExact (generic function with 1 method)"
      ]
     },
     "execution_count": 391,
     "metadata": {},
     "output_type": "execute_result"
    }
   ],
   "source": [
    "#calculates E(h(s')) from s,a using exact h table\n",
    "function expectedNextValueExact(s,a,N,alpha_d, alpha_r, beta, tau, c0, c1, r, del, h)\n",
    "    #immediate change\n",
    "    sPrime = s - a\n",
    "    healthy = sum(i == 1 for i in sPrime)\n",
    "    repair = sum(i == 2 for i in sPrime)\n",
    "    damaged = sum(i == 3 for i in sPrime)\n",
    "    \n",
    "    runningTotal = 0.0\n",
    "    runningTotalProb = 0.0\n",
    "    \n",
    "    flows = zeros(Float64, N)\n",
    "    if healthy > 0\n",
    "        #otherwise, find best route, and return\n",
    "        bestCost = maximum(c0) + 1\n",
    "        usedLink = 0\n",
    "        for k in 1:N\n",
    "            if sPrime[k] == 1 && c0[k] < bestCost\n",
    "                bestCost = c0[k]\n",
    "                usedLink = k\n",
    "            end \n",
    "        end\n",
    "        \n",
    "        flows[usedLink] = beta\n",
    "    end\n",
    "    \n",
    "    \n",
    "    #demand degs\n",
    "    for k in 1:N\n",
    "        sNext = copy(sPrime)\n",
    "        sNext[k] = 3\n",
    "        runningTotal += flows[k]*alpha_d[k]*del*h[sNext]\n",
    "        runningTotalProb += flows[k]*alpha_d[k]*del\n",
    "    end\n",
    "    \n",
    "    #rare degs\n",
    "    for k in 1:N\n",
    "        if sPrime[k] != 3\n",
    "            sNext = copy(sPrime)\n",
    "            sNext[k] = 3\n",
    "            runningTotal += alpha_r[k]*del*h[sNext]\n",
    "            runningTotalProb += alpha_r[k]*del\n",
    "        end\n",
    "    end\n",
    "    \n",
    "    #repairs\n",
    "    for k in 1:N\n",
    "        if sPrime[k] == 2\n",
    "            sNext = copy(sPrime)\n",
    "            sNext[k] = 1\n",
    "            runningTotal += tau[k]*del*h[sNext]\n",
    "            runningTotalProb += tau[k]*del\n",
    "        end\n",
    "    end\n",
    "    \n",
    "    return runningTotal + (1 - runningTotalProb)*h[sPrime]\n",
    "end "
   ]
  },
  {
   "attachments": {},
   "cell_type": "markdown",
   "id": "6f2dad95",
   "metadata": {},
   "source": [
    "Given a state and a h table, calculates the PI action for s."
   ]
  },
  {
   "cell_type": "code",
   "execution_count": 392,
   "id": "4b71c013",
   "metadata": {},
   "outputs": [
    {
     "data": {
      "text/plain": [
       "piActionExact (generic function with 1 method)"
      ]
     },
     "execution_count": 392,
     "metadata": {},
     "output_type": "execute_result"
    }
   ],
   "source": [
    "#calculates PI action using exact h table\n",
    "function piActionExact(s, h, N, alpha_d, alpha_r, beta, tau, c0, c1, r, del)\n",
    "    if s == fill(1, N)\n",
    "        return zeros(Int64, N)\n",
    "    end\n",
    "    \n",
    "    optA = zeros(Int64, N)\n",
    "    optH = instantCostUnif(s,optA,N,alpha_d, alpha_r, beta, tau, c0, c1, r, del) + expectedNextValueExact(s, optA,N,alpha_d, alpha_r, beta, tau, c0, c1, r, del,h)\n",
    "    for i in 1:N\n",
    "        if s[i] == 3\n",
    "            a = zeros(Int64,N)\n",
    "            a[i] = 1\n",
    "            testH = instantCostUnif(s,a,N,alpha_d, alpha_r, beta, tau, c0, c1, r, del) + expectedNextValueExact(s, a,N,alpha_d, alpha_r, beta, tau, c0, c1, r, del,h)\n",
    "            if testH < optH\n",
    "                optA = a\n",
    "                optH = testH\n",
    "            end\n",
    "        end\n",
    "    end\n",
    "    return optA\n",
    "end"
   ]
  },
  {
   "attachments": {},
   "cell_type": "markdown",
   "id": "b2cb0d43",
   "metadata": {},
   "source": [
    "Similar to above, but uses the approximation Q(s,a) = h(s+a)"
   ]
  },
  {
   "cell_type": "code",
   "execution_count": 393,
   "id": "17b1bbf9",
   "metadata": {},
   "outputs": [
    {
     "data": {
      "text/plain": [
       "piActionExactInstant (generic function with 1 method)"
      ]
     },
     "execution_count": 393,
     "metadata": {},
     "output_type": "execute_result"
    }
   ],
   "source": [
    "#calculates PI action using exact h table, based off instananeous actions\n",
    "function piActionExactInstant(s, h, N, alpha_d, alpha_r, beta, tau, c0, c1, r, del, g)\n",
    "    if s == fill(1, N)\n",
    "        return zeros(Int64, N)\n",
    "    end\n",
    "    \n",
    "    optA = zeros(Int64, N)\n",
    "    optH = instantCostUnif(s,optA,N,alpha_d, alpha_r, beta, tau, c0, c1, r, del) + expectedNextValueExact(s, optA,N,alpha_d, alpha_r, beta, tau, c0, c1, r, del,h) - g*del\n",
    "    for i in 1:N\n",
    "        if s[i] == 3\n",
    "            a = zeros(Int64,N)\n",
    "            a[i] = 1\n",
    "            testH = h[s-a]\n",
    "            if testH < optH\n",
    "                optA = a\n",
    "                optH = testH\n",
    "            end\n",
    "        end\n",
    "    end\n",
    "    return optA\n",
    "end"
   ]
  },
  {
   "attachments": {},
   "cell_type": "markdown",
   "id": "884618d7",
   "metadata": {},
   "source": [
    "Constructs PI policy using h table and no approximation"
   ]
  },
  {
   "cell_type": "code",
   "execution_count": 394,
   "id": "e1dfe8fe",
   "metadata": {},
   "outputs": [
    {
     "data": {
      "text/plain": [
       "piPolicyExact (generic function with 1 method)"
      ]
     },
     "execution_count": 394,
     "metadata": {},
     "output_type": "execute_result"
    }
   ],
   "source": [
    "#calculates PI policy using exact h table\n",
    "function piPolicyExact(h, N, alpha_d, alpha_r, beta, tau, c0, c1, r, del)\n",
    "    policy = Dict()\n",
    "    stateSpace = enumerateStates(N)\n",
    "    for s in stateSpace\n",
    "        policy[s] = piActionExact(s, h, N, alpha_d, alpha_r, beta, tau, c0, c1, r, del)\n",
    "    end\n",
    "    \n",
    "    return policy\n",
    "end"
   ]
  },
  {
   "attachments": {},
   "cell_type": "markdown",
   "id": "8842b6de",
   "metadata": {},
   "source": [
    "Constructs PI policy using h table and Q(s,a) = h(s+a) approximation"
   ]
  },
  {
   "cell_type": "code",
   "execution_count": 395,
   "id": "bfb9dcd2",
   "metadata": {},
   "outputs": [
    {
     "data": {
      "text/plain": [
       "piPolicyExactInstant (generic function with 1 method)"
      ]
     },
     "execution_count": 395,
     "metadata": {},
     "output_type": "execute_result"
    }
   ],
   "source": [
    "#calculates PI policy using exact h table, interpretting h with instant actions\n",
    "function piPolicyExactInstant(h, N, alpha_d, alpha_r, beta, tau, c0, c1, r, del, g)\n",
    "    policy = Dict()\n",
    "    stateSpace = enumerateStates(N)\n",
    "    for s in stateSpace\n",
    "        policy[s] = piActionExactInstant(s, h, N, alpha_d, alpha_r, beta, tau, c0, c1, r, del, g)\n",
    "    end\n",
    "    \n",
    "    return policy\n",
    "end"
   ]
  },
  {
   "cell_type": "markdown",
   "id": "b7172ee4",
   "metadata": {},
   "source": [
    "# Exact DP for Inhomogeneous Problem (using exact h or VFA)"
   ]
  },
  {
   "attachments": {},
   "cell_type": "markdown",
   "id": "43e2ee1b",
   "metadata": {},
   "source": [
    "DP algorithms for inhomogeneous problem\n",
    "\n",
    "Note that throughout when we talk of a Q(s,a) = h(s+a) approximation, this only refers to action selection and not update rules, and excludes a=0"
   ]
  },
  {
   "attachments": {},
   "cell_type": "markdown",
   "id": "2225adc2",
   "metadata": {},
   "source": [
    "Given an explicit policy table, performs PE, returns g, h and n (# of iterations)"
   ]
  },
  {
   "cell_type": "code",
   "execution_count": 396,
   "id": "8b118e95",
   "metadata": {},
   "outputs": [
    {
     "data": {
      "text/plain": [
       "rpe (generic function with 1 method)"
      ]
     },
     "execution_count": 396,
     "metadata": {},
     "output_type": "execute_result"
    }
   ],
   "source": [
    "#Performs PE using exact policy table\n",
    "function rpe(N, policy, alpha_d, alpha_r, beta, tau, c0, c1, r, epsilon; nMax = 0, delScale = 1, printProgress = false, modCounter = 100)\n",
    "    #calculate stepsize and initialise h,w,and policy dictionaries\n",
    "    del = 1/(delScale*(beta*sum(alpha_d) + sum(alpha_r) + sum(tau)))\n",
    "    h = Dict()\n",
    "    w = Dict()\n",
    "    stateSpace = enumerateStates(N)\n",
    "    actionSpace = enumerateRestrictedActions(N)\n",
    "    for s in stateSpace\n",
    "        h[s] = 0.0\n",
    "        w[s] = 0.0\n",
    "    end\n",
    "    s0  = fill(1, N)\n",
    "    n = 0\n",
    "    \n",
    "    #do until max iterations met or epsilon convergence\n",
    "    while true\n",
    "        n = n + 1\n",
    "        #find updates for every state\n",
    "        for s in stateSpace\n",
    "            a = policy[s]\n",
    "            w[s] = instantCostUnif(s,a,N,alpha_d, alpha_r, beta, tau, c0, c1, r, del) + expectedNextValueExact(s,a,N,alpha_d, alpha_r, beta, tau, c0, c1, r, del, h)\n",
    "        end\n",
    "        \n",
    "        #calculate relative values and delta\n",
    "        delta = 0\n",
    "        for s in stateSpace\n",
    "            update = w[s] - w[s0]\n",
    "            if delta < update - h[s] || delta == 0\n",
    "                delta = update - h[s]\n",
    "            end\n",
    "            \n",
    "            h[s] = update\n",
    "        end\n",
    "        \n",
    "        #stopping condition\n",
    "        if delta < epsilon || n == nMax\n",
    "            break\n",
    "        end\n",
    "        \n",
    "        if printProgress && n%modCounter == 0\n",
    "            println(n)\n",
    "        end\n",
    "    end\n",
    "    \n",
    "    a = zeros(Int64, N)\n",
    "    g = instantCostUnif(s0,a,N,alpha_d, alpha_r, beta, tau, c0, c1, r, del) + expectedNextValueExact(s0,a,N,alpha_d, alpha_r, beta, tau, c0, c1, r, del, h) - h[s0]\n",
    "    \n",
    "    return g/del, h, n\n",
    "end"
   ]
  },
  {
   "attachments": {},
   "cell_type": "markdown",
   "id": "e1ad5a2b",
   "metadata": {},
   "source": [
    "Given a h table, constructs PI policy and performs PE, returning g, h, n and the PI policy"
   ]
  },
  {
   "cell_type": "code",
   "execution_count": 397,
   "id": "7c57636f",
   "metadata": {},
   "outputs": [
    {
     "data": {
      "text/plain": [
       "rpiExact (generic function with 1 method)"
      ]
     },
     "execution_count": 397,
     "metadata": {},
     "output_type": "execute_result"
    }
   ],
   "source": [
    "#Performs one round of exact PI and PE using exact h table\n",
    "function rpiExact(N, hIn, alpha_d, alpha_r, beta, tau, c0, c1, r, epsilon; nMax = 0, delScale = 1, printProgress = false, modCounter = 100)\n",
    "    del = 1/(delScale*(beta*sum(alpha_d) + sum(alpha_r) + sum(tau)))\n",
    "    policy = piPolicyExact(hIn, N, alpha_d, alpha_r, beta, tau, c0, c1, r, del)\n",
    "    output = rpe(N, policy, alpha_d, alpha_r, beta, tau, c0, c1, r, epsilon; nMax = nMax, delScale = delScale, printProgress = printProgress, modCounter = modCounter)\n",
    "    return output[1], output[2], output[3], policy\n",
    "end"
   ]
  },
  {
   "attachments": {},
   "cell_type": "markdown",
   "id": "ec78eb5a",
   "metadata": {},
   "source": [
    "Similar to above, but uses Q(s,a) = h(s+a) approximation"
   ]
  },
  {
   "cell_type": "code",
   "execution_count": 398,
   "id": "266027ce",
   "metadata": {},
   "outputs": [
    {
     "data": {
      "text/plain": [
       "rpiExactInstant (generic function with 1 method)"
      ]
     },
     "execution_count": 398,
     "metadata": {},
     "output_type": "execute_result"
    }
   ],
   "source": [
    "#Performs one round of exact PI and PE using exact h table, using instant actions to interpet h\n",
    "function rpiExactInstant(N, hIn, alpha_d, alpha_r, beta, tau, c0, c1, r, epsilon, g; nMax = 0, delScale = 1, printProgress = false, modCounter = 100)\n",
    "    #calculate stepsize and initialise h,w,and policy dictionaries\n",
    "    del = 1/(delScale*(beta*sum(alpha_d) + sum(alpha_r) + sum(tau)))\n",
    "    policy = piPolicyExactInstant(hIn, N, alpha_d, alpha_r, beta, tau, c0, c1, r, del, g)\n",
    "    output = rpe(N, policy, alpha_d, alpha_r, beta, tau, c0, c1, r, epsilon; nMax = nMax, delScale = delScale, printProgress = printProgress, modCounter = modCounter)\n",
    "    return output[1], output[2], output[3], policy\n",
    "end"
   ]
  },
  {
   "attachments": {},
   "cell_type": "markdown",
   "id": "0aa6660e",
   "metadata": {},
   "source": [
    "Performs PE on the fully active policy"
   ]
  },
  {
   "cell_type": "code",
   "execution_count": 399,
   "id": "f773f8de",
   "metadata": {},
   "outputs": [
    {
     "data": {
      "text/plain": [
       "rpeFA (generic function with 1 method)"
      ]
     },
     "execution_count": 399,
     "metadata": {},
     "output_type": "execute_result"
    }
   ],
   "source": [
    "#Performs exact PE on the fully-active policy\n",
    "function rpeFA(N, alpha_d, alpha_r, beta, tau, c0, c1, r, epsilon; nMax = 0, delScale = 1, printProgress = false, modCounter = 100)\n",
    "    stateSpace = enumerateStates(N)\n",
    "    policy = Dict()\n",
    "    for s in stateSpace\n",
    "        policy[s] = faAction(s)\n",
    "    end\n",
    "    \n",
    "    return rpe(N, policy, alpha_d, alpha_r, beta, tau, c0, c1, r, epsilon; nMax = nMax, delScale = delScale, printProgress = printProgress, modCounter = modCounter)\n",
    "end"
   ]
  },
  {
   "attachments": {},
   "cell_type": "markdown",
   "id": "c325a927",
   "metadata": {},
   "source": [
    "Performs PE on fully passive policy"
   ]
  },
  {
   "cell_type": "code",
   "execution_count": 400,
   "id": "d304fb88",
   "metadata": {},
   "outputs": [
    {
     "data": {
      "text/plain": [
       "rpePassive (generic function with 1 method)"
      ]
     },
     "execution_count": 400,
     "metadata": {},
     "output_type": "execute_result"
    }
   ],
   "source": [
    "#Performs exact PE on the passive policy\n",
    "function rpePassive(N, alpha_d, alpha_r, beta, tau, c0, c1, r, epsilon; nMax = 0, delScale = 1, printProgress = false, modCounter = 100)\n",
    "    policy = Dict()\n",
    "    for s in stateSpace\n",
    "        policy[s] = zeros(Int64, N)\n",
    "    end\n",
    "    \n",
    "    return rpe(N, policy, alpha_d, alpha_r, beta, tau, c0, c1, r, epsilon; nMax = nMax, delScale = delScale, printProgress = printProgress, modCounter = modCounter)\n",
    "end"
   ]
  },
  {
   "attachments": {},
   "cell_type": "markdown",
   "id": "3b0b6c10",
   "metadata": {},
   "source": [
    "Performs RVIA"
   ]
  },
  {
   "cell_type": "code",
   "execution_count": 401,
   "id": "7d38fbaa",
   "metadata": {},
   "outputs": [
    {
     "data": {
      "text/plain": [
       "rvi (generic function with 1 method)"
      ]
     },
     "execution_count": 401,
     "metadata": {},
     "output_type": "execute_result"
    }
   ],
   "source": [
    "#Performs RVIA\n",
    "function rvi(N, alpha_d, alpha_r, beta, tau, c0, c1, r, epsilon; nMax = 0, delScale = N, printProgress = true, modCounter = 1000)\n",
    "    #calculate stepsize and initialise h,w,and policy dictionaries\n",
    "    del = 1/(delScale*(beta*sum(alpha_d) + sum(alpha_r) + sum(tau)))\n",
    "    h = Dict()\n",
    "    w = Dict()\n",
    "    policy = Dict()\n",
    "    stateSpace = enumerateStates(N)\n",
    "    actionSpace = enumerateRestrictedActions(N)\n",
    "    for s in stateSpace\n",
    "        h[s] = 0.0\n",
    "        w[s] = 0.0\n",
    "        policy[s] = zeros(Int64,N)\n",
    "    end\n",
    "    s0  = fill(1, N)\n",
    "    n = 0\n",
    "    \n",
    "    #do until max iterations met or epsilon convergence\n",
    "    while true\n",
    "        n = n + 1\n",
    "        #find updates for every state\n",
    "        for s in stateSpace\n",
    "            a = piActionExact(s, h, N, alpha_d, alpha_r, beta, tau, c0, c1, r, del)\n",
    "            w[s] = instantCostUnif(s,a,N,alpha_d, alpha_r, beta, tau, c0, c1, r, del) + expectedNextValueExact(s,a,N,alpha_d, alpha_r, beta, tau, c0, c1, r, del, h)\n",
    "            policy[s] = a\n",
    "        end\n",
    "        \n",
    "        #calculate relative values and delta\n",
    "        delta = 0\n",
    "        for s in stateSpace\n",
    "            update = w[s] - w[s0]\n",
    "            if delta < update - h[s] || delta == 0\n",
    "                delta = update - h[s]\n",
    "            end\n",
    "            \n",
    "            h[s] = update\n",
    "        end\n",
    "        \n",
    "        #stopping condition\n",
    "        if delta < epsilon || n == nMax\n",
    "            break\n",
    "        end\n",
    "        \n",
    "        if printProgress && n%modCounter == 0\n",
    "            println(n)\n",
    "        end\n",
    "    end\n",
    "    \n",
    "    a = zeros(Int64, N)\n",
    "    g = instantCostUnif(s0,a,N,alpha_d, alpha_r, beta, tau, c0, c1, r, del) + expectedNextValueExact(s0,a,N,alpha_d, alpha_r, beta, tau, c0, c1, r, del, h) - h[s0]\n",
    "    \n",
    "    return g/del, h, n, policy\n",
    "end"
   ]
  },
  {
   "cell_type": "markdown",
   "id": "bb424a1e",
   "metadata": {},
   "source": [
    "# Evaluation via simulation"
   ]
  },
  {
   "attachments": {},
   "cell_type": "markdown",
   "id": "2bcbbb37",
   "metadata": {},
   "source": [
    "Various evaluation functions for approximating g"
   ]
  },
  {
   "attachments": {},
   "cell_type": "markdown",
   "id": "e6636431",
   "metadata": {},
   "source": [
    "Finds the g of the fully active policy"
   ]
  },
  {
   "cell_type": "code",
   "execution_count": 402,
   "id": "33be91d8",
   "metadata": {},
   "outputs": [
    {
     "data": {
      "text/plain": [
       "gEvaluationFA (generic function with 1 method)"
      ]
     },
     "execution_count": 402,
     "metadata": {},
     "output_type": "execute_result"
    }
   ],
   "source": [
    "#Evaluates the FA policy\n",
    "function gEvaluationFA(N,alpha_d, alpha_r, beta, tau, c0, c1, r, nMax; s = fill(1,N), printProgress = false, modCounter = 100000, stateTrace = false)\n",
    "    #initialise\n",
    "    s0 = fill(1,N)\n",
    "    flows = zeros(N)\n",
    "    runningTotal = 0.0\n",
    "    timePassed = 0.0\n",
    "    runningTotals = [0.0]\n",
    "    times = [0.0]\n",
    "    g = 0.0\n",
    "    gs = [g]\n",
    "    \n",
    "    #initialise flows\n",
    "    flows = calculateFlows(s,N,alpha_d, alpha_r, beta, tau, c0, c1, r)[1]\n",
    "    \n",
    "    #do nMax iterations of AVI\n",
    "    for n in 1:nMax\n",
    "        \n",
    "        \n",
    "        #formulate FA action\n",
    "        bestA = faAction(s)\n",
    "        \n",
    "        if stateTrace\n",
    "            println(s)        \n",
    "        end\n",
    "\n",
    "        #update state, flows and g\n",
    "        if bestA == zeros(Int64, N)\n",
    "            result = updateStateAndFlowsCont(s,bestA,N,alpha_d, alpha_r, beta, tau, c0, c1, r, flows)\n",
    "            s = result[1]\n",
    "            c = result[2]\n",
    "            flows = result[3]\n",
    "            time = result[4]\n",
    "            g = (g*timePassed + c)/(timePassed + time)\n",
    "            timePassed += time\n",
    "        else\n",
    "            s = s - bestA\n",
    "        end\n",
    "        \n",
    "        append!(gs,[g])\n",
    "        if printProgress == true && n%modCounter == 0\n",
    "            sleep(0.001)\n",
    "            println(n)\n",
    "        end\n",
    "    end\n",
    "    \n",
    "    return g, gs, timePassed\n",
    "end"
   ]
  },
  {
   "cell_type": "code",
   "execution_count": 403,
   "id": "bdcb65b3",
   "metadata": {},
   "outputs": [
    {
     "data": {
      "text/plain": [
       "gEvaluationDSP (generic function with 1 method)"
      ]
     },
     "execution_count": 403,
     "metadata": {},
     "output_type": "execute_result"
    }
   ],
   "source": [
    "#Evaluates a Deterministic Static Policy (e-soft)\n",
    "function gEvaluationDSP(N,alpha_d, alpha_r, beta, tau, c0, c1, r, nMax, dsPolicy; s = fill(1, N),  epsilon = -1.0, printProgress = false, modCounter = 100000, forceActive = false, stateTrace = false)\n",
    "    #initialise\n",
    "    flows = zeros(N)\n",
    "    runningTotal = 0.0\n",
    "    timePassed = 0.0\n",
    "    runningTotals = [0.0]\n",
    "    times = [0.0]\n",
    "    g = 0.0\n",
    "    gs = [g]\n",
    "    \n",
    "    #initialise flows\n",
    "    flows = calculateFlows(s,N,alpha_d, alpha_r, beta, tau, c0, c1, r)[1]\n",
    "    \n",
    "    #do nMax iterations of AVI\n",
    "    for n in 1:nMax\n",
    "        \n",
    "        if stateTrace\n",
    "            println(s)\n",
    "        end\n",
    "        \n",
    "        #formulate DSP action\n",
    "        bestA = fill(0, N)\n",
    "        if rand(Uniform(0,1)) > epsilon\n",
    "            for i in 1:N\n",
    "                if s[i] == 3 && dsPolicy[i] == 1\n",
    "                    bestA[i] = 1\n",
    "                end\n",
    "            end\n",
    "        else\n",
    "            bestA = randomAction(s, N)\n",
    "        end\n",
    "        \n",
    "        #update state, flows and g\n",
    "        if bestA == zeros(Int64, N)\n",
    "            result = updateStateAndFlowsCont(s,bestA,N,alpha_d, alpha_r, beta, tau, c0, c1, r, flows)\n",
    "            s = result[1]\n",
    "            c = result[2]\n",
    "            flows = result[3]\n",
    "            time = result[4]\n",
    "            \n",
    "            runningTotal += c\n",
    "            timePassed += time\n",
    "            g = runningTotal/timePassed\n",
    "        else\n",
    "            s = s - bestA\n",
    "        end\n",
    "        \n",
    "        append!(gs,[g])\n",
    "        append!(runningTotals, [runningTotal])\n",
    "        append!(times,[timePassed])\n",
    "        if printProgress == true && n%modCounter == 0\n",
    "            sleep(0.001)\n",
    "            println(n)\n",
    "        end\n",
    "    end\n",
    "    \n",
    "    return g, gs, runningTotals, times, s\n",
    "end"
   ]
  },
  {
   "attachments": {},
   "cell_type": "markdown",
   "id": "38d24567",
   "metadata": {},
   "source": [
    "# Tabular SMARVI and gEval"
   ]
  },
  {
   "attachments": {},
   "cell_type": "markdown",
   "id": "5b101ab9",
   "metadata": {},
   "source": [
    "Tabular SMARVI algorithms (non e-greedy, e-greedy, and e-greedt with state trace), associated gEval function, and helper functions"
   ]
  },
  {
   "attachments": {},
   "cell_type": "markdown",
   "id": "7a829f15",
   "metadata": {},
   "source": [
    "Given a state s, its flows, and a h-g pair, return the optimal action and V value for s"
   ]
  },
  {
   "cell_type": "code",
   "execution_count": 404,
   "id": "d500f4ec",
   "metadata": {},
   "outputs": [
    {
     "data": {
      "text/plain": [
       "smarActionAndVFromTable (generic function with 1 method)"
      ]
     },
     "execution_count": 404,
     "metadata": {},
     "output_type": "execute_result"
    }
   ],
   "source": [
    "function smarActionAndVFromTable(s, flows, N,alpha_d, alpha_r, beta, tau, c0, c1, r, h, g)\n",
    "    #find optimal action\n",
    "    optA = zeros(Int64,N)\n",
    "    t = sojournTime(s, optA, flows, N, alpha_d, alpha_r, beta, tau)\n",
    "    optV = instantCostCont(s,optA,N,alpha_d, alpha_r, beta, tau, c0, c1, r, flows) + expectedNextValueContTab(s,optA,N,alpha_d, alpha_r, beta, tau, c0, c1, r, flows, h) - g*t\n",
    "        \n",
    "    for i in 1:N\n",
    "        if s[i] == 3\n",
    "            a = zeros(Int64, N)\n",
    "            a[i] = 1\n",
    "               \n",
    "            if h[s-a] <= optV\n",
    "                optV = h[s-a]\n",
    "                optA = a\n",
    "            end\n",
    "        end\n",
    "    end\n",
    "        \n",
    "    #Fix choose optimal non-passive action if state is [3,3,...,3]\n",
    "    if s == fill(3,N) && optA == zeros(Int64, N)\n",
    "        optA[1] = 1\n",
    "        optV = h[s-optA]\n",
    "            \n",
    "        for i in 2:N\n",
    "            if s[i] == 3\n",
    "                a = zeros(Int64, N)\n",
    "                a[i] = 1\n",
    "                testV = h[s-a]\n",
    "                if testV <= optV\n",
    "                    optV = testV\n",
    "                    optA = a\n",
    "                end\n",
    "            end\n",
    "        end\n",
    "    end\n",
    "\n",
    "    return optA, optV\n",
    "end"
   ]
  },
  {
   "attachments": {},
   "cell_type": "markdown",
   "id": "94fd262e",
   "metadata": {},
   "source": [
    "Given a state-action pair and a h table, compute the next expected h value given that a transition has occured"
   ]
  },
  {
   "cell_type": "code",
   "execution_count": 405,
   "id": "bd0e5b0b",
   "metadata": {},
   "outputs": [
    {
     "data": {
      "text/plain": [
       "expectedNextValueContTab (generic function with 1 method)"
      ]
     },
     "execution_count": 405,
     "metadata": {},
     "output_type": "execute_result"
    }
   ],
   "source": [
    "#Calculates E(h(s')) given a state-action pair, and tabular h\n",
    "function expectedNextValueContTab(s,a,N,alpha_d, alpha_r, beta, tau, c0, c1, r, flows, h)\n",
    "    del = sojournTime(s, a, flows, N, alpha_d, alpha_r, beta, tau)\n",
    "    #immediate change\n",
    "    sPrime = s - a\n",
    "    \n",
    "    #different treatment for all-damaged state\n",
    "    if sPrime == fill(3,N)\n",
    "        return h[sPrime]\n",
    "    end\n",
    "    \n",
    "    runningTotal = 0\n",
    "    \n",
    "    #demand degs\n",
    "    for k in 1:N\n",
    "        sNext = copy(sPrime)\n",
    "        sNext[k] = 3\n",
    "        runningTotal += flows[k]*alpha_d[k]*del*h[sNext]\n",
    "    end\n",
    "    \n",
    "    #rare degs\n",
    "    for k in 1:N\n",
    "        if sPrime[k] != 3\n",
    "            sNext = copy(sPrime)\n",
    "            sNext[k] = 3\n",
    "            runningTotal += alpha_r[k]*del*h[sNext]\n",
    "        end\n",
    "    end\n",
    "    \n",
    "    #repairs\n",
    "    for k in 1:N\n",
    "        if sPrime[k] == 2\n",
    "            sNext = copy(sPrime)\n",
    "            sNext[k] = 1\n",
    "            runningTotal += tau[k]*del*h[sNext]\n",
    "        end\n",
    "    end\n",
    "    \n",
    "    return runningTotal\n",
    "end   "
   ]
  },
  {
   "attachments": {},
   "cell_type": "markdown",
   "id": "a2833561",
   "metadata": {},
   "source": [
    "Tabular SMARVI, without ST (set epsilon = 0 for full-exploitation)"
   ]
  },
  {
   "cell_type": "code",
   "execution_count": 406,
   "id": "cf860122",
   "metadata": {},
   "outputs": [
    {
     "data": {
      "text/plain": [
       "smarviTab (generic function with 1 method)"
      ]
     },
     "execution_count": 406,
     "metadata": {},
     "output_type": "execute_result"
    }
   ],
   "source": [
    "#Performs AVI in the continuous time setting, approximating E(h(s')) using all possible transitions\n",
    "#Uses tabular representation instead of VFA and e-greedy action selection\n",
    "function smarviTab(N,alpha_d, alpha_r, beta, tau, c0, c1, r, nMax, b, c; printProgress = false, modCounter = 100000, stateDepEpsilon = false)\n",
    "    #initialise\n",
    "    s = [1 for i in 1:N]\n",
    "    s0 = [1 for i in 1:N]\n",
    "    flows = zeros(N)\n",
    "    stateSpace = enumerateStates(N)\n",
    "    reducedActionSpace = enumerateRestrictedActions(N)\n",
    "    runningTotal = 0.0\n",
    "    timePassed = 0.0\n",
    "    g = 0.0\n",
    "    gs = [g]\n",
    "\n",
    "    h = Dict()\n",
    "    for s in stateSpace\n",
    "        h[s] = 0.0\n",
    "    end\n",
    "    \n",
    "    numVisits = Dict()\n",
    "    for s in stateSpace\n",
    "        numVisits[s] = 0\n",
    "    end\n",
    "    \n",
    "    #initialise flows\n",
    "    bestCost = maximum(c0) + 1\n",
    "    bestLink = 0\n",
    "    for i in 1:N\n",
    "        if c0[i] < bestCost\n",
    "            bestCost = c0[i]\n",
    "            bestLink = i\n",
    "        end\n",
    "    end\n",
    "    \n",
    "    flows[bestLink] = beta\n",
    "    \n",
    "    #do nMax iterations of AVI\n",
    "    for n in 1:nMax\n",
    "        \n",
    "        #update numVisits\n",
    "        numVisits[s] += 1\n",
    "\n",
    "        #formulate optimal action\n",
    "        optAandV = smarActionAndVFromTable(s, flows, N,alpha_d, alpha_r, beta, tau, c0, c1, r, h, g)\n",
    "        optA = optAandV[1]\n",
    "        optV = optAandV[2]\n",
    "        \n",
    "        epsilon = c/(c + n)\n",
    "        if stateDepEpsilon\n",
    "            epsilon = c/(c + numVisits[s])\n",
    "        end\n",
    "\n",
    "        if rand(Uniform(0,1)) < epsilon\n",
    "            optA = randomAction(s, N)\n",
    "            if optA == zeros(Int64, N)\n",
    "                t = sojournTime(s, optA, flows, N, alpha_d, alpha_r, beta, tau)\n",
    "                optV = instantCostCont(s,optA,N,alpha_d, alpha_r, beta, tau, c0, c1, r, flows) + expectedNextValueContTab(s,optA,N,alpha_d, alpha_r, beta, tau, c0, c1, r, flows, h) - g*t\n",
    "            else\n",
    "                optV = h[s - optA]\n",
    "            end    \n",
    "        end \n",
    "        \n",
    "        bestA = optA\n",
    "        \n",
    "        #find simulated next state\n",
    "        result = updateStateAndFlowsCont(s,bestA,N,alpha_d, alpha_r, beta, tau, c0, c1, r, flows)\n",
    "        sPrime = result[1]\n",
    "        \n",
    "        #find value of v^n:\n",
    "        bestV = optV - h[s0]\n",
    "        \n",
    "        #update VFA\n",
    "        currentEst = h[s]\n",
    "        h[s] += (b/(b + numVisits[s]))*(bestV - currentEst)\n",
    "        \n",
    "        #update flows and average\n",
    "        if bestA == zeros(Int64, N)\n",
    "            c = result[2]\n",
    "            s = sPrime\n",
    "            flows = result[3]\n",
    "            time = result[4]\n",
    "            \n",
    "            runningTotal += c\n",
    "            timePassed += time\n",
    "            g = runningTotal/timePassed\n",
    "        else\n",
    "            s = s - bestA\n",
    "        end\n",
    "        \n",
    "        push!(gs, g)\n",
    "        if printProgress == true && n%modCounter == 0\n",
    "            sleep(0.001)\n",
    "            println(n)\n",
    "        end\n",
    "    end\n",
    "    \n",
    "    return h, g, gs\n",
    "end"
   ]
  },
  {
   "attachments": {},
   "cell_type": "markdown",
   "id": "a6f7777e",
   "metadata": {},
   "source": [
    "Similar to above, but incorporates the state trace"
   ]
  },
  {
   "cell_type": "code",
   "execution_count": 407,
   "id": "de3e948e",
   "metadata": {},
   "outputs": [
    {
     "data": {
      "text/plain": [
       "smarviTab_ST (generic function with 1 method)"
      ]
     },
     "execution_count": 407,
     "metadata": {},
     "output_type": "execute_result"
    }
   ],
   "source": [
    "#Uses tabular representation instead of VFA, e-greedy action selection, and state trace \n",
    "function smarviTab_ST(N,alpha_d, alpha_r, beta, tau, c0, c1, r, nMax, b, c; printProgress = false, modCounter = 100000, stateDepEpsilon = false)\n",
    "    #initialise\n",
    "    s = [1 for i in 1:N]\n",
    "    s0 = [1 for i in 1:N]\n",
    "    flows = zeros(N)\n",
    "    stateSpace = enumerateStates(N)\n",
    "    reducedActionSpace = enumerateRestrictedActions(N)\n",
    "    runningTotal = 0.0\n",
    "    timePassed = 0.0\n",
    "    g = 0.0\n",
    "    gs = [g]\n",
    "    stateTrace = []\n",
    "    h = Dict()\n",
    "    for s in stateSpace\n",
    "        h[s] = 0.0\n",
    "    end\n",
    "    \n",
    "    numVisits = Dict()\n",
    "    for s in stateSpace\n",
    "        numVisits[s] = 0\n",
    "    end\n",
    "    \n",
    "    #initialise flows\n",
    "    bestCost = maximum(c0) + 1\n",
    "    bestLink = 0\n",
    "    for i in 1:N\n",
    "        if c0[i] < bestCost\n",
    "            bestCost = c0[i]\n",
    "            bestLink = i\n",
    "        end\n",
    "    end\n",
    "    \n",
    "    flows[bestLink] = beta\n",
    "    \n",
    "    #do nMax iterations of AVI\n",
    "    for n in 1:nMax\n",
    "        \n",
    "        #update numVisits\n",
    "        numVisits[s] += 1\n",
    "\n",
    "        #update trace\n",
    "        push!(stateTrace, s)\n",
    "\n",
    "        #formulate optimal action\n",
    "        optAandV = smarActionAndVFromTable(s, flows, N,alpha_d, alpha_r, beta, tau, c0, c1, r, h, g)\n",
    "        optA = optAandV[1]\n",
    "        optV = optAandV[2]\n",
    "        \n",
    "        #choose epsilon\n",
    "        epsilon = c/(c + n)\n",
    "        if stateDepEpsilon\n",
    "            epsilon = c/(c + numVisits[s])\n",
    "        end\n",
    "\n",
    "        #choose actual action\n",
    "        if rand(Uniform(0,1)) < epsilon\n",
    "            optA = randomAction(s, N)\n",
    "            if optA == zeros(Int64, N)\n",
    "                t = sojournTime(s, optA, flows, N, alpha_d, alpha_r, beta, tau)\n",
    "                optV = instantCostCont(s,optA,N,alpha_d, alpha_r, beta, tau, c0, c1, r, flows) + expectedNextValueContTab(s,optA,N,alpha_d, alpha_r, beta, tau, c0, c1, r, flows, h) - g*t\n",
    "            else\n",
    "                optV = h[s - optA]\n",
    "            end    \n",
    "        end \n",
    "        \n",
    "        bestA = optA\n",
    "        \n",
    "        #find simulated next state\n",
    "        result = updateStateAndFlowsCont(s,bestA,N,alpha_d, alpha_r, beta, tau, c0, c1, r, flows)\n",
    "        sPrime = result[1]\n",
    "        \n",
    "        #find value of v^n:\n",
    "        bestV = optV - h[s0]\n",
    "        \n",
    "        #update VFA\n",
    "        if bestA == zeros(Int64, N)\n",
    "            for st in stateTrace\n",
    "                currentEst = h[st]\n",
    "                h[st] += (b/(b + numVisits[st]))*(bestV - currentEst)\n",
    "            end\n",
    "            stateTrace = []\n",
    "        end\n",
    "\n",
    "        #update flows and average\n",
    "        if bestA == zeros(Int64, N)\n",
    "            c = result[2]\n",
    "            s = sPrime\n",
    "            flows = result[3]\n",
    "            time = result[4]\n",
    "            \n",
    "            runningTotal += c\n",
    "            timePassed += time\n",
    "            g = runningTotal/timePassed\n",
    "        else\n",
    "            s = s - bestA\n",
    "        end\n",
    "        \n",
    "        push!(gs, g)\n",
    "        if printProgress == true && n%modCounter == 0\n",
    "            sleep(0.001)\n",
    "            println(n)\n",
    "        end\n",
    "    end\n",
    "    \n",
    "    return h, g, gs\n",
    "end"
   ]
  },
  {
   "attachments": {},
   "cell_type": "markdown",
   "id": "5619d4e1",
   "metadata": {},
   "source": [
    "Similar to above (so e-greedy and state trace), but uses a moving average window to approximate g, allowing old estimates to be discarded"
   ]
  },
  {
   "cell_type": "code",
   "execution_count": 408,
   "id": "5e0f86bc",
   "metadata": {},
   "outputs": [
    {
     "data": {
      "text/plain": [
       "smarviTabMA (generic function with 1 method)"
      ]
     },
     "execution_count": 408,
     "metadata": {},
     "output_type": "execute_result"
    }
   ],
   "source": [
    "#Tabular SMARVI with moving average online approximation for g, e-greedy action selection, and state trace\n",
    "function smarviTabMA(N,alpha_d, alpha_r, beta, tau, c0, c1, r, nMax, b, c; window = 2500000, printProgress = false, modCounter = 100000, stateDepEpsilon = false)\n",
    "    #initialise\n",
    "    s = [1 for i in 1:N]\n",
    "    s0 = [1 for i in 1:N]\n",
    "    flows = zeros(N)\n",
    "    stateSpace = enumerateStates(N)\n",
    "    reducedActionSpace = enumerateRestrictedActions(N)\n",
    "    runningTotal = 0.0\n",
    "    totalCosts = [0.0]\n",
    "    timePassed = 0.0\n",
    "    totalTimes = [0.0]\n",
    "    lenTotals = 1\n",
    "    g = 0.0\n",
    "    gs = [g]\n",
    "    stateTrace = []\n",
    "    h = Dict()\n",
    "    for s in stateSpace\n",
    "        h[s] = 0.0\n",
    "    end\n",
    "    \n",
    "    numVisits = Dict()\n",
    "    for s in stateSpace\n",
    "        numVisits[s] = 0\n",
    "    end\n",
    "    \n",
    "    #initialise flows\n",
    "    bestCost = maximum(c0) + 1\n",
    "    bestLink = 0\n",
    "    for i in 1:N\n",
    "        if c0[i] < bestCost\n",
    "            bestCost = c0[i]\n",
    "            bestLink = i\n",
    "        end\n",
    "    end\n",
    "    \n",
    "    flows[bestLink] = beta\n",
    "    \n",
    "    #do nMax iterations of AVI\n",
    "    for n in 1:nMax\n",
    "        \n",
    "        #update numVisits\n",
    "        numVisits[s] += 1\n",
    "\n",
    "        #update trace\n",
    "        push!(stateTrace, s)\n",
    "\n",
    "        #formulate optimal action\n",
    "        optAandV = smarActionAndVFromTable(s, flows, N,alpha_d, alpha_r, beta, tau, c0, c1, r, h, g)\n",
    "        optA = optAandV[1]\n",
    "        optV = optAandV[2]\n",
    "        \n",
    "        #choose epsilon\n",
    "        epsilon = c/(c + n)\n",
    "        if stateDepEpsilon\n",
    "            epsilon = c/(c + numVisits[s])\n",
    "        end\n",
    "\n",
    "        #choose actual action\n",
    "        if rand(Uniform(0,1)) < epsilon\n",
    "            optA = randomAction(s, N)\n",
    "            if optA == zeros(Int64, N)\n",
    "                t = sojournTime(s, optA, flows, N, alpha_d, alpha_r, beta, tau)\n",
    "                optV = instantCostCont(s,optA,N,alpha_d, alpha_r, beta, tau, c0, c1, r, flows) + expectedNextValueContTab(s,optA,N,alpha_d, alpha_r, beta, tau, c0, c1, r, flows, h) - g*t\n",
    "            else\n",
    "                optV = h[s - optA]\n",
    "            end    \n",
    "        end \n",
    "        \n",
    "        bestA = optA\n",
    "        \n",
    "        #find simulated next state\n",
    "        result = updateStateAndFlowsCont(s,bestA,N,alpha_d, alpha_r, beta, tau, c0, c1, r, flows)\n",
    "        sPrime = result[1]\n",
    "        \n",
    "        #find value of v^n:\n",
    "        bestV = optV - h[s0]\n",
    "        \n",
    "        #update VFA\n",
    "        if bestA == zeros(Int64, N)\n",
    "            for st in stateTrace\n",
    "                currentEst = h[st]\n",
    "                h[st] += (b/(b + numVisits[st]))*(bestV - currentEst)\n",
    "            end\n",
    "            stateTrace = []\n",
    "        end\n",
    "\n",
    "        #update flows and average\n",
    "        if bestA == zeros(Int64, N)\n",
    "            c = result[2]\n",
    "            s = sPrime\n",
    "            flows = result[3]\n",
    "            time = result[4]\n",
    "            \n",
    "            runningTotal += c\n",
    "            timePassed += time\n",
    "            push!(totalCosts, runningTotal)\n",
    "            push!(totalTimes, timePassed)\n",
    "            lenTotals += 1\n",
    "            if lenTotals <= window\n",
    "                g = runningTotal/timePassed\n",
    "            else\n",
    "                g = (runningTotal - totalCosts[lenTotals - window])/(timePassed - totalTimes[lenTotals - window])\n",
    "            end\n",
    "        else\n",
    "            s = s - bestA\n",
    "        end\n",
    "        \n",
    "        push!(gs, g)\n",
    "        if printProgress == true && n%modCounter == 0\n",
    "            sleep(0.001)\n",
    "            println(n)\n",
    "        end\n",
    "    end\n",
    "    \n",
    "    return h, g, gs\n",
    "end"
   ]
  },
  {
   "attachments": {},
   "cell_type": "markdown",
   "id": "e0ca583e",
   "metadata": {},
   "source": [
    "Given a state, a h table and g, return the PI action for s. Uses the Q(s,a) = h(s+a) approximation"
   ]
  },
  {
   "cell_type": "code",
   "execution_count": 409,
   "id": "a89e1d0b",
   "metadata": {},
   "outputs": [
    {
     "data": {
      "text/plain": [
       "piActionExactCont (generic function with 1 method)"
      ]
     },
     "execution_count": 409,
     "metadata": {},
     "output_type": "execute_result"
    }
   ],
   "source": [
    "#calculates PI action using exact h table, based off continuous model\n",
    "function piActionExactCont(s, h, N, alpha_d, alpha_r, beta, tau, c0, c1, r, g)\n",
    "    if s == fill(1, N)\n",
    "        return zeros(Int64, N)\n",
    "    end\n",
    "    \n",
    "    flows = calculateFlows(s,N,alpha_d, alpha_r, beta, tau, c0, c1, r)[1]\n",
    "    \n",
    "    optA = zeros(Int64, N)\n",
    "    t = sojournTime(s, optA, flows, N, alpha_d, alpha_r, beta, tau)\n",
    "    optH = instantCostCont(s,optA,N,alpha_d, alpha_r, beta, tau, c0, c1, r, flows) + expectedNextValueContTab(s, optA,N,alpha_d, alpha_r, beta, tau, c0, c1, r, flows,h) - g*t\n",
    "    for i in 1:N\n",
    "        if s[i] == 3\n",
    "            a = zeros(Int64,N)\n",
    "            a[i] = 1\n",
    "            testH = h[s-a]\n",
    "            if testH < optH\n",
    "                optA = a\n",
    "                optH = testH\n",
    "            end\n",
    "        end\n",
    "    end\n",
    "\n",
    "    if s == fill(3,N) && optA == zeros(Int64, N)\n",
    "        optA[1] = 1\n",
    "        optH = h[s - optA]\n",
    "\n",
    "        for i in 2:N\n",
    "            a = zeros(Int64, N)\n",
    "            a[i] = 1\n",
    "            testH = h[s - a]\n",
    "            if testH < optH\n",
    "                optA = a\n",
    "                optH = testH\n",
    "            end\n",
    "        end\n",
    "    end\n",
    "\n",
    "    return optA\n",
    "end"
   ]
  },
  {
   "attachments": {},
   "cell_type": "markdown",
   "id": "5696a2b2",
   "metadata": {},
   "source": [
    "Constructs a PI policy using the above method"
   ]
  },
  {
   "cell_type": "code",
   "execution_count": 410,
   "id": "47ec161d",
   "metadata": {},
   "outputs": [
    {
     "data": {
      "text/plain": [
       "piPolicyExactCont (generic function with 1 method)"
      ]
     },
     "execution_count": 410,
     "metadata": {},
     "output_type": "execute_result"
    }
   ],
   "source": [
    "function piPolicyExactCont(h, N, alpha_d, alpha_r, beta, tau, c0, c1, r, g)\n",
    "    stateSpace = enumerateStates(N)\n",
    "    policy = Dict()\n",
    "    for s in stateSpace\n",
    "        policy[s] = piActionExactCont(s, h, N, alpha_d, alpha_r, beta, tau, c0, c1, r, g)\n",
    "    end\n",
    "\n",
    "    return policy\n",
    "end"
   ]
  },
  {
   "attachments": {},
   "cell_type": "markdown",
   "id": "7c7cc371",
   "metadata": {},
   "source": [
    "Given a h table and fixed g0, approximates the g of the PI policy derived using the above function"
   ]
  },
  {
   "cell_type": "code",
   "execution_count": 411,
   "id": "161485ba",
   "metadata": {},
   "outputs": [
    {
     "data": {
      "text/plain": [
       "gEvaluationTab (generic function with 1 method)"
      ]
     },
     "execution_count": 411,
     "metadata": {},
     "output_type": "execute_result"
    }
   ],
   "source": [
    "function gEvaluationTab(N,alpha_d, alpha_r, beta, tau, c0, c1, r, nMax, h, g0; printProgress = false, modCounter = 100000)\n",
    "    #initialise\n",
    "    s = [1 for i in 1:N]\n",
    "    s0 = [1 for i in 1:N]\n",
    "    flows = zeros(N)\n",
    "    stateSpace = enumerateStates(N)\n",
    "    println(\"State Space Completed\")\n",
    "    reducedActionSpace = enumerateRestrictedActions(N)\n",
    "    runningTotal = 0.0\n",
    "    timePassed = 0.0\n",
    "    g = 0.0\n",
    "    gs = [g]\n",
    "    \n",
    "    policy = piPolicyExactCont(h, N, alpha_d, alpha_r, beta, tau, c0, c1, r, g0)\n",
    "    println(\"Policy Completed\")\n",
    "\n",
    "    #initialise flows\n",
    "    bestCost = maximum(c0) + 1\n",
    "    bestLink = 0\n",
    "    for i in 1:N\n",
    "        if c0[i] < bestCost\n",
    "            bestCost = c0[i]\n",
    "            bestLink = i\n",
    "        end\n",
    "    end\n",
    "    \n",
    "    flows[bestLink] = beta\n",
    "    \n",
    "    #do nMax iterations of AVI\n",
    "    for n in 1:nMax\n",
    "        \n",
    "        #formulate optimal action\n",
    "        bestA = policy[s]\n",
    "        \n",
    "        #find simulated next state\n",
    "        result = updateStateAndFlowsCont(s,bestA,N,alpha_d, alpha_r, beta, tau, c0, c1, r, flows)\n",
    "        sPrime = result[1]\n",
    "        \n",
    "        #update flows and average\n",
    "        if bestA == zeros(Int64, N)\n",
    "            c = result[2]\n",
    "            s = sPrime\n",
    "            flows = result[3]\n",
    "            time = result[4]\n",
    "            \n",
    "            runningTotal += c\n",
    "            timePassed += time\n",
    "            g = runningTotal/timePassed\n",
    "        else\n",
    "            s = s - bestA\n",
    "        end\n",
    "        \n",
    "        push!(gs, g)\n",
    "        if printProgress == true && n%modCounter == 0\n",
    "            sleep(0.001)\n",
    "            println(n)\n",
    "        end\n",
    "    end\n",
    "    \n",
    "    return g, gs, policy\n",
    "end"
   ]
  },
  {
   "attachments": {},
   "cell_type": "markdown",
   "id": "6efb11fd",
   "metadata": {},
   "source": [
    "Returns an array of feasible actions for N-dim state s"
   ]
  },
  {
   "cell_type": "code",
   "execution_count": 412,
   "id": "c00dff36",
   "metadata": {},
   "outputs": [
    {
     "data": {
      "text/plain": [
       "enumerateFeasibleActions (generic function with 1 method)"
      ]
     },
     "execution_count": 412,
     "metadata": {},
     "output_type": "execute_result"
    }
   ],
   "source": [
    "function enumerateFeasibleActions(s,N)\n",
    "    actionSpace = []\n",
    "    if s == fill(3, N)\n",
    "        for i in 1:N\n",
    "            a = zeros(Int64, N)\n",
    "            a[i] = 1\n",
    "            push!(actionSpace, a)\n",
    "        end\n",
    "        return actionSpace\n",
    "    end\n",
    "\n",
    "    push!(actionSpace, zeros(Int64,N))\n",
    "    for i in 1:N\n",
    "        if s[i] == 3\n",
    "            a = zeros(Int64, N)\n",
    "            a[i] = 1\n",
    "            push!(actionSpace, a)\n",
    "        end\n",
    "    end\n",
    "    return actionSpace\n",
    "end"
   ]
  },
  {
   "attachments": {},
   "cell_type": "markdown",
   "id": "884ee22f",
   "metadata": {},
   "source": [
    "# SMART Functions"
   ]
  },
  {
   "attachments": {},
   "cell_type": "markdown",
   "id": "dc90c99f",
   "metadata": {},
   "source": [
    "Tabular SMART algorithm, associated gEvaluation function, and helper functions"
   ]
  },
  {
   "attachments": {},
   "cell_type": "markdown",
   "id": "b6bef550",
   "metadata": {},
   "source": [
    "Given a state and a q-table, return optimal action and associated Q-value"
   ]
  },
  {
   "cell_type": "code",
   "execution_count": 413,
   "id": "9b86ab9b",
   "metadata": {},
   "outputs": [
    {
     "data": {
      "text/plain": [
       "actionFromQTab (generic function with 1 method)"
      ]
     },
     "execution_count": 413,
     "metadata": {},
     "output_type": "execute_result"
    }
   ],
   "source": [
    "function actionFromQTab(s, N, q)\n",
    "    feasibleActions = enumerateFeasibleActions(s,N)\n",
    "\n",
    "    #formulate action\n",
    "    optA = zeros(Int64, N)\n",
    "    if s == fill(3,N)\n",
    "        optA[1] = 1\n",
    "    end\n",
    "    optQ = q[s,optA]\n",
    "    for a in feasibleActions\n",
    "        testQ = q[s,a]\n",
    "        if testQ < optQ\n",
    "            optQ = testQ\n",
    "            optA = a\n",
    "        end\n",
    "    end\n",
    "\n",
    "    return optA, optQ\n",
    "end"
   ]
  },
  {
   "attachments": {},
   "cell_type": "markdown",
   "id": "93d0c99a",
   "metadata": {},
   "source": [
    "Construct policy using above method"
   ]
  },
  {
   "cell_type": "code",
   "execution_count": 414,
   "id": "233657b9",
   "metadata": {},
   "outputs": [
    {
     "data": {
      "text/plain": [
       "piPolicyExactContQ (generic function with 1 method)"
      ]
     },
     "execution_count": 414,
     "metadata": {},
     "output_type": "execute_result"
    }
   ],
   "source": [
    "function piPolicyExactContQ(q, N)\n",
    "    stateSpace = enumerateStates(N)\n",
    "    policy = Dict()\n",
    "    for s in stateSpace\n",
    "        policy[s] = actionFromQTab(s, N, q)[1]\n",
    "    end\n",
    "\n",
    "    return policy\n",
    "end"
   ]
  },
  {
   "attachments": {},
   "cell_type": "markdown",
   "id": "9bcb0dda",
   "metadata": {},
   "source": [
    "Performs SMART, using a state-action trace and e-greedy action selection, where e can be chosen to depend on the state or not"
   ]
  },
  {
   "cell_type": "code",
   "execution_count": 415,
   "id": "1f7db3e1",
   "metadata": {},
   "outputs": [
    {
     "data": {
      "text/plain": [
       "smartTab (generic function with 1 method)"
      ]
     },
     "execution_count": 415,
     "metadata": {},
     "output_type": "execute_result"
    }
   ],
   "source": [
    "function smartTab(N,alpha_d, alpha_r, beta, tau, c0, c1, r, nMax, b, c; printProgress = false, modCounter = 100000, stateDepEpsilon = false)\n",
    "    #initialise\n",
    "    s = [1 for i in 1:N]\n",
    "    s0 = [1 for i in 1:N]\n",
    "    flows = zeros(N)\n",
    "    stateSpace = enumerateStates(N)\n",
    "    actionSpace = enumerateRestrictedActions(N)\n",
    "    runningTotal = 0.0\n",
    "    timePassed = 0.0\n",
    "    g = 0.0\n",
    "    gs = [g]\n",
    "    stateActionTrace = []\n",
    "    q = Dict()\n",
    "    numVisits = Dict()\n",
    "    for s in stateSpace\n",
    "        for a in enumerateFeasibleActions(s,N)\n",
    "            q[s,a] = 0.0\n",
    "        end\n",
    "        numVisits[s] = 0\n",
    "    end\n",
    "\n",
    "    #initialise flows\n",
    "    bestCost = maximum(c0) + 1\n",
    "    bestLink = 0\n",
    "    for i in 1:N\n",
    "        if c0[i] < bestCost\n",
    "            bestCost = c0[i]\n",
    "            bestLink = i\n",
    "        end\n",
    "    end\n",
    "    \n",
    "    flows[bestLink] = beta\n",
    "    \n",
    "    optAandQ = actionFromQTab(s, N, q)\n",
    "    optA = optAandQ[1]\n",
    "    optQ = optAandQ[2]\n",
    "\n",
    "    #do nMax iterations of AVI\n",
    "    for n in 1:nMax\n",
    "        \n",
    "        numVisits[s] += 1\n",
    "        \n",
    "        optFlag = true\n",
    "        \n",
    "        #choose e-greedy action\n",
    "        epsilon = c/(c + n)\n",
    "        if stateDepEpsilon\n",
    "            epsilon = c/(c + numVisits[s])\n",
    "        end\n",
    "\n",
    "        if rand(Uniform(0,1)) < epsilon\n",
    "            optA = randomAction(s, N)\n",
    "            optQ = q[s,optA]\n",
    "            optFlag = false\n",
    "        end\n",
    "        \n",
    "        bestA = optA\n",
    "        \n",
    "        push!(stateActionTrace, (s,bestA))\n",
    "\n",
    "        nextOptA = zeros(Int64, N)\n",
    "        nextOptQ = 0.0\n",
    "        #update q, flows and average\n",
    "        if bestA == zeros(Int64, N)\n",
    "            #simulate transition\n",
    "            result = updateStateAndFlowsCont(s,bestA,N,alpha_d, alpha_r, beta, tau, c0, c1, r, flows)\n",
    "            sPrime = result[1]\n",
    "\n",
    "            c = result[2]\n",
    "            flows = result[3]\n",
    "            time = result[4]\n",
    "  \n",
    "            #update g if optimal action taken\n",
    "            if optFlag\n",
    "                runningTotal += c\n",
    "                timePassed += time\n",
    "                g = runningTotal/timePassed\n",
    "            end\n",
    "\n",
    "            #find next optimal action and q value\n",
    "            nextOptAandQ = actionFromQTab(sPrime, N, q)\n",
    "            nextOptA = nextOptAandQ[1]\n",
    "            nextOptQ = nextOptAandQ[2]\n",
    "\n",
    "            for saPair in stateActionTrace\n",
    "                st = saPair[1]\n",
    "                q[saPair] += (b/(b + numVisits[st]))*(c + nextOptQ - g*time - q[saPair])\n",
    "            end\n",
    "\n",
    "            stateActionTrace = []\n",
    "        else\n",
    "            sPrime = s - bestA\n",
    "\n",
    "            nextOptAandQ = actionFromQTab(sPrime, N, q)\n",
    "            nextOptA = nextOptAandQ[1]\n",
    "            nextOptQ = nextOptAandQ[2]\n",
    "        end\n",
    "        \n",
    "        s = sPrime\n",
    "        optA = nextOptA\n",
    "        optQ = nextOptQ\n",
    "\n",
    "        push!(gs, g)\n",
    "        if printProgress == true && n%modCounter == 0\n",
    "            sleep(0.001)\n",
    "            println(n)\n",
    "        end\n",
    "    end\n",
    "    \n",
    "    return q, g, gs\n",
    "end"
   ]
  },
  {
   "attachments": {},
   "cell_type": "markdown",
   "id": "eb19c603",
   "metadata": {},
   "source": [
    "Taking a Q table as input, formulates the associated policy and simulates it to approximate g"
   ]
  },
  {
   "cell_type": "code",
   "execution_count": 416,
   "id": "0943848d",
   "metadata": {},
   "outputs": [
    {
     "data": {
      "text/plain": [
       "gEvaluationTabQ (generic function with 1 method)"
      ]
     },
     "execution_count": 416,
     "metadata": {},
     "output_type": "execute_result"
    }
   ],
   "source": [
    "function gEvaluationTabQ(N,alpha_d, alpha_r, beta, tau, c0, c1, r, nMax, q; printProgress = false, modCounter = 100000)\n",
    "    #initialise\n",
    "    s = [1 for i in 1:N]\n",
    "    s0 = [1 for i in 1:N]\n",
    "    flows = zeros(N)\n",
    "    stateSpace = enumerateStates(N)\n",
    "    println(\"State Space Completed\")\n",
    "    reducedActionSpace = enumerateRestrictedActions(N)\n",
    "    runningTotal = 0.0\n",
    "    timePassed = 0.0\n",
    "    g = 0.0\n",
    "    gs = [g]\n",
    "    \n",
    "    policy = piPolicyExactContQ(q, N)\n",
    "    println(\"Policy Completed\")\n",
    "\n",
    "    #initialise flows\n",
    "    bestCost = maximum(c0) + 1\n",
    "    bestLink = 0\n",
    "    for i in 1:N\n",
    "        if c0[i] < bestCost\n",
    "            bestCost = c0[i]\n",
    "            bestLink = i\n",
    "        end\n",
    "    end\n",
    "    \n",
    "    flows[bestLink] = beta\n",
    "    \n",
    "    #do nMax iterations of AVI\n",
    "    for n in 1:nMax\n",
    "        \n",
    "        #formulate optimal action\n",
    "        bestA = policy[s]\n",
    "        \n",
    "        #find simulated next state\n",
    "        result = updateStateAndFlowsCont(s,bestA,N,alpha_d, alpha_r, beta, tau, c0, c1, r, flows)\n",
    "        sPrime = result[1]\n",
    "        \n",
    "        #update flows and average\n",
    "        if bestA == zeros(Int64, N)\n",
    "            c = result[2]\n",
    "            s = sPrime\n",
    "            flows = result[3]\n",
    "            time = result[4]\n",
    "            \n",
    "            runningTotal += c\n",
    "            timePassed += time\n",
    "            g = runningTotal/timePassed\n",
    "        else\n",
    "            s = s - bestA\n",
    "        end\n",
    "        \n",
    "        push!(gs, g)\n",
    "        if printProgress == true && n%modCounter == 0\n",
    "            sleep(0.001)\n",
    "            println(n)\n",
    "        end\n",
    "    end\n",
    "    \n",
    "    return g, gs, policy\n",
    "end"
   ]
  },
  {
   "attachments": {},
   "cell_type": "markdown",
   "id": "15b7f9ed",
   "metadata": {},
   "source": [
    "On-Policy equivalent of SMART, using next chosen action instead of next optimal action for the update target"
   ]
  },
  {
   "cell_type": "code",
   "execution_count": 417,
   "id": "433d3d34",
   "metadata": {},
   "outputs": [
    {
     "data": {
      "text/plain": [
       "smartOnPolicyTab (generic function with 1 method)"
      ]
     },
     "execution_count": 417,
     "metadata": {},
     "output_type": "execute_result"
    }
   ],
   "source": [
    "function smartOnPolicyTab(N,alpha_d, alpha_r, beta, tau, c0, c1, r, nMax, b, c; printProgress = false, modCounter = 100000, stateDepEpsilon = false)\n",
    "    #initialise\n",
    "    s = [1 for i in 1:N]\n",
    "    s0 = [1 for i in 1:N]\n",
    "    flows = zeros(N)\n",
    "    stateSpace = enumerateStates(N)\n",
    "    actionSpace = enumerateRestrictedActions(N)\n",
    "    runningTotal = 0.0\n",
    "    timePassed = 0.0\n",
    "    g = 0.0\n",
    "    gs = [g]\n",
    "    stateActionTrace = []\n",
    "    q = Dict()\n",
    "    numVisits = Dict()\n",
    "    for s in stateSpace\n",
    "        for a in enumerateFeasibleActions(s,N)\n",
    "            q[s,a] = 0.0\n",
    "        end\n",
    "        numVisits[s] = 0\n",
    "    end\n",
    "\n",
    "    #initialise flows\n",
    "    bestCost = maximum(c0) + 1\n",
    "    bestLink = 0\n",
    "    for i in 1:N\n",
    "        if c0[i] < bestCost\n",
    "            bestCost = c0[i]\n",
    "            bestLink = i\n",
    "        end\n",
    "    end\n",
    "    \n",
    "    flows[bestLink] = beta\n",
    "    \n",
    "    #choose only action for s = s0\n",
    "    optA = zeros(Int64, N)\n",
    "    optQ = q[s,optA]\n",
    "    optFlag = true\n",
    "\n",
    "    #do nMax iterations of AVI\n",
    "    for n in 1:nMax\n",
    "        \n",
    "        numVisits[s] += 1\n",
    "        \n",
    "        bestA = optA\n",
    "        \n",
    "        push!(stateActionTrace, (s,bestA))\n",
    "\n",
    "        nextOptA = zeros(Int64, N)\n",
    "        nextOptQ = 0.0\n",
    "\n",
    "        #update q, flows and average\n",
    "        if bestA == zeros(Int64, N)\n",
    "            #simulate transition\n",
    "            result = updateStateAndFlowsCont(s,bestA,N,alpha_d, alpha_r, beta, tau, c0, c1, r, flows)\n",
    "            sPrime = result[1]\n",
    "\n",
    "            c = result[2]\n",
    "            flows = result[3]\n",
    "            time = result[4]\n",
    "  \n",
    "            #update g\n",
    "            runningTotal += c\n",
    "            timePassed += time\n",
    "            g = runningTotal/timePassed\n",
    "\n",
    "            #find next e-greedy action and q value\n",
    "            #find optimal action and q-value\n",
    "            optFlag = true\n",
    "            nextOptAandQ = actionFromQTab(sPrime, N, q)\n",
    "            nextOptA = nextOptAandQ[1]\n",
    "            nextOptQ = nextOptAandQ[2]\n",
    "\n",
    "            #choose epsilon\n",
    "            epsilon = c/(c + n)\n",
    "            \n",
    "            if stateDepEpsilon\n",
    "                epsilon = c/(c + numVisits[sPrime])\n",
    "            end\n",
    "\n",
    "            #select random action with probability epsilon\n",
    "            if rand(Uniform(0,1)) < epsilon\n",
    "                nextOptA = randomAction(sPrime, N)\n",
    "                nextOptQ = q[sPrime,nextOptA]\n",
    "                optFlag = false\n",
    "            end\n",
    "            \n",
    "            for saPair in stateActionTrace\n",
    "                st = saPair[1]\n",
    "                q[saPair] += (b/(b + numVisits[st]))*(c + nextOptQ - g*time - q[saPair])\n",
    "            end\n",
    "\n",
    "            stateActionTrace = []\n",
    "        else\n",
    "            sPrime = s - bestA\n",
    "\n",
    "            optFlag = true\n",
    "            nextOptAandQ = actionFromQTab(sPrime, N, q)\n",
    "            nextOptA = nextOptAandQ[1]\n",
    "            nextOptQ = nextOptAandQ[2]\n",
    "\n",
    "            #choose epsilon\n",
    "            epsilon = c/(c + n)\n",
    "            \n",
    "            if stateDepEpsilon\n",
    "                epsilon = c/(c + numVisits[sPrime])\n",
    "            end\n",
    "\n",
    "            #select random action with probability epsilon\n",
    "            if rand(Uniform(0,1)) < epsilon\n",
    "                nextOptA = randomAction(sPrime, N)\n",
    "                nextOptQ = q[sPrime,nextOptA]\n",
    "                optFlag = false\n",
    "            end\n",
    "        end\n",
    "        \n",
    "        s = sPrime\n",
    "        optA = nextOptA\n",
    "        optQ = nextOptQ\n",
    "\n",
    "        push!(gs, g)\n",
    "        if printProgress == true && n%modCounter == 0\n",
    "            sleep(0.001)\n",
    "            println(n)\n",
    "        end\n",
    "    end\n",
    "    \n",
    "    return q, g, gs\n",
    "end"
   ]
  },
  {
   "attachments": {},
   "cell_type": "markdown",
   "id": "70994d31",
   "metadata": {},
   "source": [
    "Version of SMART using moving average window to approximate g, discarding older data"
   ]
  },
  {
   "cell_type": "code",
   "execution_count": 418,
   "id": "d8fa137b",
   "metadata": {},
   "outputs": [
    {
     "data": {
      "text/plain": [
       "smartTabMA (generic function with 1 method)"
      ]
     },
     "execution_count": 418,
     "metadata": {},
     "output_type": "execute_result"
    }
   ],
   "source": [
    "#SMART with an MA approximation for g\n",
    "function smartTabMA(N,alpha_d, alpha_r, beta, tau, c0, c1, r, nMax, b, c; window = 1000000, printProgress = false, modCounter = 100000, stateDepEpsilon = false)\n",
    "    #initialise\n",
    "    s = [1 for i in 1:N]\n",
    "    s0 = [1 for i in 1:N]\n",
    "    flows = zeros(N)\n",
    "    stateSpace = enumerateStates(N)\n",
    "    actionSpace = enumerateRestrictedActions(N)\n",
    "    runningTotal = 0.0\n",
    "    timePassed = 0.0\n",
    "    g = 0.0\n",
    "    gs = [g]\n",
    "    totalCosts = [0.0]\n",
    "    lenTotalCosts = 1\n",
    "    totalTimes = [0.0]\n",
    "    lenTotal = 1\n",
    "    stateActionTrace = []\n",
    "    q = Dict()\n",
    "    numVisits = Dict()\n",
    "    for s in stateSpace\n",
    "        for a in enumerateFeasibleActions(s,N)\n",
    "            q[s,a] = 0.0\n",
    "        end\n",
    "        numVisits[s] = 0\n",
    "    end\n",
    "\n",
    "    #initialise flows\n",
    "    bestCost = maximum(c0) + 1\n",
    "    bestLink = 0\n",
    "    for i in 1:N\n",
    "        if c0[i] < bestCost\n",
    "            bestCost = c0[i]\n",
    "            bestLink = i\n",
    "        end\n",
    "    end\n",
    "    \n",
    "    flows[bestLink] = beta\n",
    "    \n",
    "    optAandQ = actionFromQTab(s, N, q)\n",
    "    optA = optAandQ[1]\n",
    "    optQ = optAandQ[2]\n",
    "\n",
    "    #do nMax iterations of AVI\n",
    "    for n in 1:nMax\n",
    "        \n",
    "        numVisits[s] += 1\n",
    "        \n",
    "        optFlag = true\n",
    "        \n",
    "        #choose e-greedy action\n",
    "        epsilon = c/(c + n)\n",
    "        if stateDepEpsilon\n",
    "            epsilon = c/(c + numVisits[s])\n",
    "        end\n",
    "\n",
    "        if rand(Uniform(0,1)) < epsilon\n",
    "            optA = randomAction(s, N)\n",
    "            optQ = q[s,optA]\n",
    "            optFlag = false\n",
    "        end\n",
    "        \n",
    "        bestA = optA\n",
    "        \n",
    "        push!(stateActionTrace, (s,bestA))\n",
    "\n",
    "        nextOptA = zeros(Int64, N)\n",
    "        nextOptQ = 0.0\n",
    "        #update q, flows and average\n",
    "        if bestA == zeros(Int64, N)\n",
    "            #simulate transition\n",
    "            result = updateStateAndFlowsCont(s,bestA,N,alpha_d, alpha_r, beta, tau, c0, c1, r, flows)\n",
    "            sPrime = result[1]\n",
    "\n",
    "            c = result[2]\n",
    "            flows = result[3]\n",
    "            time = result[4]\n",
    "  \n",
    "            #update g if optimal action taken\n",
    "            if optFlag\n",
    "                runningTotal += c\n",
    "                timePassed += time\n",
    "                push!(totalCosts, runningTotal)               \n",
    "                push!(totalTimes, timePassed)\n",
    "                lenTotal += 1\n",
    "                if lenTotal <= window\n",
    "                    g = runningTotal/timePassed\n",
    "                else\n",
    "                    g = (runningTotal - totalCosts[lenTotal - window])/(timePassed - totalTimes[lenTotal - window])\n",
    "                end\n",
    "            end\n",
    "\n",
    "            #find next optimal action and q value\n",
    "            nextOptAandQ = actionFromQTab(sPrime, N, q)\n",
    "            nextOptA = nextOptAandQ[1]\n",
    "            nextOptQ = nextOptAandQ[2]\n",
    "\n",
    "            for saPair in stateActionTrace\n",
    "                st = saPair[1]\n",
    "                q[saPair] += (b/(b + numVisits[st]))*(c + nextOptQ - g*time - q[saPair])\n",
    "            end\n",
    "\n",
    "            stateActionTrace = []\n",
    "        else\n",
    "            sPrime = s - bestA\n",
    "\n",
    "            nextOptAandQ = actionFromQTab(sPrime, N, q)\n",
    "            nextOptA = nextOptAandQ[1]\n",
    "            nextOptQ = nextOptAandQ[2]\n",
    "        end\n",
    "        \n",
    "        s = sPrime\n",
    "        optA = nextOptA\n",
    "        optQ = nextOptQ\n",
    "\n",
    "        push!(gs, g)\n",
    "        if printProgress == true && n%modCounter == 0\n",
    "            sleep(0.001)\n",
    "            println(n)\n",
    "        end\n",
    "    end\n",
    "    \n",
    "    return q, g, gs\n",
    "end"
   ]
  },
  {
   "attachments": {},
   "cell_type": "markdown",
   "id": "199fc408",
   "metadata": {},
   "source": [
    "# Tabular SMARPE"
   ]
  },
  {
   "cell_type": "code",
   "execution_count": 419,
   "id": "29ea47f6",
   "metadata": {},
   "outputs": [
    {
     "data": {
      "text/plain": [
       "smarpeTabST (generic function with 1 method)"
      ]
     },
     "execution_count": 419,
     "metadata": {},
     "output_type": "execute_result"
    }
   ],
   "source": [
    "#SMARPE with tabular representation instead of VFA, and state trace \n",
    "function smarpeTabST(N,alpha_d, alpha_r, beta, tau, c0, c1, r, hIn, g0, nMax, b; copyH = false, printProgress = false, modCounter = 100000)\n",
    "    #initialise\n",
    "    s = [1 for i in 1:N]\n",
    "    s0 = [1 for i in 1:N]\n",
    "    flows = zeros(N)\n",
    "    stateSpace = enumerateStates(N)\n",
    "    reducedActionSpace = enumerateRestrictedActions(N)\n",
    "    runningTotal = 0.0\n",
    "    timePassed = 0.0\n",
    "    g = 0.0\n",
    "    gs = [g]\n",
    "    policy = piPolicyExactCont(hIn, N, alpha_d, alpha_r, beta, tau, c0, c1, r, g0)\n",
    "    println(\"Policy Constructed\")\n",
    "    stateTrace = []\n",
    "    \n",
    "    h = Dict()\n",
    "    numVisits = Dict()\n",
    "    for s in stateSpace\n",
    "        if copyH\n",
    "            h[s] = hIn[s]\n",
    "        else\n",
    "            h[s] = 0.0\n",
    "        end\n",
    "        \n",
    "        numVisits[s] = 0\n",
    "    end\n",
    "    \n",
    "    #initialise flows\n",
    "    bestCost = maximum(c0) + 1\n",
    "    bestLink = 0\n",
    "    for i in 1:N\n",
    "        if c0[i] < bestCost\n",
    "            bestCost = c0[i]\n",
    "            bestLink = i\n",
    "        end\n",
    "    end\n",
    "    \n",
    "    flows[bestLink] = beta\n",
    "    \n",
    "    #do nMax iterations of SMARPE\n",
    "    for n in 1:nMax\n",
    "        \n",
    "        #update numVisits\n",
    "        numVisits[s] += 1\n",
    "\n",
    "        #update trace\n",
    "        push!(stateTrace, s)\n",
    "\n",
    "        #formulate optimal action\n",
    "        optA = policy[s]\n",
    "        if optA == zeros(Int64, N)\n",
    "            t = sojournTime(s, optA, flows, N, alpha_d, alpha_r, beta, tau)\n",
    "            optV = instantCostCont(s,optA,N,alpha_d, alpha_r, beta, tau, c0, c1, r, flows) + expectedNextValueContTab(s,optA,N,alpha_d, alpha_r, beta, tau, c0, c1, r, flows, h) - g*t\n",
    "        end\n",
    "\n",
    "        bestA = optA\n",
    "        \n",
    "        #find simulated next state\n",
    "        result = updateStateAndFlowsCont(s,bestA,N,alpha_d, alpha_r, beta, tau, c0, c1, r, flows)\n",
    "        sPrime = result[1]\n",
    "        \n",
    "        #if action is passive, update VFA across state trace and simulate the next state, and update g. otherwise, simply update current state\n",
    "        if bestA == zeros(Int64, N)\n",
    "            bestV = optV - h[s0]\n",
    "            for st in stateTrace\n",
    "                currentEst = h[st]\n",
    "                h[st] += (b/(b + numVisits[st]))*(bestV - currentEst)\n",
    "            end\n",
    "            stateTrace = []\n",
    "\n",
    "            c = result[2]\n",
    "            s = sPrime\n",
    "            flows = result[3]\n",
    "            time = result[4]\n",
    "            \n",
    "            runningTotal += c\n",
    "            timePassed += time\n",
    "            g = runningTotal/timePassed\n",
    "        else\n",
    "            s = s - bestA\n",
    "        end\n",
    "        \n",
    "        push!(gs, g)\n",
    "        if printProgress == true && n%modCounter == 0\n",
    "            sleep(0.001)\n",
    "            println(n)\n",
    "        end\n",
    "    end\n",
    "    \n",
    "    return h, g, gs\n",
    "end"
   ]
  },
  {
   "cell_type": "code",
   "execution_count": 420,
   "id": "9483ef10",
   "metadata": {},
   "outputs": [
    {
     "data": {
      "text/plain": [
       "smarpeTabStochST (generic function with 1 method)"
      ]
     },
     "execution_count": 420,
     "metadata": {},
     "output_type": "execute_result"
    }
   ],
   "source": [
    "#Uses tabular representation instead of VFA, e-greedy action selection, and state trace \n",
    "function smarpeTabStochST(N,alpha_d, alpha_r, beta, tau, c0, c1, r, nMax, b; printProgress = false, modCounter = 100000)\n",
    "    #initialise\n",
    "    s = [1 for i in 1:N]\n",
    "    s0 = [1 for i in 1:N]\n",
    "    flows = zeros(N)\n",
    "    stateSpace = enumerateStates(N)\n",
    "    reducedActionSpace = enumerateRestrictedActions(N)\n",
    "    runningTotal = 0.0\n",
    "    timePassed = 0.0\n",
    "    g = 0.0\n",
    "    gs = [g]\n",
    "    stateTrace = []\n",
    "    \n",
    "    h = Dict()\n",
    "    numVisits = Dict()\n",
    "    for s in stateSpace\n",
    "        h[s] = 0.0\n",
    "        numVisits[s] = 0\n",
    "    end\n",
    "    \n",
    "    #initialise flows\n",
    "    bestCost = maximum(c0) + 1\n",
    "    bestLink = 0\n",
    "    for i in 1:N\n",
    "        if c0[i] < bestCost\n",
    "            bestCost = c0[i]\n",
    "            bestLink = i\n",
    "        end\n",
    "    end\n",
    "    \n",
    "    flows[bestLink] = beta\n",
    "    \n",
    "    #do nMax iterations of SMARPE\n",
    "    for n in 1:nMax\n",
    "        \n",
    "        #update numVisits\n",
    "        numVisits[s] += 1\n",
    "\n",
    "        #update trace\n",
    "        push!(stateTrace, s)\n",
    "\n",
    "        #choose random action\n",
    "        optA = randomAction(s,N)\n",
    "        if optA == zeros(Int64, N)\n",
    "            t = sojournTime(s, optA, flows, N, alpha_d, alpha_r, beta, tau)\n",
    "            optV = instantCostCont(s,optA,N,alpha_d, alpha_r, beta, tau, c0, c1, r, flows) + expectedNextValueContTab(s,optA,N,alpha_d, alpha_r, beta, tau, c0, c1, r, flows, h) - g*t\n",
    "        end\n",
    "\n",
    "        bestA = optA\n",
    "        \n",
    "        #find simulated next state\n",
    "        result = updateStateAndFlowsCont(s,bestA,N,alpha_d, alpha_r, beta, tau, c0, c1, r, flows)\n",
    "        sPrime = result[1]\n",
    "        \n",
    "        #if action is passive, update VFA across state trace and simulate the next state, and update g. otherwise, simply update current state\n",
    "        if bestA == zeros(Int64, N)\n",
    "            bestV = optV - h[s0]\n",
    "            for st in stateTrace\n",
    "                currentEst = h[st]\n",
    "                h[st] += (b/(b + numVisits[st]))*(bestV - currentEst)\n",
    "            end\n",
    "            stateTrace = []\n",
    "\n",
    "            c = result[2]\n",
    "            s = sPrime\n",
    "            flows = result[3]\n",
    "            time = result[4]\n",
    "            \n",
    "            runningTotal += c\n",
    "            timePassed += time\n",
    "            g = runningTotal/timePassed\n",
    "        else\n",
    "            s = s - bestA\n",
    "        end\n",
    "        \n",
    "        push!(gs, g)\n",
    "        if printProgress == true && n%modCounter == 0\n",
    "            sleep(0.001)\n",
    "            println(n)\n",
    "        end\n",
    "    end\n",
    "    \n",
    "    return h, g, gs\n",
    "end"
   ]
  },
  {
   "cell_type": "code",
   "execution_count": 421,
   "id": "2da93d57",
   "metadata": {},
   "outputs": [
    {
     "data": {
      "text/plain": [
       "smarpeTabST_epsSoft_onPolicy (generic function with 1 method)"
      ]
     },
     "execution_count": 421,
     "metadata": {},
     "output_type": "execute_result"
    }
   ],
   "source": [
    "#Tabular SMARPE with state trace using e-soft policy\n",
    "function smarpeTabST_epsSoft_onPolicy(N,alpha_d, alpha_r, beta, tau, c0, c1, r, hIn, g0, nMax, b, c; copyH = false, printProgress = false, modCounter = 100000, stateDepEpsilon = true)\n",
    "    #initialise\n",
    "    s = [1 for i in 1:N]\n",
    "    s0 = [1 for i in 1:N]\n",
    "    flows = zeros(N)\n",
    "    stateSpace = enumerateStates(N)\n",
    "    reducedActionSpace = enumerateRestrictedActions(N)\n",
    "    runningTotal = 0.0\n",
    "    timePassed = 0.0\n",
    "    g = 0.0\n",
    "    gs = [g]\n",
    "    policy = piPolicyExactCont(hIn, N, alpha_d, alpha_r, beta, tau, c0, c1, r, g0)\n",
    "    println(\"Policy Constructed\")\n",
    "    stateTrace = []\n",
    "    \n",
    "    h = Dict()\n",
    "    numVisits = Dict()\n",
    "    for s in stateSpace\n",
    "        if copyH\n",
    "            h[s] = hIn[s]\n",
    "        else\n",
    "            h[s] = 0.0\n",
    "        end\n",
    "        \n",
    "        numVisits[s] = 0\n",
    "    end\n",
    "    \n",
    "    #initialise flows\n",
    "    bestCost = maximum(c0) + 1\n",
    "    bestLink = 0\n",
    "    for i in 1:N\n",
    "        if c0[i] < bestCost\n",
    "            bestCost = c0[i]\n",
    "            bestLink = i\n",
    "        end\n",
    "    end\n",
    "    \n",
    "    flows[bestLink] = beta\n",
    "    \n",
    "    #do nMax iterations of SMARPE\n",
    "    for n in 1:nMax\n",
    "        \n",
    "        #update numVisits\n",
    "        numVisits[s] += 1\n",
    "\n",
    "        #update trace\n",
    "        push!(stateTrace, s)\n",
    "\n",
    "        #formulate action\n",
    "        optA = policy[s]\n",
    "        optV = 0.0\n",
    "        if optA == zeros(Int64, N)\n",
    "            t = sojournTime(s, optA, flows, N, alpha_d, alpha_r, beta, tau)\n",
    "            optV = instantCostCont(s,optA,N,alpha_d, alpha_r, beta, tau, c0, c1, r, flows) + expectedNextValueContTab(s,optA,N,alpha_d, alpha_r, beta, tau, c0, c1, r, flows, h) - g*t\n",
    "        end\n",
    "\n",
    "        #e-greedy action\n",
    "        bestA = optA\n",
    "        epsilon = c/(c + n)\n",
    "        if stateDepEpsilon\n",
    "            epsilon = c/(c + numVisits[s])\n",
    "        end\n",
    "        if rand(Uniform(0,1)) < epsilon\n",
    "            bestA = randomAction(s,N)\n",
    "            if bestA == zeros(Int64, N)\n",
    "                t = sojournTime(s, bestA, flows, N, alpha_d, alpha_r, beta, tau)\n",
    "                optV = instantCostCont(s,optA,N,alpha_d, alpha_r, beta, tau, c0, c1, r, flows) + expectedNextValueContTab(s,optA,N,alpha_d, alpha_r, beta, tau, c0, c1, r, flows, h) - g*t\n",
    "            end\n",
    "        end\n",
    "\n",
    "        #find simulated next state\n",
    "        result = updateStateAndFlowsCont(s,bestA,N,alpha_d, alpha_r, beta, tau, c0, c1, r, flows)\n",
    "        sPrime = result[1]\n",
    "        \n",
    "        #if action is passive, update VFA across state trace and simulate the next state, and update g. otherwise, simply update current state\n",
    "        if bestA == zeros(Int64, N)\n",
    "            bestV = optV - h[s0]\n",
    "            for st in stateTrace\n",
    "                currentEst = h[st]\n",
    "                h[st] += (b/(b + numVisits[st]))*(bestV - currentEst)\n",
    "            end\n",
    "            stateTrace = []\n",
    "\n",
    "            c = result[2]\n",
    "            s = sPrime\n",
    "            flows = result[3]\n",
    "            time = result[4]\n",
    "            \n",
    "            runningTotal += c\n",
    "            timePassed += time\n",
    "            g = runningTotal/timePassed\n",
    "        else\n",
    "            s = s - bestA\n",
    "        end\n",
    "        \n",
    "        push!(gs, g)\n",
    "        if printProgress == true && n%modCounter == 0\n",
    "            sleep(0.001)\n",
    "            println(n)\n",
    "        end\n",
    "    end\n",
    "    \n",
    "    return h, g, gs\n",
    "end"
   ]
  },
  {
   "attachments": {},
   "cell_type": "markdown",
   "id": "fe61cfb6",
   "metadata": {},
   "source": [
    "# SMARVI - New VFA"
   ]
  },
  {
   "cell_type": "code",
   "execution_count": 422,
   "id": "2411428a",
   "metadata": {},
   "outputs": [
    {
     "data": {
      "text/plain": [
       "subStates (generic function with 1 method)"
      ]
     },
     "execution_count": 422,
     "metadata": {},
     "output_type": "execute_result"
    }
   ],
   "source": [
    "#returns substates of edges in an array, and state of destination node\n",
    "function subStates(s, N, flows)\n",
    "    sis = []\n",
    "    sn = 0\n",
    "    for i in 1:N\n",
    "        if s[i] == 2 || s[i] == 3\n",
    "            push!(sis, s[i])\n",
    "        elseif flows[i] == 0\n",
    "            push!(sis, 0)\n",
    "        else\n",
    "            push!(sis, 1)\n",
    "        end\n",
    "    end\n",
    "\n",
    "    if flows == fill(0.0, N)\n",
    "        sn = 1\n",
    "    end\n",
    "    \n",
    "    return sis, sn\n",
    "end"
   ]
  },
  {
   "cell_type": "code",
   "execution_count": 423,
   "id": "b40410e2",
   "metadata": {},
   "outputs": [
    {
     "data": {
      "text/plain": [
       "v (generic function with 4 methods)"
      ]
     },
     "execution_count": 423,
     "metadata": {},
     "output_type": "execute_result"
    }
   ],
   "source": [
    "#calculates v from seperate ve and vn tables\n",
    "function v(s::Vector{Int64}, N::Int64, flows::Vector{Float64}, ve::Dict, vn::Dict; s0 = [])\n",
    "    if s == s0\n",
    "        return 0.0\n",
    "    end\n",
    "\n",
    "    substates = subStates(s, N, flows)\n",
    "    sis = substates[1]\n",
    "    sn = substates[2]\n",
    "\n",
    "    v = 0.0\n",
    "    for i in 1:N\n",
    "        si = sis[i]\n",
    "        v += ve[i,si]\n",
    "    end\n",
    "\n",
    "    v += vn[sn]\n",
    "\n",
    "    return v\n",
    "end\n",
    "\n",
    "function v(s,N,alpha_d, alpha_r, beta, tau, c0, c1, r, ve, vn; s0 = [])\n",
    "    if s == s0\n",
    "        return 0.0\n",
    "    end\n",
    "    \n",
    "    flowsAndCost = calculateFlows(s,N,alpha_d, alpha_r, beta, tau, c0, c1, r)\n",
    "    return v(s, N, flowsAndCost[1], ve, vn)\n",
    "end"
   ]
  },
  {
   "cell_type": "code",
   "execution_count": 424,
   "id": "bdcbb3d7",
   "metadata": {},
   "outputs": [
    {
     "data": {
      "text/plain": [
       "expectedNextValueContNewVFA (generic function with 1 method)"
      ]
     },
     "execution_count": 424,
     "metadata": {},
     "output_type": "execute_result"
    }
   ],
   "source": [
    "#Calculates E(h(s')) given a state-action pair, and VFA from ve and vn tables\n",
    "function expectedNextValueContNewVFA(s,a,N,alpha_d, alpha_r, beta, tau, c0, c1, r, flows, ve, vn; s0 = [])\n",
    "    del = sojournTime(s, a, flows, N, alpha_d, alpha_r, beta, tau)\n",
    "    #immediate change\n",
    "    sPrime = s - a\n",
    "    healthy = sum(i == 1 for i in sPrime)\n",
    "    repair = sum(i == 2 for i in sPrime)\n",
    "    damaged = sum(i == 3 for i in sPrime)\n",
    "    \n",
    "    #different treatment for all-damaged state\n",
    "    if sPrime == fill(3,N)\n",
    "        return v(sPrime,N,alpha_d, alpha_r, beta, tau, c0, c1, r, ve, vn)\n",
    "    end\n",
    "    \n",
    "    runningTotal = 0\n",
    "    \n",
    "    #demand degs\n",
    "    for k in 1:N\n",
    "        sNext = copy(sPrime)\n",
    "        sNext[k] = 3\n",
    "        runningTotal += flows[k]*alpha_d[k]*del*v(sNext,N,alpha_d, alpha_r, beta, tau, c0, c1, r, ve, vn; s0 = s0)\n",
    "    end\n",
    "    \n",
    "    #rare degs\n",
    "    for k in 1:N\n",
    "        if sPrime[k] != 3\n",
    "            sNext = copy(sPrime)\n",
    "            sNext[k] = 3\n",
    "            runningTotal += alpha_r[k]*del*v(sNext,N,alpha_d, alpha_r, beta, tau, c0, c1, r, ve, vn; s0 = s0)\n",
    "        end\n",
    "    end\n",
    "    \n",
    "    #repairs\n",
    "    for k in 1:N\n",
    "        if sPrime[k] == 2\n",
    "            sNext = copy(sPrime)\n",
    "            sNext[k] = 1\n",
    "            runningTotal += tau[k]*del*v(sNext,N,alpha_d, alpha_r, beta, tau, c0, c1, r, ve, vn; s0 = s0)\n",
    "        end\n",
    "    end\n",
    "    \n",
    "    return runningTotal\n",
    "end   "
   ]
  },
  {
   "cell_type": "code",
   "execution_count": 425,
   "id": "e63f3219",
   "metadata": {},
   "outputs": [
    {
     "data": {
      "text/plain": [
       "smarActionAndVFromNewVFA (generic function with 1 method)"
      ]
     },
     "execution_count": 425,
     "metadata": {},
     "output_type": "execute_result"
    }
   ],
   "source": [
    "function smarActionAndVFromNewVFA(s, flows, N,alpha_d, alpha_r, beta, tau, c0, c1, r, ve, vn, g; s0 = [])\n",
    "    #find optimal action\n",
    "    optA = zeros(Int64,N)\n",
    "    t = sojournTime(s, optA, flows, N, alpha_d, alpha_r, beta, tau)\n",
    "    optV = instantCostCont(s,optA,N,alpha_d, alpha_r, beta, tau, c0, c1, r, flows) + expectedNextValueContNewVFA(s,optA,N,alpha_d, alpha_r, beta, tau, c0, c1, r, flows, ve, vn; s0 = s0) - g*t\n",
    "    zeroV = optV\n",
    "\n",
    "    for i in 1:N\n",
    "        if s[i] == 3\n",
    "            a = zeros(Int64, N)\n",
    "            a[i] = 1\n",
    "            \n",
    "            testV = v(s-a, N, flows, ve, vn; s0 = s0)\n",
    "            if testV <= optV\n",
    "                optV = testV\n",
    "                optA = a\n",
    "            end\n",
    "        end\n",
    "    end\n",
    "        \n",
    "    #Fix choose optimal non-passive action if state is [3,3,...,3]\n",
    "    if s == fill(3,N) && optA == zeros(Int64, N)\n",
    "        optA[1] = 1\n",
    "        optV = v(s-optA, N, flows, ve, vn; s0 = s0)\n",
    "            \n",
    "        for i in 2:N\n",
    "            if s[i] == 3\n",
    "                a = zeros(Int64, N)\n",
    "                a[i] = 1\n",
    "\n",
    "                testV = v(s-a, N, flows, ve, vn; s0 = s0)\n",
    "                if testV <= optV\n",
    "                    optV = testV\n",
    "                    optA = a\n",
    "                end\n",
    "            end\n",
    "        end\n",
    "    end\n",
    "\n",
    "    return optA, optV, zeroV\n",
    "end"
   ]
  },
  {
   "cell_type": "code",
   "execution_count": 426,
   "id": "dee6e500",
   "metadata": {},
   "outputs": [
    {
     "data": {
      "text/plain": [
       "policyFromNewVFA (generic function with 1 method)"
      ]
     },
     "execution_count": 426,
     "metadata": {},
     "output_type": "execute_result"
    }
   ],
   "source": [
    "function policyFromNewVFA(N,alpha_d, alpha_r, beta, tau, c0, c1, r, ve, vn, g)\n",
    "    stateSpace = enumerateStates(N)\n",
    "    policy = Dict()\n",
    "    for s in stateSpace\n",
    "        flows = calculateFlows(s,N,alpha_d, alpha_r, beta, tau, c0, c1, r)[1]\n",
    "        policy[s] = smarActionAndVFromNewVFA(s, flows, N,alpha_d, alpha_r, beta, tau, c0, c1, r, ve, vn, g)[1]\n",
    "    end\n",
    "\n",
    "    return policy\n",
    "end"
   ]
  },
  {
   "cell_type": "code",
   "execution_count": 427,
   "id": "ea55e06a",
   "metadata": {},
   "outputs": [
    {
     "data": {
      "text/plain": [
       "smarActionAndVFromNewVFA_AC (generic function with 1 method)"
      ]
     },
     "execution_count": 427,
     "metadata": {},
     "output_type": "execute_result"
    }
   ],
   "source": [
    "function smarActionAndVFromNewVFA_AC(s, flows, N,alpha_d, alpha_r, beta, tau, c0, c1, r, ve, vn, gActor, gCritic; s0 = [])\n",
    "    #find optimal action using gActor to calculate Q(s,0)\n",
    "    optA = zeros(Int64,N)\n",
    "    t = sojournTime(s, optA, flows, N, alpha_d, alpha_r, beta, tau)\n",
    "    optV = instantCostCont(s,optA,N,alpha_d, alpha_r, beta, tau, c0, c1, r, flows) + expectedNextValueContNewVFA(s,optA,N,alpha_d, alpha_r, beta, tau, c0, c1, r, flows, ve, vn; s0 = s0) - gActor*t\n",
    "    zeroV = optV + gActor*t - gCritic*t #for zeroV, replace gActor with gCritic for accurate evaluation value\n",
    "\n",
    "    for i in 1:N\n",
    "        if s[i] == 3\n",
    "            a = zeros(Int64, N)\n",
    "            a[i] = 1\n",
    "            \n",
    "            testV = v(s-a, N, flows, ve, vn; s0 = s0)\n",
    "            if testV <= optV\n",
    "                optV = testV\n",
    "                optA = a\n",
    "            end\n",
    "        end\n",
    "    end\n",
    "        \n",
    "    #Fix choose optimal non-passive action if state is [3,3,...,3]\n",
    "    if s == fill(3,N) && optA == zeros(Int64, N)\n",
    "        optA[1] = 1\n",
    "        optV = v(s-optA, N, flows, ve, vn; s0 = s0)\n",
    "            \n",
    "        for i in 2:N\n",
    "            if s[i] == 3\n",
    "                a = zeros(Int64, N)\n",
    "                a[i] = 1\n",
    "\n",
    "                testV = v(s-a, N, flows, ve, vn; s0 = s0)\n",
    "                if testV <= optV\n",
    "                    optV = testV\n",
    "                    optA = a\n",
    "                end\n",
    "            end\n",
    "        end\n",
    "    end\n",
    "\n",
    "    #if passive action taken, set optV to zeroV for accurate evaluation\n",
    "    if optA == zeros(Int64, N)\n",
    "        optV = zeroV\n",
    "    end\n",
    "\n",
    "    return optA, optV, zeroV\n",
    "end"
   ]
  },
  {
   "cell_type": "code",
   "execution_count": 428,
   "id": "66a7c3a7",
   "metadata": {},
   "outputs": [
    {
     "data": {
      "text/plain": [
       "updateVFA! (generic function with 1 method)"
      ]
     },
     "execution_count": 428,
     "metadata": {},
     "output_type": "execute_result"
    }
   ],
   "source": [
    "#updates ve and vn\n",
    "function updateVFA!(s, substates, target, ve, vn, N, alpha_d, alpha_r, beta, tau, c0, c1, r, stepsize; s0 = [])\n",
    "    currentEst = v(s,N,alpha_d, alpha_r, beta, tau, c0, c1, r, ve, vn; s0 = s0)\n",
    "    sis = substates[1]\n",
    "    sn = substates[2]\n",
    "\n",
    "    for i in 1:N \n",
    "        si = sis[i]\n",
    "        ve[i, si] += stepsize*(target - currentEst)\n",
    "    end\n",
    "\n",
    "    vn[sn] += stepsize*(target - currentEst)\n",
    "\n",
    "end"
   ]
  },
  {
   "cell_type": "code",
   "execution_count": 429,
   "id": "d260791b",
   "metadata": {},
   "outputs": [
    {
     "data": {
      "text/plain": [
       "mcclainStep (generic function with 1 method)"
      ]
     },
     "execution_count": 429,
     "metadata": {},
     "output_type": "execute_result"
    }
   ],
   "source": [
    "function mcclainStep(current, limit)\n",
    "    return current/(1 + current - limit)\n",
    "end"
   ]
  },
  {
   "cell_type": "code",
   "execution_count": 430,
   "id": "c165d293",
   "metadata": {},
   "outputs": [
    {
     "data": {
      "text/plain": [
       "updateVFA_mcclain! (generic function with 1 method)"
      ]
     },
     "execution_count": 430,
     "metadata": {},
     "output_type": "execute_result"
    }
   ],
   "source": [
    "function updateVFA_mcclain!(s, substates, target, ve, vn, veStep, vnStep, N, alpha_d, alpha_r, beta, tau, c0, c1, r, stepsize; s0 = [])\n",
    "    currentEst = v(s,N,alpha_d, alpha_r, beta, tau, c0, c1, r, ve, vn; s0 = s0)\n",
    "    sis = substates[1]\n",
    "    sn = substates[2]\n",
    "\n",
    "    for i in 1:N \n",
    "        si = sis[i]\n",
    "        ve[i, si] += veStep[i, si]*(target - currentEst)\n",
    "        veStep[i, si] = mcclainStep(veStep[i, si], stepsize)\n",
    "    end\n",
    "\n",
    "    vn[sn] += vnStep[sn]*(target - currentEst)\n",
    "    vnStep[sn] = mcclainStep(vnStep[sn], stepsize)\n",
    "end"
   ]
  },
  {
   "cell_type": "code",
   "execution_count": 431,
   "id": "379e3f5d",
   "metadata": {},
   "outputs": [
    {
     "data": {
      "text/plain": [
       "smarviNewVFA_ST (generic function with 1 method)"
      ]
     },
     "execution_count": 431,
     "metadata": {},
     "output_type": "execute_result"
    }
   ],
   "source": [
    "#Uses new VFA architecture, e-greedy action selection, and state trace \n",
    "#stepsizeType options: \n",
    "# - varyByNumVisits: uses stepsize b/(b + numVisits)\n",
    "# - varyByIteration: uses stepsize b/(b + n) where n is the iteration modCounter\n",
    "# - constant: uses stepsize b\n",
    "#c is used for calculating epsilon = c/(c + n)\n",
    "#d is used for the stepsize of g\n",
    "function smarviNewVFA_ST(N,alpha_d, alpha_r, beta, tau, c0, c1, r, nMax, b, c, d; s = [1 for i in 1:N], stateTrace = [], vfaProvided = false, ve = Dict(), vn = Dict(), gActor = 0.0, gCritic, timePassed = 0.0, printProgress = false, modCounter = 100000)\n",
    "    #initialise\n",
    "    s0 = [1 for i in 1:N]\n",
    "    s3 = [3 for i in 1:N]\n",
    "    gActors = [gActor]\n",
    "    gCritics = [gCritic]\n",
    "    \n",
    "    #initialise ve and vn tables if needed\n",
    "    if !vfaProvided\n",
    "        for i in 1:N\n",
    "            for si in 0:3\n",
    "                ve[i,si] = 0.0\n",
    "            end\n",
    "        end\n",
    "\n",
    "        for i in 0:1\n",
    "            vn[i] = 0.0\n",
    "        end\n",
    "    end\n",
    "    \n",
    "    vs0Hist = []\n",
    "    vs3Hist = []\n",
    "    \n",
    "    #initialise flows\n",
    "    flows = calculateFlows(s,N,alpha_d, alpha_r, beta, tau, c0, c1, r)[1]\n",
    "    \n",
    "    flows0 = calculateFlows(s0,N,alpha_d, alpha_r, beta, tau, c0, c1, r)[1]\n",
    "    \n",
    "    flows3 = fill(0.0, N)\n",
    "\n",
    "    #do nMax iterations of SMARVI\n",
    "    for n in 1:nMax\n",
    "        \n",
    "        #update numVisits\n",
    "        substates = subStates(s, N, flows)\n",
    "        sis = substates[1]\n",
    "        sn = substates[2]\n",
    "\n",
    "        #update trace\n",
    "        push!(stateTrace, s)\n",
    "\n",
    "        #formulate optimal action and v value\n",
    "        optAandV = smarActionAndVFromNewVFA_AC(s, flows, N,alpha_d, alpha_r, beta, tau, c0, c1, r, ve, vn, gActor, gCritic)\n",
    "        optA = optAandV[1]\n",
    "        optV = optAandV[2]\n",
    "        zeroV = optAandV[3]\n",
    "\n",
    "        #choose epsilon\n",
    "        epsilon = c/(c + n)\n",
    "\n",
    "        #if random action chosen, choose action action and v value\n",
    "        if rand(Uniform(0,1)) < epsilon\n",
    "            optA = randomAction(s, N)\n",
    "            if optA == zeros(Int64, N) \n",
    "                optV = zeroV\n",
    "            else \n",
    "                optV = v(s - optA, N, flows, ve, vn)\n",
    "            end \n",
    "        end \n",
    "        \n",
    "        bestA = optA\n",
    "        \n",
    "        #find value of v^n:\n",
    "        bestV = optV \n",
    "        \n",
    "        #update VFA\n",
    "        if bestA == zeros(Int64, N)\n",
    "            updateVFA!(s, substates, bestV, ve, vn, N, alpha_d, alpha_r, beta, tau, c0, c1, r, b)\n",
    "            traceTarget = v(s, N, flows, ve, vn)\n",
    "            for st in stateTrace\n",
    "                updateVFA!(st, subStates(st, N, flows), traceTarget, ve, vn, N, alpha_d, alpha_r, beta, tau, c0, c1, r, b)\n",
    "\n",
    "                push!(vs0Hist, v(s0, N, flows0, ve, vn))\n",
    "                push!(vs3Hist, v(s3, N, flows3, ve, vn))\n",
    "            end\n",
    "            stateTrace = []\n",
    "        end\n",
    "\n",
    "        #update state, flows and g\n",
    "        if bestA == zeros(Int64, N)\n",
    "            #find simulated next state, cost, flows and sampled sojourn time\n",
    "            result = updateStateAndFlowsCont(s,bestA,N,alpha_d, alpha_r, beta, tau, c0, c1, r, flows)\n",
    "            sPrime = result[1]\n",
    "            c = result[2]\n",
    "            s = sPrime\n",
    "            flows = result[3]\n",
    "            time = result[4]\n",
    "            \n",
    "            gCritic = (gCritic*timePassed + c)/(timePassed + time) #give gCritic full update\n",
    "            timePassed += time\n",
    "            gActor += d*(gCritic - gActor) #smaller update for gActor (1/n style updates might actually make sense in this case)\n",
    "            \n",
    "        else\n",
    "            s = s - bestA\n",
    "        end\n",
    "        \n",
    "        push!(gActors, gActor)\n",
    "        push!(gCritics, gCritic)\n",
    "\n",
    "        if printProgress == true && n%modCounter == 0\n",
    "            sleep(0.001)\n",
    "            println(n)\n",
    "        end\n",
    "    end\n",
    "    \n",
    "    #return all info\n",
    "    endState = Dict()\n",
    "    endState[\"ve\"]  = ve\n",
    "    endState[\"vn\"] = vn\n",
    "    endState[\"gActor\"] = gActor\n",
    "    endState[\"gCritic\"] = gCritic\n",
    "    endState[\"timePassed\"] = timePassed\n",
    "    endState[\"s\"] = s\n",
    "    endState[\"stateTrace\"] = stateTrace\n",
    "\n",
    "    hist = Dict()\n",
    "    hist[\"vs0\"] = vs0Hist\n",
    "    hist[\"vs3\"] = vs3Hist\n",
    "    hist[\"gCritics\"] = gCritics\n",
    "    hist[\"gActors\"] = gActors\n",
    "\n",
    "    return endState, hist\n",
    "end"
   ]
  },
  {
   "cell_type": "code",
   "execution_count": 432,
   "id": "fba49dc8",
   "metadata": {},
   "outputs": [
    {
     "data": {
      "text/plain": [
       "gEvaluationNewVFA (generic function with 1 method)"
      ]
     },
     "execution_count": 432,
     "metadata": {},
     "output_type": "execute_result"
    }
   ],
   "source": [
    "function gEvaluationNewVFA(N,alpha_d, alpha_r, beta, tau, c0, c1, r, nMax, ve, vn, g0; printProgress = false, modCounter = 100000)\n",
    "    #initialise\n",
    "    s = [1 for i in 1:N]\n",
    "    s0 = [1 for i in 1:N]\n",
    "    flows = zeros(N)\n",
    "    reducedActionSpace = enumerateRestrictedActions(N)\n",
    "    runningTotal = 0.0\n",
    "    timePassed = 0.0\n",
    "    g = 0.0\n",
    "    gs = [g]\n",
    "    stateTrace = []\n",
    "    \n",
    "    #initialise flows\n",
    "    bestCost = maximum(c0) + 1\n",
    "    bestLink = 0\n",
    "    for i in 1:N\n",
    "        if c0[i] < bestCost\n",
    "            bestCost = c0[i]\n",
    "            bestLink = i\n",
    "        end\n",
    "    end\n",
    "    \n",
    "    flows[bestLink] = beta\n",
    "    #do nMax iterations of AVI\n",
    "    for n in 1:nMax\n",
    "        \n",
    "        #formulate optimal action and v value\n",
    "        optAandV = smarActionAndVFromNewVFA(s, flows, N,alpha_d, alpha_r, beta, tau, c0, c1, r, ve, vn, g0; s0 = s0)\n",
    "        optA = optAandV[1]\n",
    "\n",
    "        #update state, flows and g\n",
    "        if optA == zeros(Int64, N)\n",
    "            #find simulated next state, cost, flows and sampled sojourn time\n",
    "            result = updateStateAndFlowsCont(s,optA,N,alpha_d, alpha_r, beta, tau, c0, c1, r, flows)\n",
    "            sPrime = result[1]\n",
    "            c = result[2]\n",
    "            s = sPrime\n",
    "            flows = result[3]\n",
    "            time = result[4]\n",
    "            \n",
    "            runningTotal += c\n",
    "            timePassed += time\n",
    "            g = runningTotal/timePassed\n",
    "        else\n",
    "            s = s - optA\n",
    "        end\n",
    "        \n",
    "        push!(gs, g)\n",
    "        if printProgress == true && n%modCounter == 0\n",
    "            sleep(0.001)\n",
    "            println(n)\n",
    "        end\n",
    "    end\n",
    "    \n",
    "    return g, gs\n",
    "end"
   ]
  },
  {
   "attachments": {},
   "cell_type": "markdown",
   "id": "e9dd63ad",
   "metadata": {},
   "source": [
    "# SMARPI New VFA Functions"
   ]
  },
  {
   "cell_type": "code",
   "execution_count": 433,
   "id": "4f606ad5",
   "metadata": {},
   "outputs": [
    {
     "data": {
      "text/plain": [
       "smarActionAndVFromNewVFA_fa (generic function with 1 method)"
      ]
     },
     "execution_count": 433,
     "metadata": {},
     "output_type": "execute_result"
    }
   ],
   "source": [
    "function smarActionAndVFromNewVFA_fa(s, flows, N,alpha_d, alpha_r, beta, tau, c0, c1, r, ve, vn, g; forceZeroVCalc = false, s0 = [])\n",
    "    #find optimal action\n",
    "    optA = faAction(s)\n",
    "    optV = 0.0\n",
    "    zeroV = 0.0\n",
    "    \n",
    "    #force calculation of zeroV if required\n",
    "    if forceZeroVCalc\n",
    "        t = sojournTime(s, optA, flows, N, alpha_d, alpha_r, beta, tau)\n",
    "        zeroV = instantCostCont(s,optA,N,alpha_d, alpha_r, beta, tau, c0, c1, r, flows) + expectedNextValueContNewVFA(s,optA,N,alpha_d, alpha_r, beta, tau, c0, c1, r, flows, ve, vn; s0 = s0) - g*t\n",
    "    end\n",
    "\n",
    "    #handle different cases for action choice and forceZeroVCalc\n",
    "    if optA == zeros(Int64, N) && forceZeroVCalc\n",
    "        optV = zeroV\n",
    "    elseif optA == zeros(Int64, N)\n",
    "        t = sojournTime(s, optA, flows, N, alpha_d, alpha_r, beta, tau)\n",
    "        optV = instantCostCont(s,optA,N,alpha_d, alpha_r, beta, tau, c0, c1, r, flows) + expectedNextValueContNewVFA(s,optA,N,alpha_d, alpha_r, beta, tau, c0, c1, r, flows, ve, vn; s0 = s0) - g*t\n",
    "    else\n",
    "        optV = v(s-optA, N, flows, ve, vn; s0 = s0)\n",
    "    end\n",
    "    \n",
    "    #return values based on forceZeroVCalc\n",
    "    if forceZeroVCalc\n",
    "        return optA, optV, zeroV\n",
    "    else\n",
    "        return optA, optV\n",
    "    end\n",
    "end"
   ]
  },
  {
   "cell_type": "code",
   "execution_count": 434,
   "id": "3c1a505d",
   "metadata": {},
   "outputs": [
    {
     "data": {
      "text/plain": [
       "smarActionAndVFromNewVFA_DSP (generic function with 1 method)"
      ]
     },
     "execution_count": 434,
     "metadata": {},
     "output_type": "execute_result"
    }
   ],
   "source": [
    "function smarActionAndVFromNewVFA_DSP(s, flows, N,alpha_d, alpha_r, beta, tau, c0, c1, r, ve, vn, g, dsPolicy; epsilon = -1.0, forceZeroVCalc = false, s0 = [])\n",
    "    #find action e-soft action\n",
    "    if rand() > epsilon\n",
    "        optA = fill(0,N)\n",
    "        for i in 1:N\n",
    "            if s[i] == 3 && dsPolicy[i] == 1\n",
    "                optA[i] = 1\n",
    "                break\n",
    "            end\n",
    "        end\n",
    "    else\n",
    "        optA = randomAction(s, N)\n",
    "    end \n",
    "    \n",
    "    optV = 0.0\n",
    "    zeroV = 0.0\n",
    "    \n",
    "    #force calculation of zeroV if required\n",
    "    if forceZeroVCalc\n",
    "        t = sojournTime(s, optA, flows, N, alpha_d, alpha_r, beta, tau)\n",
    "        zeroV = instantCostCont(s,optA,N,alpha_d, alpha_r, beta, tau, c0, c1, r, flows) + expectedNextValueContNewVFA(s,optA,N,alpha_d, alpha_r, beta, tau, c0, c1, r, flows, ve, vn; s0 = s0) - g*t\n",
    "    end\n",
    "\n",
    "    #handle different cases for action choice and forceZeroVCalc\n",
    "    if optA == zeros(Int64, N) && forceZeroVCalc\n",
    "        optV = zeroV\n",
    "    elseif optA == zeros(Int64, N)\n",
    "        t = sojournTime(s, optA, flows, N, alpha_d, alpha_r, beta, tau)\n",
    "        optV = instantCostCont(s,optA,N,alpha_d, alpha_r, beta, tau, c0, c1, r, flows) + expectedNextValueContNewVFA(s,optA,N,alpha_d, alpha_r, beta, tau, c0, c1, r, flows, ve, vn; s0 = s0) - g*t\n",
    "    else\n",
    "        optV = v(s-optA, N, flows, ve, vn; s0 = s0)\n",
    "    end\n",
    "    \n",
    "    #return values based on forceZeroVCalc\n",
    "    if forceZeroVCalc\n",
    "        return optA, optV, zeroV\n",
    "    else\n",
    "        return optA, optV\n",
    "    end\n",
    "end"
   ]
  },
  {
   "cell_type": "code",
   "execution_count": 435,
   "id": "a95985e6",
   "metadata": {},
   "outputs": [
    {
     "data": {
      "text/plain": [
       "smarpeNewVFA_ST_fa (generic function with 1 method)"
      ]
     },
     "execution_count": 435,
     "metadata": {},
     "output_type": "execute_result"
    }
   ],
   "source": [
    "function smarpeNewVFA_ST_fa(N,alpha_d, alpha_r, beta, tau, c0, c1, r, nMax, b; ve = Dict(), vn = Dict(), vfaProvided = false, g = 0.0, s = [1 for i in 1:N], stateTrace = [], timePassed = 0.0, printProgress = false, modCounter = 100000)\n",
    "    #initialise\n",
    "    s0 = [1 for i in 1:N]\n",
    "    s3 = [3 for i in 1:N]\n",
    "\n",
    "    flows = zeros(N)\n",
    "    gs = [g]\n",
    "    \n",
    "    #initialise ve and vn tables if needed\n",
    "    if !vfaProvided\n",
    "        for i in 1:N\n",
    "            for si in 0:3\n",
    "                ve[i,si] = 0.0\n",
    "            end\n",
    "        end\n",
    "\n",
    "        for i in 0:1\n",
    "            vn[i] = 0.0\n",
    "        end\n",
    "    end\n",
    "\n",
    "    vs0Hist = []\n",
    "    vs3Hist = []\n",
    "\n",
    "    #initialise flows\n",
    "    flows = calculateFlows(s,N,alpha_d, alpha_r, beta, tau, c0, c1, r)[1]\n",
    "    flows0 = calculateFlows(s0,N,alpha_d, alpha_r, beta, tau, c0, c1, r)[1]\n",
    "    flows3 = fill(0.0, N)\n",
    "\n",
    "    #do nMax iterations of AVI\n",
    "    for n in 1:nMax\n",
    "        \n",
    "        #update numVisits\n",
    "        substates = subStates(s, N, flows)\n",
    "        sis = substates[1]\n",
    "        sn = substates[2]\n",
    "\n",
    "        #update trace\n",
    "        push!(stateTrace, s)\n",
    "\n",
    "        #formulate fully active action and v value\n",
    "        optAandV = smarActionAndVFromNewVFA_fa(s, flows, N,alpha_d, alpha_r, beta, tau, c0, c1, r, ve, vn, g)\n",
    "        optA = optAandV[1]\n",
    "        optV = optAandV[2]\n",
    "        \n",
    "        bestA = optA\n",
    "        \n",
    "        #find value of v^n:\n",
    "        bestV = optV \n",
    "        \n",
    "        #update VFA\n",
    "        if bestA == zeros(Int64, N)\n",
    "            updateVFA!(s, substates, bestV, ve, vn, N, alpha_d, alpha_r, beta, tau, c0, c1, r, b)\n",
    "            traceTarget = v(s, N, flows, ve, vn)\n",
    "            for st in stateTrace\n",
    "                updateVFA!(st, subStates(st, N, flows), traceTarget, ve, vn, N, alpha_d, alpha_r, beta, tau, c0, c1, r, b)\n",
    "\n",
    "                push!(vs0Hist, v(s0, N, flows0, ve, vn))\n",
    "                push!(vs3Hist, v(s3, N, flows3, ve, vn))\n",
    "            end\n",
    "            stateTrace = []\n",
    "        end\n",
    "        \n",
    "        #update state, flows and g\n",
    "        if bestA == zeros(Int64, N)\n",
    "            #find simulated next state, cost, flows and sampled sojourn time\n",
    "            result = updateStateAndFlowsCont(s,bestA,N,alpha_d, alpha_r, beta, tau, c0, c1, r, flows)\n",
    "            sPrime = result[1]\n",
    "            c = result[2]\n",
    "            s = sPrime\n",
    "            flows = result[3]\n",
    "            time = result[4]\n",
    "            \n",
    "            g = (g*timePassed + c)/(timePassed + time)\n",
    "            timePassed += time\n",
    "        else\n",
    "            s = s - bestA\n",
    "        end\n",
    "        \n",
    "        push!(gs, g)\n",
    "        if printProgress == true && n%modCounter == 0\n",
    "            show(n)\n",
    "            println()\n",
    "        end\n",
    "    end\n",
    "    \n",
    "    endState = Dict()\n",
    "    endState[\"ve\"]  = ve\n",
    "    endState[\"vn\"] = vn\n",
    "    endState[\"g\"] = g\n",
    "    endState[\"timePassed\"] = timePassed\n",
    "    endState[\"s\"] = s\n",
    "    endState[\"stateTrace\"] = stateTrace\n",
    "\n",
    "    hist = Dict()\n",
    "    hist[\"vs0\"] = vs0Hist\n",
    "    hist[\"vs3\"] = vs3Hist\n",
    "    hist[\"g\"] = gs\n",
    "\n",
    "    return endState, hist\n",
    "end"
   ]
  },
  {
   "cell_type": "code",
   "execution_count": 436,
   "id": "2abc0b91",
   "metadata": {},
   "outputs": [
    {
     "data": {
      "text/plain": [
       "smarpeNewVFA_ST_DSP (generic function with 1 method)"
      ]
     },
     "execution_count": 436,
     "metadata": {},
     "output_type": "execute_result"
    }
   ],
   "source": [
    "function smarpeNewVFA_ST_DSP(N,alpha_d, alpha_r, beta, tau, c0, c1, r, nMax, b, dsPolicy; epsilon = -1.0, ve = Dict(), vn = Dict(), vfaProvided = false, g = 0.0, gFixed = false, s = [1 for i in 1:N], stateTrace = [], timePassed = 0.0, printProgress = false, modCounter = 100000, printStates = false)\n",
    "    #initialise\n",
    "    s0 = [1 for i in 1:N]\n",
    "    s3 = [3 for i in 1:N]\n",
    "\n",
    "    flows = zeros(N)\n",
    "    gs = [g]\n",
    "    gInit = g\n",
    "    #initialise ve and vn tables if needed\n",
    "    if !vfaProvided\n",
    "        for i in 1:N\n",
    "            for si in 0:3\n",
    "                ve[i,si] = 0.0\n",
    "            end\n",
    "        end\n",
    "\n",
    "        for i in 0:1\n",
    "            vn[i] = 0.0\n",
    "        end\n",
    "    end\n",
    "\n",
    "    vs0Hist = []\n",
    "    vs3Hist = []\n",
    "\n",
    "    #initialise flows\n",
    "    flows = calculateFlows(s,N,alpha_d, alpha_r, beta, tau, c0, c1, r)[1]\n",
    "    flows0 = calculateFlows(s0,N,alpha_d, alpha_r, beta, tau, c0, c1, r)[1]\n",
    "    flows3 = fill(0.0, N)\n",
    "\n",
    "    #do nMax iterations of AVI\n",
    "    for n in 1:nMax\n",
    "        \n",
    "        #update numVisits \n",
    "        substates = subStates(s, N, flows)\n",
    "        push!(stateTrace, s)\n",
    "        \n",
    "        if gFixed\n",
    "            optAandV = smarActionAndVFromNewVFA_DSP(s, flows, N,alpha_d, alpha_r, beta, tau, c0, c1, r, ve, vn, gInit, dsPolicy; epsilon = epsilon)\n",
    "        else\n",
    "            optAandV = smarActionAndVFromNewVFA_DSP(s, flows, N,alpha_d, alpha_r, beta, tau, c0, c1, r, ve, vn, g, dsPolicy; epsilon = epsilon)\n",
    "        end\n",
    "        \n",
    "        optA = optAandV[1]\n",
    "        optV = optAandV[2]\n",
    "        \n",
    "        bestA = optA\n",
    "        \n",
    "        #find value of v^n:\n",
    "        bestV = optV \n",
    "        \n",
    "        #update VFA\n",
    "        if bestA == zeros(Int64, N)\n",
    "            updateVFA!(s, substates, bestV, ve, vn, N, alpha_d, alpha_r, beta, tau, c0, c1, r, b)\n",
    "            traceTarget = v(s, N, flows, ve, vn)\n",
    "            for st in stateTrace\n",
    "                updateVFA!(st, subStates(st, N, flows), traceTarget, ve, vn, N, alpha_d, alpha_r, beta, tau, c0, c1, r, b)\n",
    "                push!(vs0Hist, v(s0, N, flows0, ve, vn))\n",
    "                push!(vs3Hist, v(s3, N, flows3, ve, vn))\n",
    "            end\n",
    "            stateTrace = []\n",
    "        end\n",
    "        \n",
    "        #update state, flows and g\n",
    "        if bestA == zeros(Int64, N)\n",
    "            #find simulated next state, cost, flows and sampled sojourn time\n",
    "            result = updateStateAndFlowsCont(s,bestA,N,alpha_d, alpha_r, beta, tau, c0, c1, r, flows)\n",
    "            sPrime = result[1]\n",
    "            c = result[2]\n",
    "            s = sPrime\n",
    "            flows = result[3]\n",
    "            time = result[4]\n",
    "            \n",
    "            g = (g*timePassed + c)/(timePassed + time)\n",
    "            timePassed += time\n",
    "        else\n",
    "            s = s - bestA\n",
    "        end\n",
    "        \n",
    "        push!(gs, g)\n",
    "\n",
    "        if printStates \n",
    "            println(s)\n",
    "        end\n",
    "        \n",
    "        if printProgress == true && n%modCounter == 0\n",
    "            println(n)\n",
    "        end\n",
    "    end\n",
    "    \n",
    "    endState = Dict()\n",
    "    endState[\"ve\"]  = ve\n",
    "    endState[\"vn\"] = vn\n",
    "    endState[\"g\"] = g\n",
    "    endState[\"timePassed\"] = timePassed\n",
    "    endState[\"s\"] = s\n",
    "    endState[\"stateTrace\"] = stateTrace\n",
    "\n",
    "    hist = Dict()\n",
    "    hist[\"vs0\"] = vs0Hist\n",
    "    hist[\"vs3\"] = vs3Hist\n",
    "    hist[\"g\"] = gs\n",
    "\n",
    "    return endState, hist\n",
    "end"
   ]
  },
  {
   "cell_type": "code",
   "execution_count": 454,
   "id": "86bcac58",
   "metadata": {},
   "outputs": [
    {
     "data": {
      "text/plain": [
       "smarpeNewVFA_ST_DSP_mcclain (generic function with 1 method)"
      ]
     },
     "execution_count": 454,
     "metadata": {},
     "output_type": "execute_result"
    }
   ],
   "source": [
    "function smarpeNewVFA_ST_DSP_mcclain(N,alpha_d, alpha_r, beta, tau, c0, c1, r, nMax, minStep, dsPolicy; epsilon = -1.0, ve = Dict(), vn = Dict(), veStep = Dict(), vnStep = Dict(), vfaProvided = false, g = 0.0, gFixed = false, s = [1 for i in 1:N], stateTrace = [], timePassed = 0.0, printProgress = false, modCounter = 100000, printStates = false)\n",
    "    #initialise\n",
    "    s0 = [1 for i in 1:N]\n",
    "    s3 = [3 for i in 1:N]\n",
    "\n",
    "    flows = zeros(N)\n",
    "    gs = [g]\n",
    "    gInit = g\n",
    "    #initialise ve and vn tables if needed\n",
    "    if !vfaProvided\n",
    "        for i in 1:N\n",
    "            for si in 0:3\n",
    "                ve[i,si] = 0.0\n",
    "                veStep[i, si] = 1.0\n",
    "            end\n",
    "        end\n",
    "\n",
    "        for i in 0:1\n",
    "            vn[i] = 0.0\n",
    "            vnStep[i] = 1.0\n",
    "        end\n",
    "    end\n",
    "\n",
    "    vs0Hist = []\n",
    "    vs3Hist = []\n",
    "\n",
    "    #initialise flows\n",
    "    flows = calculateFlows(s,N,alpha_d, alpha_r, beta, tau, c0, c1, r)[1]\n",
    "    flows0 = calculateFlows(s0,N,alpha_d, alpha_r, beta, tau, c0, c1, r)[1]\n",
    "    flows3 = fill(0.0, N)\n",
    "\n",
    "    #do nMax iterations of AVI\n",
    "    for n in 1:nMax\n",
    "        \n",
    "        #update numVisits \n",
    "        substates = subStates(s, N, flows)\n",
    "        push!(stateTrace, s)\n",
    "        \n",
    "        if gFixed\n",
    "            optAandV = smarActionAndVFromNewVFA_DSP(s, flows, N,alpha_d, alpha_r, beta, tau, c0, c1, r, ve, vn, gInit, dsPolicy; epsilon = epsilon)\n",
    "        else\n",
    "            optAandV = smarActionAndVFromNewVFA_DSP(s, flows, N,alpha_d, alpha_r, beta, tau, c0, c1, r, ve, vn, g, dsPolicy; epsilon = epsilon)\n",
    "        end\n",
    "        \n",
    "        optA = optAandV[1]\n",
    "        optV = optAandV[2]\n",
    "        \n",
    "        bestA = optA\n",
    "        \n",
    "        #find value of v^n:\n",
    "        bestV = optV \n",
    "        \n",
    "        #update VFA\n",
    "        if bestA == zeros(Int64, N)\n",
    "            updateVFA_mcclain!(s, substates, bestV, ve, vn, veStep, vnStep, N, alpha_d, alpha_r, beta, tau, c0, c1, r, minStep)\n",
    "            traceTarget = v(s, N, flows, ve, vn)\n",
    "            for st in stateTrace\n",
    "                updateVFA_mcclain!(st, subStates(st, N, flows), traceTarget, ve, vn, veStep, vnStep, N, alpha_d, alpha_r, beta, tau, c0, c1, r, minStep)\n",
    "                push!(vs0Hist, v(s0, N, flows0, ve, vn))\n",
    "                push!(vs3Hist, v(s3, N, flows3, ve, vn))\n",
    "            end\n",
    "            stateTrace = []\n",
    "        end\n",
    "        \n",
    "        #update state, flows and g\n",
    "        if bestA == zeros(Int64, N)\n",
    "            #find simulated next state, cost, flows and sampled sojourn time\n",
    "            result = updateStateAndFlowsCont(s,bestA,N,alpha_d, alpha_r, beta, tau, c0, c1, r, flows)\n",
    "            sPrime = result[1]\n",
    "            c = result[2]\n",
    "            s = sPrime\n",
    "            flows = result[3]\n",
    "            time = result[4]\n",
    "            \n",
    "            g = (g*timePassed + c)/(timePassed + time)\n",
    "            timePassed += time\n",
    "        else\n",
    "            s = s - bestA\n",
    "        end\n",
    "        \n",
    "        push!(gs, g)\n",
    "\n",
    "        if printStates \n",
    "            println(s)\n",
    "        end\n",
    "        \n",
    "        if printProgress == true && n%modCounter == 0\n",
    "            println(n)\n",
    "        end\n",
    "    end\n",
    "    \n",
    "    endState = Dict()\n",
    "    endState[\"ve\"]  = ve\n",
    "    endState[\"vn\"] = vn\n",
    "    endState[\"g\"] = g\n",
    "    endState[\"timePassed\"] = timePassed\n",
    "    endState[\"s\"] = s\n",
    "    endState[\"stateTrace\"] = stateTrace\n",
    "\n",
    "    hist = Dict()\n",
    "    hist[\"vs0\"] = vs0Hist\n",
    "    hist[\"vs3\"] = vs3Hist\n",
    "    hist[\"g\"] = gs\n",
    "\n",
    "    return endState, hist\n",
    "end"
   ]
  },
  {
   "cell_type": "code",
   "execution_count": 438,
   "id": "75cd5870",
   "metadata": {},
   "outputs": [
    {
     "data": {
      "text/plain": [
       "smarpeNewVFA_fa (generic function with 1 method)"
      ]
     },
     "execution_count": 438,
     "metadata": {},
     "output_type": "execute_result"
    }
   ],
   "source": [
    "function smarpeNewVFA_fa(N,alpha_d, alpha_r, beta, tau, c0, c1, r, nMax, b, d; ve = Dict(), vn = Dict(), vfaProvided = false, g = 0.0, s = [1 for i in 1:N], stepsizeType = \"constant\", printProgress = false, modCounter = 100000)\n",
    "    #initialise\n",
    "    s0 = [1 for i in 1:N]\n",
    "    s3 = [3 for i in 1:N]\n",
    "\n",
    "    flows = zeros(N)\n",
    "    reducedActionSpace = enumerateRestrictedActions(N)\n",
    "    runningTotal = 0.0\n",
    "    timePassed = 0.0\n",
    "    gs = [g]\n",
    "    \n",
    "    #initialise ve and vn tables\n",
    "    numVisitsE = Dict()\n",
    "    for i in 1:N\n",
    "        for si in 0:3\n",
    "            if !vfaProvided\n",
    "                ve[i,si] = 0.0\n",
    "            end\n",
    "            numVisitsE[i,si] = 0\n",
    "        end\n",
    "    end\n",
    "    \n",
    "    numVisitsN = Dict()\n",
    "    for i in 0:1\n",
    "        if !vfaProvided\n",
    "            vn[i] = 0.0\n",
    "        end\n",
    "        numVisitsN[i] = 0\n",
    "    end\n",
    "\n",
    "    numVisitsG = 0\n",
    "    vs0Hist = [0.0]\n",
    "    vs3Hist = [0.0]\n",
    "\n",
    "    #initialise flows\n",
    "    flows = calculateFlows(s,N,alpha_d, alpha_r, beta, tau, c0, c1, r)[1]\n",
    "    flows0 = calculateFlows(s0,N,alpha_d, alpha_r, beta, tau, c0, c1, r)[1]\n",
    "    flows3 = fill(0.0, N)\n",
    "\n",
    "    #do nMax iterations of AVI\n",
    "    for n in 1:nMax\n",
    "        \n",
    "        #update numVisits\n",
    "        substates = subStates(s, N, flows)\n",
    "        sis = substates[1]\n",
    "        sn = substates[2]\n",
    "        for i in 1:N\n",
    "            numVisitsE[i,sis[i]] += 1\n",
    "        end\n",
    "\n",
    "        numVisitsN[sn] += 1\n",
    "\n",
    "        #formulate fully active action and v value\n",
    "        optAandV = smarActionAndVFromNewVFA_fa(s, flows, N,alpha_d, alpha_r, beta, tau, c0, c1, r, ve, vn, g)\n",
    "        optA = optAandV[1]\n",
    "        optV = optAandV[2]\n",
    "        \n",
    "        bestA = optA\n",
    "        \n",
    "        #find value of v^n:\n",
    "        bestV = optV \n",
    "        \n",
    "        #update VFA\n",
    "        if stepsizeType == \"varyByNumVisits\"\n",
    "            ve,vn = updateVFA(s, substates, bestV, ve, vn, numVisitsE, numVisitsN, N, alpha_d, alpha_r, beta, tau, c0, c1, r, b)\n",
    "        elseif stepsizeType == \"constant\"\n",
    "            ve,vn = updateVFA(s, substates, bestV, ve, vn, N, alpha_d, alpha_r, beta, tau, c0, c1, r, b)\n",
    "        elseif stepsizeType == \"varyByIteration\"\n",
    "            ve,vn = updateVFA(s, substates, bestV, ve, vn, n, N, alpha_d, alpha_r, beta, tau, c0, c1, r, b)\n",
    "        else\n",
    "            println(\"Invalid stepsize rule\")\n",
    "            return 0\n",
    "        end\n",
    "\n",
    "        #add new estimates of v(s0) and v(s3) to their lists\n",
    "        push!(vs0Hist, v(s0, N, flows0, ve, vn))\n",
    "        push!(vs3Hist, v(s3, N, flows3, ve, vn))\n",
    "\n",
    "\n",
    "        #update state, flows and g\n",
    "        if bestA == zeros(Int64, N)\n",
    "            #find simulated next state, cost, flows and sampled sojourn time\n",
    "            result = updateStateAndFlowsCont2(s,bestA,N,alpha_d, alpha_r, beta, tau, c0, c1, r, flows)\n",
    "            sPrime = result[1]\n",
    "            c = result[2]\n",
    "            s = sPrime\n",
    "            flows = result[3]\n",
    "            time = result[4]\n",
    "            \n",
    "            runningTotal += c\n",
    "            timePassed += time\n",
    "            numVisitsG += 1\n",
    "            g = runningTotal/timePassed #use basic calculation for g due to stationary policy (could be replaced by slower version to reduce noise)\n",
    "            \n",
    "        else\n",
    "            s = s - bestA\n",
    "        end\n",
    "        \n",
    "        push!(gs, g)\n",
    "        if printProgress == true && n%modCounter == 0\n",
    "            show(n)\n",
    "            println()\n",
    "        end\n",
    "    end\n",
    "    \n",
    "    return ve, vn, g, gs, vs0Hist, vs3Hist, s, stateTrace\n",
    "end"
   ]
  },
  {
   "cell_type": "code",
   "execution_count": 439,
   "id": "c4a9d774",
   "metadata": {},
   "outputs": [
    {
     "data": {
      "text/plain": [
       "normaliseVFA (generic function with 1 method)"
      ]
     },
     "execution_count": 439,
     "metadata": {},
     "output_type": "execute_result"
    }
   ],
   "source": [
    "function normaliseVFA!(ve, vn, substates0)\n",
    "    sis0 = substates0[1]\n",
    "    sn0 = substates0[2]\n",
    "    for i in 1:N \n",
    "        i0 = sis0[i]\n",
    "        for ie in 0:3\n",
    "            ve[i,ie] -= ve[i, i0]\n",
    "        end\n",
    "    end\n",
    "\n",
    "    vn[0] -= vn[sn0]\n",
    "    vn[1] -= vn[sn0]\n",
    "    \n",
    "end\n",
    "\n",
    "function normaliseVFA(ve,vn,substates0)\n",
    "    veC = copy(ve)\n",
    "    vnC = copy(vn)\n",
    "\n",
    "    normaliseVFA!(veC, vnC, substates0)\n",
    "\n",
    "    return ve, vn\n",
    "end"
   ]
  },
  {
   "cell_type": "code",
   "execution_count": 440,
   "id": "583177a1",
   "metadata": {},
   "outputs": [
    {
     "data": {
      "text/plain": [
       "smarActionAndVFromNewVFA_PI (generic function with 1 method)"
      ]
     },
     "execution_count": 440,
     "metadata": {},
     "output_type": "execute_result"
    }
   ],
   "source": [
    "function smarActionAndVFromNewVFA_PI(s, flows, N,alpha_d, alpha_r, beta, tau, c0, c1, r, ve_in, vn_in, g_in, ve, vn, g; s0 = [])\n",
    "    #find optimal action\n",
    "    optA = smarActionAndVFromNewVFA(s, flows, N,alpha_d, alpha_r, beta, tau, c0, c1, r, ve_in, vn_in, g_in; s0 = s0)[1]\n",
    "    optV = 0.0\n",
    "    if optA == zeros(Int64, N)\n",
    "        t = sojournTime(s, optA, flows, N, alpha_d, alpha_r, beta, tau)\n",
    "        optV = instantCostCont(s,optA,N,alpha_d, alpha_r, beta, tau, c0, c1, r, flows) + expectedNextValueContNewVFA(s,optA,N,alpha_d, alpha_r, beta, tau, c0, c1, r, flows, ve, vn; s0 = s0) - g*t\n",
    "    else\n",
    "        optV = v(s - optA, N, flows, ve, vn; s0 = s0)\n",
    "    end\n",
    "\n",
    "    return optA, optV\n",
    "end"
   ]
  },
  {
   "cell_type": "code",
   "execution_count": 441,
   "id": "8cebaeba",
   "metadata": {},
   "outputs": [
    {
     "data": {
      "text/plain": [
       "smarpiNewVFA_ST (generic function with 1 method)"
      ]
     },
     "execution_count": 441,
     "metadata": {},
     "output_type": "execute_result"
    }
   ],
   "source": [
    "function smarpiNewVFA_ST(N,alpha_d, alpha_r, beta, tau, c0, c1, r, nMax, ve_in, vn_in, g_in, b; vfaProvided = false, ve = Dict(), vn = Dict(), g = 0.0, timePassed = 0.0, s = [1 for i in 1:N], stateTrace = [], stepsizeType = \"constant\", printProgress = false, modCounter = 100000)\n",
    "    #initialise\n",
    "    s0 = [1 for i in 1:N]\n",
    "    s3 = [3 for i in 1:N]\n",
    "    gs = [g]\n",
    "    \n",
    "    #initialise ve and vn tables\n",
    "    if !vfaProvided\n",
    "        for i in 1:N\n",
    "            for si in 0:3\n",
    "                ve[i,si] = 0.0\n",
    "            end\n",
    "        end\n",
    "        \n",
    "        for i in 0:1\n",
    "            vn[i] = 0.0\n",
    "        end\n",
    "    end\n",
    "\n",
    "    vs0Hist = []\n",
    "    vs3Hist = []\n",
    "\n",
    "    #initialise flows\n",
    "    flows = calculateFlows(s,N,alpha_d, alpha_r, beta, tau, c0, c1, r)[1]\n",
    "    flows0 = calculateFlows(s0,N,alpha_d, alpha_r, beta, tau, c0, c1, r)[1]\n",
    "    flows3 = fill(0.0, N)\n",
    "    \n",
    "    #do nMax iterations of AVI\n",
    "    for n in 1:nMax\n",
    "        \n",
    "        #update numVisits\n",
    "        substates = subStates(s, N, flows)\n",
    "        sis = substates[1]\n",
    "        sn = substates[2]\n",
    "\n",
    "        #update trace\n",
    "        push!(stateTrace, s)\n",
    "\n",
    "        #formulate optimal action and v value\n",
    "        optAandV = smarActionAndVFromNewVFA_PI(s, flows, N,alpha_d, alpha_r, beta, tau, c0, c1, r, ve_in, vn_in, g_in, ve, vn, g)\n",
    "        optA = optAandV[1]\n",
    "        optV = optAandV[2]\n",
    "        \n",
    "        bestA = optA\n",
    "        \n",
    "        #find value of v^n:\n",
    "        bestV = optV \n",
    "        \n",
    "        #update VFA\n",
    "        if bestA == zeros(Int64, N)\n",
    "            updateVFA!(s, substates, bestV, ve, vn, N, alpha_d, alpha_r, beta, tau, c0, c1, r, b)\n",
    "            traceTarget = v(s, N, flows, ve, vn)\n",
    "            for st in stateTrace\n",
    "                updateVFA!(st, subStates(st, N, flows), traceTarget, ve, vn, N, alpha_d, alpha_r, beta, tau, c0, c1, r, b)\n",
    "\n",
    "                push!(vs0Hist, v(s0, N, flows0, ve, vn))\n",
    "                push!(vs3Hist, v(s3, N, flows3, ve, vn))\n",
    "            end\n",
    "            stateTrace = []\n",
    "        end\n",
    "\n",
    "        #update state, flows and g\n",
    "        if bestA == zeros(Int64, N)\n",
    "            #find simulated next state, cost, flows and sampled sojourn time\n",
    "            result = updateStateAndFlowsCont(s,bestA,N,alpha_d, alpha_r, beta, tau, c0, c1, r, flows)\n",
    "            sPrime = result[1]\n",
    "            c = result[2]\n",
    "            s = sPrime\n",
    "            flows = result[3]\n",
    "            time = result[4]\n",
    "            \n",
    "            g = (g*timePassed + c)/(timePassed + time)\n",
    "            timePassed += time\n",
    "            \n",
    "        else\n",
    "            s = s - bestA\n",
    "        end\n",
    "        \n",
    "        push!(gs, g)\n",
    "        if printProgress == true && n%modCounter == 0\n",
    "            sleep(0.001)\n",
    "            println(n)\n",
    "        end\n",
    "    end\n",
    "    \n",
    "    #Wrap final internal state of algorithm in dictionary, and history of estimates for plots in another\n",
    "    endState = Dict()\n",
    "    endState[\"ve\"]  = ve\n",
    "    endState[\"vn\"] = vn\n",
    "    endState[\"g\"] = g\n",
    "    endState[\"timePassed\"] = timePassed\n",
    "    endState[\"s\"] = s\n",
    "    endState[\"stateTrace\"] = stateTrace\n",
    "\n",
    "    hist = Dict()\n",
    "    hist[\"vs0\"] = vs0Hist\n",
    "    hist[\"vs3\"] = vs3Hist\n",
    "    hist[\"g\"] = gs\n",
    "\n",
    "    return endState, hist\n",
    "end"
   ]
  },
  {
   "attachments": {},
   "cell_type": "markdown",
   "id": "509e852e",
   "metadata": {},
   "source": [
    "# New Functions"
   ]
  },
  {
   "cell_type": "code",
   "execution_count": 442,
   "id": "a990c3b0",
   "metadata": {},
   "outputs": [
    {
     "data": {
      "text/plain": [
       "staticPolicyToDynamicPolicyLAS (generic function with 1 method)"
      ]
     },
     "execution_count": 442,
     "metadata": {},
     "output_type": "execute_result"
    }
   ],
   "source": [
    "function staticPolicyToDynamicPolicy(N, static)\n",
    "    stateSpace = enumerateStates(N)\n",
    "    passiveAction = fill(0, N)\n",
    "    policy = Dict()\n",
    "    for s in stateSpace\n",
    "        a = copy(passiveAction)\n",
    "        for i in 1:N\n",
    "            if s[i] == 3 && static[i] == 1\n",
    "                a[i] = 1\n",
    "            end\n",
    "        end\n",
    "\n",
    "        policy[s] = a\n",
    "    end\n",
    "\n",
    "    return policy\n",
    "end\n",
    "\n",
    "function staticPolicyToDynamicPolicyLAS(N, static)\n",
    "    stateSpace = enumerateStates(N)\n",
    "    passiveAction = fill(0, N)\n",
    "    policy = Dict()\n",
    "    for s in stateSpace\n",
    "        a = copy(passiveAction)\n",
    "        for i in 1:N\n",
    "            if s[i] == 3 && static[i] == 1\n",
    "                a[i] = 1\n",
    "                break \n",
    "            end\n",
    "        end\n",
    "\n",
    "        policy[s] = a\n",
    "    end\n",
    "\n",
    "    return policy\n",
    "end"
   ]
  },
  {
   "cell_type": "code",
   "execution_count": 443,
   "id": "eb55928a",
   "metadata": {},
   "outputs": [
    {
     "data": {
      "text/plain": [
       "bestRIHeuristic (generic function with 1 method)"
      ]
     },
     "execution_count": 443,
     "metadata": {},
     "output_type": "execute_result"
    }
   ],
   "source": [
    "#try each removal/insertion in order, return the best improvement\n",
    "function bestRIHeuristic(N, alpha_d, alpha_r, beta, tau, c0, c1, r, dsp)\n",
    "    changeFlag = false\n",
    "    currentG = calculateG_DSP(N,alpha_d, alpha_r, beta, tau, c0, c1, r, dsp)\n",
    "    bestDsp = dsp\n",
    "    bestG = currentG\n",
    "    for i in 1:N\n",
    "        newDsp = copy(dsp)\n",
    "        newDsp[i] = 1 - newDsp[i] #flip policy\n",
    "        thisG = calculateG_DSP(N,alpha_d, alpha_r, beta, tau, c0, c1, r, newDsp)\n",
    "        if thisG < bestG\n",
    "            changeFlag = true\n",
    "            bestG = thisG\n",
    "            bestDsp = newDsp            \n",
    "        end\n",
    "    end\n",
    "\n",
    "    \n",
    "    return bestDsp, bestG, changeFlag\n",
    "end"
   ]
  },
  {
   "cell_type": "code",
   "execution_count": 444,
   "id": "f018a216",
   "metadata": {},
   "outputs": [
    {
     "data": {
      "text/plain": [
       "bestSwapHeuristic (generic function with 1 method)"
      ]
     },
     "execution_count": 444,
     "metadata": {},
     "output_type": "execute_result"
    }
   ],
   "source": [
    "#try all possible swaps, return the best improvement\n",
    "function bestSwapHeuristic(N, alpha_d, alpha_r, beta, tau, c0, c1, r, dsp)\n",
    "    changeFlag = false\n",
    "    currentG = calculateG_DSP(N,alpha_d, alpha_r, beta, tau, c0, c1, r, dsp)\n",
    "    bestDsp = dsp\n",
    "    bestG = currentG\n",
    "    for i in 1:(N - 1)\n",
    "        for j in (i+1):N\n",
    "            if dsp[i]!=dsp[j]\n",
    "                newDsp = copy(dsp)\n",
    "                newDsp[i] = 1 - newDsp[i] #flip policy\n",
    "                newDsp[j] = 1 - newDsp[j]\n",
    "                thisG = calculateG_DSP(N,alpha_d, alpha_r, beta, tau, c0, c1, r, newDsp)\n",
    "                if thisG < bestG\n",
    "                    changeFlag = true\n",
    "                    bestG = thisG\n",
    "                    bestDsp = newDsp  \n",
    "                end\n",
    "            end\n",
    "        end\n",
    "    end\n",
    "\n",
    "    return bestDsp, bestG, changeFlag\n",
    "end"
   ]
  },
  {
   "cell_type": "code",
   "execution_count": 445,
   "id": "b0fc522f",
   "metadata": {},
   "outputs": [
    {
     "data": {
      "text/plain": [
       "dspHeuristic (generic function with 1 method)"
      ]
     },
     "execution_count": 445,
     "metadata": {},
     "output_type": "execute_result"
    }
   ],
   "source": [
    "#Repeatedly apply Best RI Heuristic until policy cannot improve\n",
    "function dspHeuristic(N, alpha_d, alpha_r, beta, tau, c0, c1, r; dsp = fill(0, N))\n",
    "    changeFlag = true\n",
    "    while changeFlag\n",
    "        dsp, g, changeFlag = bestRIHeuristic(N, alpha_d, alpha_r, beta, tau, c0, c1, r, dsp)\n",
    "    end\n",
    "    return dsp, g\n",
    "end"
   ]
  },
  {
   "cell_type": "code",
   "execution_count": 446,
   "id": "cbda6682",
   "metadata": {},
   "outputs": [
    {
     "data": {
      "text/plain": [
       "dspHeuristicWithSwaps (generic function with 1 method)"
      ]
     },
     "execution_count": 446,
     "metadata": {},
     "output_type": "execute_result"
    }
   ],
   "source": [
    "#Repeatly apply Best RI Heuristic until policy cannot improve, then try all swaps. If a swap improves the policy, repeat the process\n",
    "function dspHeuristicWithSwaps(N, alpha_d, alpha_r, beta, tau, c0, c1, r; dsp = fill(0, N))\n",
    "    changeFlag = true\n",
    "    counter = 0\n",
    "    g = calculateG_DSP(N,alpha_d, alpha_r, beta, tau, c0, c1, r, dsp)\n",
    "    while changeFlag\n",
    "        while changeFlag\n",
    "            dsp, g, changeFlag = bestRIHeuristic(N, alpha_d, alpha_r, beta, tau, c0, c1, r, dsp)\n",
    "            counter += 1\n",
    "        end\n",
    "        dsp, g, changeFlag = bestSwapHeuristic(N, alpha_d, alpha_r, beta, tau, c0, c1, r, dsp)\n",
    "        counter += 1\n",
    "    end\n",
    "    \n",
    "    return dsp, g, counter\n",
    "end"
   ]
  },
  {
   "cell_type": "code",
   "execution_count": 447,
   "id": "ebf91771",
   "metadata": {},
   "outputs": [
    {
     "data": {
      "text/plain": [
       "bestThreeHeuristic (generic function with 1 method)"
      ]
     },
     "execution_count": 447,
     "metadata": {},
     "output_type": "execute_result"
    }
   ],
   "source": [
    "function bestThreeHeuristic(N, alpha_d, alpha_r, beta, tau, c0, c1, r)\n",
    "    bestDsp = fill(0, N)\n",
    "    bestG = calculateG_DSP(N,alpha_d, alpha_r, beta, tau, c0, c1, r, bestDsp)\n",
    "    for i in 1:(N - 2)\n",
    "        for j in (i + 1):(N - 1)\n",
    "            for k in (j + 1):N\n",
    "                thisDsp = fill(0, N)\n",
    "                thisDsp[i] = 1\n",
    "                thisDsp[j] = 1\n",
    "                thisDsp[k] = 1\n",
    "                thisG = calculateG_DSP(N,alpha_d, alpha_r, beta, tau, c0, c1, r, thisDsp)\n",
    "\n",
    "                if thisG < bestG\n",
    "                    bestDsp = thisDsp\n",
    "                    bestG = thisG\n",
    "                end\n",
    "            end\n",
    "        end\n",
    "    end\n",
    "\n",
    "\n",
    "    return bestDsp, bestG\n",
    "end"
   ]
  },
  {
   "cell_type": "code",
   "execution_count": 448,
   "id": "f2f13841",
   "metadata": {},
   "outputs": [
    {
     "data": {
      "text/plain": [
       "bestTwoHeuristic (generic function with 1 method)"
      ]
     },
     "execution_count": 448,
     "metadata": {},
     "output_type": "execute_result"
    }
   ],
   "source": [
    "function bestTwoHeuristic(N, alpha_d, alpha_r, beta, tau, c0, c1, r)\n",
    "    bestDsp = fill(0, N)\n",
    "    bestG = calculateG_DSP(N,alpha_d, alpha_r, beta, tau, c0, c1, r, bestDsp)\n",
    "    for i in 1:(N - 1)\n",
    "        for j in (i + 1):N\n",
    "            thisDsp = fill(0, N)\n",
    "            thisDsp[i] = 1\n",
    "            thisDsp[j] = 1\n",
    "            thisG = calculateG_DSP(N,alpha_d, alpha_r, beta, tau, c0, c1, r, thisDsp)\n",
    "\n",
    "            if thisG < bestG\n",
    "                bestDsp = thisDsp\n",
    "                bestG = thisG\n",
    "            end\n",
    "        end\n",
    "    end\n",
    "\n",
    "\n",
    "    return bestDsp, bestG\n",
    "end"
   ]
  },
  {
   "cell_type": "code",
   "execution_count": 449,
   "id": "9462942c",
   "metadata": {},
   "outputs": [
    {
     "data": {
      "text/plain": [
       "best123Heuristic (generic function with 1 method)"
      ]
     },
     "execution_count": 449,
     "metadata": {},
     "output_type": "execute_result"
    }
   ],
   "source": [
    "function best123Heuristic(N, alpha_d, alpha_r, beta, tau, c0, c1, r)\n",
    "    #initialise with passive policy\n",
    "    zeroG = calculateG_DSP(N,alpha_d, alpha_r, beta, tau, c0, c1, r, fill(0, N))\n",
    "    gs = [zeroG]\n",
    "    dsps = [fill(0, N)]\n",
    "\n",
    "    #best one link policy\n",
    "    oneDsp = bestRIHeuristic(N, alpha_d, alpha_r, beta, tau, c0, c1, r, fill(0, N))[1]\n",
    "    oneG = calculateG_DSP(N,alpha_d, alpha_r, beta, tau, c0, c1, r, oneDsp)\n",
    "    push!(gs, oneG)\n",
    "    push!(dsps, oneDsp)\n",
    "\n",
    "    #best two link policy\n",
    "    twoDsp, twoG = bestTwoHeuristic(N, alpha_d, alpha_r, beta, tau, c0, c1, r)\n",
    "    push!(gs, twoG)\n",
    "    push!(dsps, twoDsp)\n",
    "\n",
    "    #best three link policy\n",
    "    (threeDsp, threeG) = bestThreeHeuristic(N, alpha_d, alpha_r, beta, tau, c0, c1, r)\n",
    "    push!(gs, threeG)\n",
    "    push!(dsps, threeDsp)\n",
    "\n",
    "    bestDsp = dsps[1]\n",
    "    bestG = gs[1]\n",
    "    for i in 2:4\n",
    "        if gs[i] < bestG\n",
    "            bestDsp = dsps[i]\n",
    "            bestG = gs[i]\n",
    "        end\n",
    "    end\n",
    "\n",
    "    return bestDsp, bestG\n",
    "end"
   ]
  },
  {
   "cell_type": "code",
   "execution_count": 450,
   "id": "04c29e74",
   "metadata": {},
   "outputs": [
    {
     "data": {
      "text/plain": [
       "jointHeuristic (generic function with 1 method)"
      ]
     },
     "execution_count": 450,
     "metadata": {},
     "output_type": "execute_result"
    }
   ],
   "source": [
    "function jointHeuristic(N, alpha_d, alpha_r, beta, tau, c0, c1, r)\n",
    "    startDsp, startG = best123Heuristic(N, alpha_d, alpha_r, beta, tau, c0, c1, r)\n",
    "    return dspHeuristicWithSwaps(N, alpha_d, alpha_r, beta, tau, c0, c1, r; dsp = startDsp)\n",
    "end"
   ]
  },
  {
   "attachments": {},
   "cell_type": "markdown",
   "id": "b8d7c556",
   "metadata": {},
   "source": [
    "# Tests (Redo Tests to check for consistency and errors)"
   ]
  },
  {
   "attachments": {},
   "cell_type": "markdown",
   "id": "3564b9b3",
   "metadata": {},
   "source": [
    "## Homog"
   ]
  },
  {
   "cell_type": "code",
   "execution_count": null,
   "id": "d3b0e4fa",
   "metadata": {},
   "outputs": [],
   "source": [
    "tau = 1\n",
    "N = 5\n",
    "alpha_d = 0.0\n",
    "alpha_r = 0.1\n",
    "beta = 10.0\n",
    "c0 = 1.0\n",
    "c1 = 100.0\n",
    "r = 100.0\n",
    "\n",
    "epsilon = 0.0001\n",
    "res = rviHomog(N, alpha_d, alpha_r, beta, tau, c0, c1, r, epsilon; nMax = 0, delScale = N, forceActive = false)"
   ]
  },
  {
   "cell_type": "code",
   "execution_count": null,
   "id": "ee37bd87",
   "metadata": {},
   "outputs": [],
   "source": [
    "res[4]"
   ]
  },
  {
   "cell_type": "code",
   "execution_count": null,
   "id": "d1a0ff87",
   "metadata": {},
   "outputs": [],
   "source": [
    "resG = calculateG_SSP_Homog(N,alpha_d, alpha_r, beta, fill(1.0, N), c0, c1, r, 1e10, 2)"
   ]
  },
  {
   "attachments": {},
   "cell_type": "markdown",
   "id": "c643df30",
   "metadata": {},
   "source": [
    "## Inhomog"
   ]
  },
  {
   "cell_type": "code",
   "execution_count": 451,
   "id": "6bcd6b10",
   "metadata": {},
   "outputs": [
    {
     "data": {
      "text/plain": [
       "(504.2142857142852, Dict{Any, Any}([2, 1, 3, 1, 1] => 247.6407721247002, [2, 3, 1, 2, 3] => 483.54669097951034, [2, 1, 2, 2, 2] => 514.317908886486, [3, 2, 1, 3, 3] => 428.31873820623764, [3, 2, 2, 2, 1] => 607.1799501476754, [3, 2, 2, 1, 3] => 518.130173754816, [1, 2, 3, 2, 3] => 254.2795290788786, [1, 2, 1, 1, 2] => 190.46946058901548, [1, 2, 2, 3, 1] => 218.9681079502508, [3, 1, 3, 3, 3] => 324.1621055531764…), 303, Dict{Any, Any}([2, 1, 3, 1, 1] => [0, 0, 0, 0, 0], [2, 3, 1, 2, 3] => [0, 0, 0, 0, 0], [2, 1, 2, 2, 2] => [0, 0, 0, 0, 0], [3, 2, 1, 3, 3] => [1, 0, 0, 0, 0], [3, 2, 2, 2, 1] => [1, 0, 0, 0, 0], [3, 2, 2, 1, 3] => [1, 0, 0, 0, 0], [1, 2, 3, 2, 3] => [0, 0, 0, 0, 0], [1, 2, 1, 1, 2] => [0, 0, 0, 0, 0], [1, 2, 2, 3, 1] => [0, 0, 0, 0, 0], [3, 1, 3, 3, 3] => [1, 0, 0, 0, 0]…))"
      ]
     },
     "execution_count": 451,
     "metadata": {},
     "output_type": "execute_result"
    }
   ],
   "source": [
    "N = 5\n",
    "tau = fill(1.0, N)\n",
    "alpha_d = fill(0.0, N)\n",
    "alpha_r = [1.0*i for i in 1:N]\n",
    "beta = 10.0\n",
    "c0 = [1.0*i for i in 1:N]\n",
    "c1 = 100.0\n",
    "r = [100.0*i for i in 1:N]\n",
    "\n",
    "epsilon = 1e-20\n",
    "resInhomog = rvi(N, alpha_d, alpha_r, beta, tau, c0, c1, r, epsilon; nMax = 0, delScale = 1, printProgress = true, modCounter = 1000)"
   ]
  },
  {
   "cell_type": "code",
   "execution_count": null,
   "id": "2ece9ff0",
   "metadata": {},
   "outputs": [],
   "source": [
    "tauArr = fill(1.0, N)\n",
    "lambda = fill(0.0, N)\n",
    "lambda[1:2] .= 1e200\n",
    "\n",
    "resInhomG = calculateG_SSP(N,alpha_d, alpha_r, beta, tauArr, c0, c1, r, lambda)"
   ]
  },
  {
   "cell_type": "code",
   "execution_count": null,
   "id": "68a89cd3",
   "metadata": {},
   "outputs": [],
   "source": [
    "calculateG_DSP(N,alpha_d, alpha_r, beta, tauArr, c0, c1, r, [1,1,0,0,0])"
   ]
  },
  {
   "cell_type": "code",
   "execution_count": 452,
   "id": "e724ba97",
   "metadata": {},
   "outputs": [
    {
     "data": {
      "text/plain": [
       "(524.9999999999993, Dict{Any, Any}([2, 1, 3, 1, 1] => 223.2511606041013, [2, 3, 1, 2, 3] => 469.56979104773166, [2, 1, 2, 2, 2] => 489.5666863093327, [3, 2, 1, 3, 3] => 406.07373155167215, [3, 2, 2, 2, 1] => 583.1312761312753, [3, 2, 2, 1, 3] => 494.63592861386905, [1, 2, 3, 2, 3] => 249.21063631357742, [1, 2, 1, 1, 2] => 190.1410946080063, [1, 2, 2, 3, 1] => 215.69577154871268, [3, 1, 3, 3, 3] => 297.67095377389444…), 341)"
      ]
     },
     "execution_count": 452,
     "metadata": {},
     "output_type": "execute_result"
    }
   ],
   "source": [
    "policy = staticPolicyToDynamicPolicyLAS(N, [1,1,0,0,0])\n",
    "resPE = rpe(N, policy, alpha_d, alpha_r, beta, tau, c0, c1, r, epsilon; nMax = 0, delScale = 1, printProgress = true, modCounter = 1000)"
   ]
  },
  {
   "cell_type": "code",
   "execution_count": null,
   "id": "4e11e97a",
   "metadata": {},
   "outputs": [],
   "source": [
    "resPI = rpiExact(N, resPE[2], alpha_d, alpha_r, beta, tau, c0, c1, r, 1e-10; nMax = 50000, delScale = 1, printProgress = true, modCounter = 1000)"
   ]
  },
  {
   "attachments": {},
   "cell_type": "markdown",
   "id": "da388edd",
   "metadata": {},
   "source": [
    "## SMARPE"
   ]
  },
  {
   "cell_type": "code",
   "execution_count": null,
   "id": "70b6f68e",
   "metadata": {},
   "outputs": [],
   "source": [
    "nMax = 1000000\n",
    "b = 1e-2\n",
    "dsPolicy = [1,1,0,0,0]\n",
    "resultSMARPE = smarpeNewVFA_ST_DSP(N,alpha_d, alpha_r, beta, tau, c0, c1, r, nMax, b, dsPolicy; epsilon = 0.0, ve = Dict(), vn = Dict(), vfaProvided = false, g = 525.0, gFixed = true, s = [1 for i in 1:N], stateTrace = [], timePassed = 0.0, printProgress = true, modCounter = 1000000)"
   ]
  },
  {
   "cell_type": "code",
   "execution_count": null,
   "id": "e58474eb",
   "metadata": {},
   "outputs": [],
   "source": [
    "f = serialize(\"resultSMARPE.dat\", resultSMARPE[1])\n",
    "f = serialize(\"resultSMARPE.big\", resultSMARPE[2])"
   ]
  },
  {
   "cell_type": "code",
   "execution_count": null,
   "id": "a4039403",
   "metadata": {},
   "outputs": [],
   "source": [
    "resultSMARPE_S = deserialize(\"resultSMARPE.dat\")"
   ]
  },
  {
   "cell_type": "code",
   "execution_count": null,
   "id": "160aa65b",
   "metadata": {},
   "outputs": [],
   "source": [
    "PyPlot.plot(resultSMARPE[2][\"vs0\"])"
   ]
  },
  {
   "cell_type": "code",
   "execution_count": null,
   "id": "32e04a26",
   "metadata": {},
   "outputs": [],
   "source": [
    "PyPlot.plot(resultSMARPE[2][\"vs3\"])"
   ]
  },
  {
   "cell_type": "code",
   "execution_count": null,
   "id": "7b985ae4",
   "metadata": {},
   "outputs": [],
   "source": [
    "importantStates = []\n",
    "stateSpace = enumerateStates(N)\n",
    "for s in stateSpace\n",
    "    if s[3] == 3 && s[4] == 3 && s[5] == 3\n",
    "        push!(importantStates, s)\n",
    "    end\n",
    "end"
   ]
  },
  {
   "cell_type": "code",
   "execution_count": null,
   "id": "75ce8087",
   "metadata": {},
   "outputs": [],
   "source": [
    "ve = resultSMARPE_S[\"ve\"]\n",
    "vn = resultSMARPE_S[\"vn\"]"
   ]
  },
  {
   "cell_type": "code",
   "execution_count": null,
   "id": "04f4f5ac",
   "metadata": {},
   "outputs": [],
   "source": [
    "trueValues = []\n",
    "approxValues = []\n",
    "for s in importantStates\n",
    "    push!(trueValues, resPE[2][s])\n",
    "    push!(approxValues, v(s,N,alpha_d, alpha_r, beta, tau, c0, c1, r, ve, vn))\n",
    "end"
   ]
  },
  {
   "cell_type": "code",
   "execution_count": null,
   "id": "7d41de9a",
   "metadata": {},
   "outputs": [],
   "source": [
    "gap = mean(trueValues - approxValues)\n",
    "PyPlot.plot(trueValues .- gap, label = \"True\")\n",
    "PyPlot.plot(approxValues, label = \"Approx\")\n",
    "legend()"
   ]
  },
  {
   "cell_type": "code",
   "execution_count": null,
   "id": "803d6ad1",
   "metadata": {},
   "outputs": [],
   "source": [
    "nMax = 1000000\n",
    "gs = gEvaluationDSP(N,alpha_d, alpha_r, beta, tau, c0, c1, r, nMax, [1,1,0,0,0]; s = fill(3, N), epsilon = 0.01, printProgress = true, modCounter = 100000, stateTrace = false)"
   ]
  },
  {
   "cell_type": "code",
   "execution_count": null,
   "id": "c508be33",
   "metadata": {},
   "outputs": [],
   "source": [
    "nMax = 10000000\n",
    "b = 1e-2\n",
    "dsPolicy = [1,1,0,0,0]\n",
    "resultSMARPEeSoft = smarpeNewVFA_ST_DSP(N,alpha_d, alpha_r, beta, tau, c0, c1, r, nMax, b, dsPolicy; epsilon = 0.01, ve = Dict(), vn = Dict(), vfaProvided = false, g = 528.0, gFixed = true, s = fill(3,N), stateTrace = [], timePassed = 0.0, printProgress = true, modCounter = 1000000)"
   ]
  },
  {
   "cell_type": "code",
   "execution_count": null,
   "id": "b9fda241",
   "metadata": {},
   "outputs": [],
   "source": [
    "f = serialize(\"resultSMARPEesoft.dat\", resultSMARPEeSoft[1])\n",
    "f = serialize(\"resultSMARPEesoft.big\", resultSMARPEeSoft[2])"
   ]
  },
  {
   "cell_type": "code",
   "execution_count": null,
   "id": "a52e4a02",
   "metadata": {},
   "outputs": [],
   "source": [
    "resultSMARPEeSoft_S = deserialize(\"resultSMARPEesoft.dat\")"
   ]
  },
  {
   "cell_type": "code",
   "execution_count": null,
   "id": "09302f3a",
   "metadata": {},
   "outputs": [],
   "source": [
    "start = 1\n",
    "finish = nMax - 2\n",
    "PyPlot.plot(resultSMARPEeSoft[2][\"vs0\"][start:finish])"
   ]
  },
  {
   "cell_type": "code",
   "execution_count": null,
   "id": "6db1d636",
   "metadata": {},
   "outputs": [],
   "source": [
    "PyPlot.plot(resultSMARPEeSoft[2][\"vs3\"])"
   ]
  },
  {
   "cell_type": "code",
   "execution_count": null,
   "id": "feec5dc2",
   "metadata": {},
   "outputs": [],
   "source": [
    "PyPlot.plot(resultSMARPEeSoft[2][\"vs3\"] - resultSMARPEeSoft[2][\"vs0\"])"
   ]
  },
  {
   "cell_type": "code",
   "execution_count": null,
   "id": "af64c0a7",
   "metadata": {},
   "outputs": [],
   "source": [
    "ve = resultSMARPEeSoft_S[\"ve\"]\n",
    "vn = resultSMARPEeSoft_S[\"vn\"]\n",
    "trueValues = []\n",
    "approxValues = []\n",
    "for s in importantStates\n",
    "    push!(trueValues, resPE[2][s])\n",
    "    push!(approxValues, v(s,N,alpha_d, alpha_r, beta, tau, c0, c1, r, ve, vn))\n",
    "end"
   ]
  },
  {
   "cell_type": "code",
   "execution_count": null,
   "id": "5b8c98b1",
   "metadata": {},
   "outputs": [],
   "source": [
    "gap = mean(trueValues - approxValues)\n",
    "PyPlot.plot(trueValues .- gap, label = \"True\")\n",
    "PyPlot.plot(approxValues, label = \"Approx\")\n",
    "legend()"
   ]
  },
  {
   "cell_type": "code",
   "execution_count": null,
   "id": "e7299acf",
   "metadata": {},
   "outputs": [],
   "source": [
    "PyPlot.plot(trueValues - approxValues .- gap)"
   ]
  },
  {
   "cell_type": "code",
   "execution_count": null,
   "id": "79e706ab",
   "metadata": {},
   "outputs": [],
   "source": [
    "evalNMax = 2000000\n",
    "ve = resultSMARPEeSoft_S[\"ve\"]\n",
    "vn = resultSMARPEeSoft_S[\"vn\"]\n",
    "gsPI = gEvaluationNewVFA(N,alpha_d, alpha_r, beta, tau, c0, c1, r, evalNMax, ve, vn, 528.3, printProgress = true, modCounter = 100000)"
   ]
  },
  {
   "attachments": {},
   "cell_type": "markdown",
   "id": "e19adb3c",
   "metadata": {},
   "source": [
    "Looks like it all works!"
   ]
  },
  {
   "attachments": {},
   "cell_type": "markdown",
   "id": "76e0ead9",
   "metadata": {},
   "source": [
    "## Experiment 1"
   ]
  },
  {
   "cell_type": "code",
   "execution_count": null,
   "id": "67433e85",
   "metadata": {},
   "outputs": [],
   "source": [
    "numRuns = 1000\n",
    "N = 5\n",
    "alpha_d = fill(0.0, N)\n",
    "beta = 1.0\n",
    "epsilon = 1e-10\n",
    "LEN_FRAME = 125\n",
    "TAU_MAX = 1.0\n",
    "C0_MAX = 1.0\n",
    "C1_MAX = 1000\n",
    "R_MAX = 100\n",
    "nMax = 10000\n",
    "delScale = 1\n",
    "gaps = []\n",
    "for run in 1:numRuns\n",
    "    #Start frame\n",
    "    println(join(fill(\"-\",LEN_FRAME)))\n",
    "    print(\"Run: \")\n",
    "    println(run)\n",
    "    #generate parameters\n",
    "    tau = rand(N).*TAU_MAX #\n",
    "    print(\"tau: \")\n",
    "    println([round(tau[i], digits = 5) for i in 1:N])\n",
    "\n",
    "    alpha_r = rand(N).*tau\n",
    "    print(\"alpha_r: \")\n",
    "    println([round(alpha_r[i], digits = 5) for i in 1:N])\n",
    "\n",
    "    c0 = rand(N).*C0_MAX\n",
    "    print(\"c0: \")\n",
    "    println([round(c0[i], digits = 5) for i in 1:N])\n",
    "\n",
    "    c1 = C0_MAX + rand()*(C1_MAX - C0_MAX)\n",
    "    print(\"c1: \")\n",
    "    println(round(c1, digits = 5))\n",
    "\n",
    "    r = rand(N).*R_MAX\n",
    "    print(\"r: \")\n",
    "    println([round(r[i], digits = 5) for i in 1:N])\n",
    "\n",
    "    #find true optimal solution\n",
    "    resInhomog = rvi(N, alpha_d, alpha_r, beta, tau, c0, c1, r, epsilon; nMax = nMax, delScale = delScale, printProgress = false, modCounter = 1000)\n",
    "    print(\"RVI: \")\n",
    "    print(round(resInhomog[1], digits = 5))\n",
    "    print(\" (Iterations: \")\n",
    "    print(resInhomog[3])\n",
    "    print(\")    \")\n",
    "\n",
    "    #find best DSP solution\n",
    "    dsps = enumerateActions(N)\n",
    "    bestDSP = dsps[1]\n",
    "    bestDSP_G = calculateG_DSP(N,alpha_d, alpha_r, beta, tau, c0, c1, r, bestDSP)\n",
    "    for i in 2:(2^N)\n",
    "        thisDSP = dsps[i]\n",
    "        thisDSP_G = calculateG_DSP(N,alpha_d, alpha_r, beta, tau, c0, c1, r, thisDSP)\n",
    "        if thisDSP_G < bestDSP_G\n",
    "            bestDSP = thisDSP\n",
    "            bestDSP_G = thisDSP_G\n",
    "        end\n",
    "    end\n",
    "\n",
    "    print(\"DSP Exact: \")\n",
    "    print(round(bestDSP_G, digits = 5))\n",
    "    print(\",    \")\n",
    "\n",
    "    #find PI on best DSP\n",
    "    policy = staticPolicyToDynamicPolicyLAS(N, bestDSP)\n",
    "    resPE = rpe(N, policy, alpha_d, alpha_r, beta, tau, c0, c1, r, epsilon; nMax = nMax, delScale = delScale, printProgress = false, modCounter = 1000)\n",
    "    print(\"DSP LAS: \")\n",
    "    print(round(resPE[1], digits = 5))\n",
    "    print(\" (Iterations: \")\n",
    "    print(resPE[3])\n",
    "    print(\"),   \")\n",
    "    resPI = rpiExact(N, resPE[2], alpha_d, alpha_r, beta, tau, c0, c1, r, epsilon; nMax = nMax, delScale = delScale, printProgress = false, modCounter = 1000)\n",
    "    print(\"PIH: \")\n",
    "    print(round(resPI[1], digits = 5))\n",
    "    print(\" (Iterations: \")\n",
    "    print(resPI[3])\n",
    "    println(\").\")\n",
    "    print(\"Optimality Gap: \")\n",
    "    gap = (1 - resInhomog[1]/resPI[1])*100\n",
    "    push!(gaps, gap)\n",
    "    print(round(gap, digits = 2))\n",
    "    println(\"%.\")\n",
    "    #end frame\n",
    "    println(join(fill(\"-\",LEN_FRAME)))\n",
    "end"
   ]
  },
  {
   "cell_type": "code",
   "execution_count": null,
   "id": "3d164114",
   "metadata": {},
   "outputs": [],
   "source": [
    "hist(gaps)"
   ]
  },
  {
   "cell_type": "code",
   "execution_count": null,
   "id": "fcb0c2ea",
   "metadata": {},
   "outputs": [],
   "source": [
    "density(gaps)"
   ]
  },
  {
   "cell_type": "code",
   "execution_count": null,
   "id": "1b96b088",
   "metadata": {},
   "outputs": [],
   "source": [
    "gapsPrime = [((1/(1 - (g/100)))-1)*100 for g in gaps]"
   ]
  },
  {
   "cell_type": "code",
   "execution_count": null,
   "id": "95556757",
   "metadata": {},
   "outputs": [],
   "source": [
    "density(gapsPrime)"
   ]
  },
  {
   "cell_type": "code",
   "execution_count": null,
   "id": "4c80de95",
   "metadata": {},
   "outputs": [],
   "source": [
    "mean(g < 1e-10 for g in gapsPrime)"
   ]
  },
  {
   "cell_type": "code",
   "execution_count": null,
   "id": "de51c8bf",
   "metadata": {},
   "outputs": [],
   "source": [
    "mean(g < 1.35 for g in gapsPrime)"
   ]
  },
  {
   "cell_type": "code",
   "execution_count": null,
   "id": "e95d1df7",
   "metadata": {},
   "outputs": [],
   "source": [
    "mean(gapsPrime)"
   ]
  },
  {
   "cell_type": "code",
   "execution_count": null,
   "id": "f00a742f",
   "metadata": {},
   "outputs": [],
   "source": [
    "minimum(gapsPrime)"
   ]
  },
  {
   "cell_type": "code",
   "execution_count": null,
   "id": "3970b065",
   "metadata": {},
   "outputs": [],
   "source": [
    "f = serialize(\"gaps1.dat\", gaps)"
   ]
  },
  {
   "cell_type": "code",
   "execution_count": null,
   "id": "156513de",
   "metadata": {},
   "outputs": [],
   "source": [
    "function sampleTruncExp(mean, upper)\n",
    "    while true\n",
    "        s = rand(Exponential(mean))\n",
    "        if s < upper\n",
    "            return s\n",
    "        end\n",
    "    end\n",
    "end"
   ]
  },
  {
   "attachments": {},
   "cell_type": "markdown",
   "id": "de3aab5a",
   "metadata": {},
   "source": [
    "## Experiment 2"
   ]
  },
  {
   "cell_type": "code",
   "execution_count": null,
   "id": "325540f0",
   "metadata": {},
   "outputs": [],
   "source": [
    "numRuns = 1000\n",
    "N = 5\n",
    "alpha_d = fill(0.0, N)\n",
    "beta = 1.0\n",
    "epsilon = 1e-10\n",
    "LEN_FRAME = 125\n",
    "TAU_MAX = 1.0\n",
    "C0_MAX = 1.0\n",
    "C1_MAX = 1000\n",
    "R_MAX = 100\n",
    "nMax = 10000\n",
    "delScale = 1\n",
    "taus = []\n",
    "alphas = []\n",
    "c0s = []\n",
    "c1s = []\n",
    "rs = []\n",
    "rviGs = []\n",
    "dsps = []\n",
    "dspGs = []\n",
    "dspPeGs = []\n",
    "piGs = []\n",
    "gaps2 = []\n",
    "for run in 1:numRuns\n",
    "    #Start frame\n",
    "    println(join(fill(\"-\",LEN_FRAME)))\n",
    "    print(\"Run: \")\n",
    "    println(run)\n",
    "    #generate parameters\n",
    "    tau = rand(N).*TAU_MAX #\n",
    "    print(\"tau: \")\n",
    "    println([round(tau[i], digits = 5) for i in 1:N])\n",
    "    push!(taus, tau)\n",
    "\n",
    "    alpha_r = [sampleTruncExp(tau[i]/2, tau[i]) for i in 1:N]\n",
    "    print(\"alpha_r: \")\n",
    "    println([round(alpha_r[i], digits = 5) for i in 1:N])\n",
    "    push!(alphas, alpha_r)\n",
    "\n",
    "    c0 = rand(N).*C0_MAX\n",
    "    c0 = sort(c0)\n",
    "    print(\"c0: \")\n",
    "    println([round(c0[i], digits = 5) for i in 1:N])\n",
    "    push!(c0s, c0)\n",
    "\n",
    "    c1 = C0_MAX + rand()*(C1_MAX - C0_MAX)\n",
    "    print(\"c1: \")\n",
    "    println(round(c1, digits = 5))\n",
    "    push!(c1s, c1)\n",
    "\n",
    "    r = rand(N).*R_MAX\n",
    "    print(\"r: \")\n",
    "    println([round(r[i], digits = 5) for i in 1:N])\n",
    "    push!(rs, r)\n",
    "\n",
    "    #find true optimal solution\n",
    "    resInhomog = rvi(N, alpha_d, alpha_r, beta, tau, c0, c1, r, epsilon; nMax = nMax, delScale = delScale, printProgress = false, modCounter = 1000)\n",
    "    push!(rviGs, resInhomog[1])\n",
    "    print(\"RVI: \")\n",
    "    print(round(resInhomog[1], digits = 5))\n",
    "    print(\" (Iterations: \")\n",
    "    print(resInhomog[3])\n",
    "    print(\")    \")\n",
    "\n",
    "    #find best DSP solution\n",
    "    dsps = enumerateActions(N)\n",
    "    bestDSP = dsps[1]\n",
    "    bestDSP_G = calculateG_DSP(N,alpha_d, alpha_r, beta, tau, c0, c1, r, bestDSP)\n",
    "    for i in 2:(2^N)\n",
    "        thisDSP = dsps[i]\n",
    "        thisDSP_G = calculateG_DSP(N,alpha_d, alpha_r, beta, tau, c0, c1, r, thisDSP)\n",
    "        if thisDSP_G < bestDSP_G\n",
    "            bestDSP = thisDSP\n",
    "            bestDSP_G = thisDSP_G\n",
    "        end\n",
    "    end\n",
    "    push!(dsps, bestDSP)\n",
    "    push!(dspGs, bestDSP_G)\n",
    "    print(\"DSP Exact: \")\n",
    "    print(round(bestDSP_G, digits = 5))\n",
    "    print(\",    \")\n",
    "\n",
    "    #find PI on best DSP\n",
    "    policy = staticPolicyToDynamicPolicyLAS(N, bestDSP)\n",
    "    resPE = rpe(N, policy, alpha_d, alpha_r, beta, tau, c0, c1, r, epsilon; nMax = nMax, delScale = delScale, printProgress = false, modCounter = 1000)\n",
    "    push!(dspPeGs, resPE[1])\n",
    "    print(\"DSP LAS: \")\n",
    "    print(round(resPE[1], digits = 5))\n",
    "    print(\" (Iterations: \")\n",
    "    print(resPE[3])\n",
    "    print(\"),   \")\n",
    "    resPI = rpiExact(N, resPE[2], alpha_d, alpha_r, beta, tau, c0, c1, r, epsilon; nMax = nMax, delScale = delScale, printProgress = false, modCounter = 1000)\n",
    "    push!(piGs, resPI[1])\n",
    "    print(\"PIH: \")\n",
    "    print(round(resPI[1], digits = 5))\n",
    "    print(\" (Iterations: \")\n",
    "    print(resPI[3])\n",
    "    println(\").\")\n",
    "    print(\"DSP: \")\n",
    "    println(bestDSP)\n",
    "    print(\"Optimality Gap: \")\n",
    "    gap = (resPI[1]/resInhomog[1] - 1)*100\n",
    "    push!(gaps2, gap)\n",
    "    print(round(gap, digits = 2))\n",
    "    println(\"%.\")\n",
    "    #end frame\n",
    "    println(join(fill(\"-\",LEN_FRAME)))\n",
    "end"
   ]
  },
  {
   "cell_type": "code",
   "execution_count": null,
   "id": "ad81662f",
   "metadata": {},
   "outputs": [],
   "source": [
    "resultExperiment = Dict()\n",
    "resultExperiment[\"tau\"] = taus\n",
    "resultExperiment[\"alpha\"] = alphas\n",
    "resultExperiment[\"c0\"] = c0s\n",
    "resultExperiment[\"c1\"] = c1s\n",
    "resultExperiment[\"r\"] = rs \n",
    "resultExperiment[\"rvi\"] = rviGs\n",
    "resultExperiment[\"dsp\"] = dsps\n",
    "resultExperiment[\"dsp_g\"] = dspGs\n",
    "resultExperiment[\"dsp_pe\"] = dspPeGs\n",
    "resultExperiment[\"pi\"] = piGs\n",
    "resultExperiment[\"gaps\"] = gaps2\n",
    "f = serialize(\"experiment2.big\", resultExperiment)"
   ]
  },
  {
   "cell_type": "code",
   "execution_count": null,
   "id": "b34ebbd1",
   "metadata": {},
   "outputs": [],
   "source": [
    "hist(gaps2)"
   ]
  },
  {
   "cell_type": "code",
   "execution_count": null,
   "id": "1b8e7ba6",
   "metadata": {},
   "outputs": [],
   "source": [
    "density(gaps2, xlim = (0,70))"
   ]
  },
  {
   "cell_type": "code",
   "execution_count": null,
   "id": "bb9a4fa2",
   "metadata": {},
   "outputs": [],
   "source": [
    "mean(gaps2)"
   ]
  },
  {
   "cell_type": "code",
   "execution_count": null,
   "id": "d184d04e",
   "metadata": {},
   "outputs": [],
   "source": [
    "median(gaps2)"
   ]
  },
  {
   "cell_type": "code",
   "execution_count": null,
   "id": "6d6b709b",
   "metadata": {},
   "outputs": [],
   "source": [
    "mean(gaps2[i] <= 10 for i in 1:1000)"
   ]
  },
  {
   "cell_type": "code",
   "execution_count": null,
   "id": "3834fa16",
   "metadata": {},
   "outputs": [],
   "source": [
    "quantile(gaps2, 0.99)"
   ]
  },
  {
   "cell_type": "code",
   "execution_count": null,
   "id": "b85ffd28",
   "metadata": {},
   "outputs": [],
   "source": [
    "mean(gaps2[i] < 1e-10 for i in 1:1000)"
   ]
  },
  {
   "cell_type": "code",
   "execution_count": null,
   "id": "6405a95c",
   "metadata": {},
   "outputs": [],
   "source": [
    "dspGaps = (dspGs./rviGs .- 1)*100"
   ]
  },
  {
   "cell_type": "code",
   "execution_count": null,
   "id": "c32f7d10",
   "metadata": {},
   "outputs": [],
   "source": [
    "density(dspGaps, xlim = (0,1500))"
   ]
  },
  {
   "cell_type": "code",
   "execution_count": null,
   "id": "99a1f1e2",
   "metadata": {},
   "outputs": [],
   "source": [
    "mean(dspGaps)"
   ]
  },
  {
   "cell_type": "code",
   "execution_count": null,
   "id": "56e9355f",
   "metadata": {},
   "outputs": [],
   "source": [
    "median(dspGaps)"
   ]
  },
  {
   "cell_type": "code",
   "execution_count": null,
   "id": "2578744f",
   "metadata": {},
   "outputs": [],
   "source": [
    "mean(dspGaps[i] < 1e-10 for i in 1:1000)"
   ]
  },
  {
   "cell_type": "code",
   "execution_count": null,
   "id": "4faed79b",
   "metadata": {},
   "outputs": [],
   "source": [
    "quantile(dspGaps, 0.99)"
   ]
  },
  {
   "cell_type": "code",
   "execution_count": null,
   "id": "2dc22cc8",
   "metadata": {},
   "outputs": [],
   "source": [
    "improvementPP = dspGaps - gaps2"
   ]
  },
  {
   "cell_type": "code",
   "execution_count": null,
   "id": "9c000a91",
   "metadata": {},
   "outputs": [],
   "source": [
    "hist([i for i in improvementPP if i < 250], bins = [10*i for i in 0:25])"
   ]
  },
  {
   "cell_type": "code",
   "execution_count": null,
   "id": "7fb51c28",
   "metadata": {},
   "outputs": [],
   "source": [
    "density(improvementPP, xlim = (0,350))"
   ]
  },
  {
   "cell_type": "code",
   "execution_count": null,
   "id": "ef5c0ef8",
   "metadata": {},
   "outputs": [],
   "source": [
    "score = [(dspGaps[i] - gaps2[i])/dspGaps[i] for i in 1:1000 if dspGaps[i] > 1e-8]"
   ]
  },
  {
   "cell_type": "code",
   "execution_count": null,
   "id": "2f9841ee",
   "metadata": {},
   "outputs": [],
   "source": [
    "minimum(score)"
   ]
  },
  {
   "cell_type": "code",
   "execution_count": null,
   "id": "f7514ed2",
   "metadata": {},
   "outputs": [],
   "source": [
    "maximum(score)"
   ]
  },
  {
   "cell_type": "code",
   "execution_count": null,
   "id": "d7c4f3c6",
   "metadata": {},
   "outputs": [],
   "source": [
    "score = [s*(s >= 0 && s <= 1) + (s > 1) for s in score]"
   ]
  },
  {
   "cell_type": "code",
   "execution_count": null,
   "id": "b07756cb",
   "metadata": {},
   "outputs": [],
   "source": [
    "density(score, xlim = (0,1))"
   ]
  },
  {
   "cell_type": "code",
   "execution_count": null,
   "id": "d462920b",
   "metadata": {},
   "outputs": [],
   "source": [
    "hist(score, bins = [0.05*i for i in 0:(ceil(Int64, 1/0.05) + 1)])"
   ]
  },
  {
   "cell_type": "code",
   "execution_count": null,
   "id": "f4c3d559",
   "metadata": {},
   "outputs": [],
   "source": [
    "median(score)"
   ]
  },
  {
   "cell_type": "code",
   "execution_count": null,
   "id": "5e7490db",
   "metadata": {},
   "outputs": [],
   "source": [
    "mean(score)"
   ]
  },
  {
   "attachments": {},
   "cell_type": "markdown",
   "id": "0b9acef2",
   "metadata": {},
   "source": [
    "## Experiment 3"
   ]
  },
  {
   "cell_type": "code",
   "execution_count": null,
   "id": "18aa4b11",
   "metadata": {},
   "outputs": [],
   "source": [
    "numRuns = 1000\n",
    "N = 20\n",
    "alpha_d = fill(0.0, N)\n",
    "beta = 1.0\n",
    "epsilon = 1e-10\n",
    "LEN_FRAME = 75\n",
    "TAU_MAX = 1.0\n",
    "C0_MAX = 1.0\n",
    "C1_MAX = 1000\n",
    "R_MAX = 100\n",
    "nMax = 10000\n",
    "delScale = 1\n",
    "numSame = 0\n",
    "#taus = []\n",
    "#alphas = []\n",
    "#c0s = []\n",
    "#c1s = []\n",
    "#rs = []\n",
    "#rviGs = []\n",
    "#dsps = []\n",
    "#dspGs = []\n",
    "#dspPeGs = []\n",
    "#piGs = []\n",
    "#gaps2 = []\n",
    "for run in 1:numRuns\n",
    "    #Start frame\n",
    "    println(join(fill(\"-\",LEN_FRAME)))\n",
    "    print(\"Run: \")\n",
    "    println(run)\n",
    "    #generate parameters\n",
    "    tau = rand(N).*TAU_MAX \n",
    "    print(\"tau: \")\n",
    "    println([round(tau[i], digits = 5) for i in 1:N])\n",
    "    #push!(taus, tau)\n",
    "\n",
    "    alpha_r = [sampleTruncExp(tau[i]/2, tau[i]) for i in 1:N]\n",
    "    print(\"alpha_r: \")\n",
    "    println([round(alpha_r[i], digits = 5) for i in 1:N])\n",
    "    #push!(alphas, alpha_r)\n",
    "\n",
    "    c0 = rand(N).*C0_MAX\n",
    "    c0 = sort(c0)\n",
    "    print(\"c0: \")\n",
    "    println([round(c0[i], digits = 5) for i in 1:N])\n",
    "    #push!(c0s, c0)\n",
    "\n",
    "    c1 = C0_MAX + rand()*(C1_MAX - C0_MAX)\n",
    "    print(\"c1: \")\n",
    "    println(round(c1, digits = 5))\n",
    "    #push!(c1s, c1)\n",
    "\n",
    "    r = rand(N).*R_MAX\n",
    "    print(\"r: \")\n",
    "    println([round(r[i], digits = 5) for i in 1:N])\n",
    "    #push!(rs, r)\n",
    "\n",
    "    #find true optimal solution\n",
    "    #resInhomog = rvi(N, alpha_d, alpha_r, beta, tau, c0, c1, r, epsilon; nMax = nMax, delScale = delScale, printProgress = false, modCounter = 1000)\n",
    "    #push!(rviGs, resInhomog[1])\n",
    "    #print(\"RVI: \")\n",
    "    #print(round(resInhomog[1], digits = 5))\n",
    "    #print(\" (Iterations: \")\n",
    "    #print(resInhomog[3])\n",
    "    #print(\")    \")\n",
    "\n",
    "    #find best DSP solution\n",
    "    dsps = enumerateActions(N)\n",
    "    bestDSP = dsps[1]\n",
    "    bestDSP_G = calculateG_DSP(N,alpha_d, alpha_r, beta, tau, c0, c1, r, bestDSP)\n",
    "    for i in 2:(2^N)\n",
    "        thisDSP = dsps[i]\n",
    "        thisDSP_G = calculateG_DSP(N,alpha_d, alpha_r, beta, tau, c0, c1, r, thisDSP)\n",
    "        if thisDSP_G < bestDSP_G\n",
    "            bestDSP = thisDSP\n",
    "            bestDSP_G = thisDSP_G\n",
    "        end\n",
    "    end\n",
    "    #push!(dsps, bestDSP)\n",
    "    #push!(dspGs, bestDSP_G)\n",
    "    print(\"DSP Exact: \")\n",
    "    print(round(bestDSP_G, digits = 5))\n",
    "    print(\",    \")\n",
    "\n",
    "\n",
    "    #find PI on best DSP\n",
    "    #policy = staticPolicyToDynamicPolicyLAS(N, bestDSP)\n",
    "    #resPE = rpe(N, policy, alpha_d, alpha_r, beta, tau, c0, c1, r, epsilon; nMax = nMax, delScale = delScale, printProgress = false, modCounter = 1000)\n",
    "    #push!(dspPeGs, resPE[1])\n",
    "    #print(\"DSP LAS: \")\n",
    "    #print(round(resPE[1], digits = 5))\n",
    "    #print(\" (Iterations: \")\n",
    "    #print(resPE[3])\n",
    "    #print(\"),   \")\n",
    "    #resPI = rpiExact(N, resPE[2], alpha_d, alpha_r, beta, tau, c0, c1, r, epsilon; nMax = nMax, delScale = delScale, printProgress = false, modCounter = 1000)\n",
    "    #push!(piGs, resPI[1])\n",
    "    #print(\"PIH: \")\n",
    "    #print(round(resPI[1], digits = 5))\n",
    "    #print(\" (Iterations: \")\n",
    "    #print(resPI[3])\n",
    "    #println(\").\")\n",
    "\n",
    "    #print DSP\n",
    "    print(\"DSP: \")\n",
    "    println(bestDSP)\n",
    "\n",
    "    #Give heuristic DSP\n",
    "    dspH, dspHG counter = jointHeuristic(N, alpha_d, alpha_r, beta, tau, c0, c1, r)\n",
    "    print(\"Heuristic DSP: \")\n",
    "    print(dspH)\n",
    "    print(\": \")\n",
    "    println(dspHG)\n",
    "    if dspH == bestDSP\n",
    "        numSame += 1\n",
    "    end\n",
    "    #print optimality gap\n",
    "    #print(\"Optimality Gap: \")\n",
    "    #gap = (resPI[1]/resInhomog[1] - 1)*100\n",
    "    #push!(gaps2, gap)\n",
    "    #print(round(gap, digits = 2))\n",
    "    #println(\"%.\")\n",
    "    #end frame\n",
    "    println(join(fill(\"-\",LEN_FRAME)))\n",
    "end\n"
   ]
  },
  {
   "cell_type": "code",
   "execution_count": null,
   "id": "8e925d52",
   "metadata": {},
   "outputs": [],
   "source": [
    "print(numSame/numRuns) #0.9918 vs 0.9984"
   ]
  },
  {
   "cell_type": "code",
   "execution_count": null,
   "id": "4528bbb0",
   "metadata": {},
   "outputs": [],
   "source": [
    "dspHeuristic(N, alpha_d, alpha_r, beta, tau, c0, c1, r; dsp = fill(1, N))"
   ]
  },
  {
   "attachments": {},
   "cell_type": "markdown",
   "id": "52e113b4",
   "metadata": {},
   "source": [
    "## Experiment 4"
   ]
  },
  {
   "cell_type": "code",
   "execution_count": null,
   "id": "5e446837",
   "metadata": {},
   "outputs": [],
   "source": [
    "Random.seed!(12345)\n",
    "numRuns = 1000\n",
    "N = 20\n",
    "alpha_d = fill(0.0, N)\n",
    "beta = 1.0\n",
    "epsilon = 1e-10\n",
    "LEN_FRAME = 75\n",
    "TAU_MAX = 1.0\n",
    "C0_MAX = 1.0\n",
    "C1_MAX = 1000\n",
    "R_MAX = 100\n",
    "nMax = 10000\n",
    "delScale = 1\n",
    "numSame = 0\n",
    "funList = []\n",
    "for run in 1:numRuns\n",
    "    #Start frame\n",
    "    println(join(fill(\"-\",LEN_FRAME)))\n",
    "    print(\"Run: \")\n",
    "    println(run)\n",
    "    #generate parameters\n",
    "    tau = rand(N).*TAU_MAX \n",
    "    print(\"tau: \")\n",
    "    println([round(tau[i], digits = 5) for i in 1:N])\n",
    "    #push!(taus, tau)\n",
    "\n",
    "    alpha_r = [sampleTruncExp(tau[i]/2, tau[i]) for i in 1:N]\n",
    "    print(\"alpha_r: \")\n",
    "    println([round(alpha_r[i], digits = 5) for i in 1:N])\n",
    "    #push!(alphas, alpha_r)\n",
    "\n",
    "    c0 = rand(N).*C0_MAX\n",
    "    c0 = sort(c0)\n",
    "    print(\"c0: \")\n",
    "    println([round(c0[i], digits = 5) for i in 1:N])\n",
    "    #push!(c0s, c0)\n",
    "\n",
    "    c1 = C0_MAX + rand()*(C1_MAX - C0_MAX)\n",
    "    print(\"c1: \")\n",
    "    println(round(c1, digits = 5))\n",
    "    #push!(c1s, c1)\n",
    "\n",
    "    r = rand(N).*R_MAX\n",
    "    print(\"r: \")\n",
    "    println([round(r[i], digits = 5) for i in 1:N])\n",
    "    #push!(rs, r)\n",
    "\n",
    "    #Give heuristic DSP\n",
    "    dspH, dspHG, counter = jointHeuristic(N, alpha_d, alpha_r, beta, tau, c0, c1, r)\n",
    "    if counter > 2\n",
    "        push!(funList, run)\n",
    "    end\n",
    "    print(\"Heuristic DSP: \")\n",
    "    print(dspH)\n",
    "    print(\": \")\n",
    "    print(dspHG)\n",
    "    print(\". Iterations: \")\n",
    "    println(counter)\n",
    "    println(join(fill(\"-\",LEN_FRAME)))\n",
    "end"
   ]
  },
  {
   "cell_type": "code",
   "execution_count": null,
   "id": "af3991c4",
   "metadata": {},
   "outputs": [],
   "source": [
    "funList"
   ]
  },
  {
   "attachments": {},
   "cell_type": "markdown",
   "id": "78687327",
   "metadata": {},
   "source": [
    "## Experiment 5"
   ]
  },
  {
   "attachments": {},
   "cell_type": "markdown",
   "id": "eb420745",
   "metadata": {},
   "source": [
    "Counting number of links in optimal solution"
   ]
  },
  {
   "cell_type": "code",
   "execution_count": null,
   "id": "772bb000",
   "metadata": {},
   "outputs": [],
   "source": [
    "numRuns = 1000\n",
    "N = 20\n",
    "alpha_d = fill(0.0, N)\n",
    "beta = 1.0\n",
    "epsilon = 1e-10\n",
    "LEN_FRAME = 75\n",
    "TAU_MAX = 1.0\n",
    "C0_MAX = 1.0\n",
    "C1_MAX = 1000\n",
    "R_MAX = 100\n",
    "nMax = 10000\n",
    "delScale = 1\n",
    "numSame = 0\n",
    "linkCount = fill(0, 21)\n",
    "#taus = []\n",
    "#alphas = []\n",
    "#c0s = []\n",
    "#c1s = []\n",
    "#rs = []\n",
    "#rviGs = []\n",
    "#dsps = []\n",
    "#dspGs = []\n",
    "#dspPeGs = []\n",
    "#piGs = []\n",
    "#gaps2 = []\n",
    "for run in 1:numRuns\n",
    "    #Start frame\n",
    "    println(join(fill(\"-\",LEN_FRAME)))\n",
    "    print(\"Run: \")\n",
    "    println(run)\n",
    "    #generate parameters\n",
    "    tau = rand(N).*TAU_MAX \n",
    "    print(\"tau: \")\n",
    "    println([round(tau[i], digits = 5) for i in 1:N])\n",
    "    #push!(taus, tau)\n",
    "\n",
    "    alpha_r = [sampleTruncExp(tau[i]/2, tau[i]) for i in 1:N]\n",
    "    print(\"alpha_r: \")\n",
    "    println([round(alpha_r[i], digits = 5) for i in 1:N])\n",
    "    #push!(alphas, alpha_r)\n",
    "\n",
    "    c0 = rand(N).*C0_MAX\n",
    "    c0 = sort(c0)\n",
    "    print(\"c0: \")\n",
    "    println([round(c0[i], digits = 5) for i in 1:N])\n",
    "    #push!(c0s, c0)\n",
    "\n",
    "    c1 = C0_MAX + rand()*(C1_MAX - C0_MAX)\n",
    "    print(\"c1: \")\n",
    "    println(round(c1, digits = 5))\n",
    "    #push!(c1s, c1)\n",
    "\n",
    "    r = rand(N).*R_MAX\n",
    "    print(\"r: \")\n",
    "    println([round(r[i], digits = 5) for i in 1:N])\n",
    "    #push!(rs, r)\n",
    "\n",
    "    #find true optimal solution\n",
    "    #resInhomog = rvi(N, alpha_d, alpha_r, beta, tau, c0, c1, r, epsilon; nMax = nMax, delScale = delScale, printProgress = false, modCounter = 1000)\n",
    "    #push!(rviGs, resInhomog[1])\n",
    "    #print(\"RVI: \")\n",
    "    #print(round(resInhomog[1], digits = 5))\n",
    "    #print(\" (Iterations: \")\n",
    "    #print(resInhomog[3])\n",
    "    #print(\")    \")\n",
    "\n",
    "    #find best DSP solution\n",
    "    dsps = enumerateActions(N)\n",
    "    bestDSP = dsps[1]\n",
    "    bestDSP_G = calculateG_DSP(N,alpha_d, alpha_r, beta, tau, c0, c1, r, bestDSP)\n",
    "    for i in 2:(2^N)\n",
    "        thisDSP = dsps[i]\n",
    "        thisDSP_G = calculateG_DSP(N,alpha_d, alpha_r, beta, tau, c0, c1, r, thisDSP)\n",
    "        if thisDSP_G < bestDSP_G\n",
    "            bestDSP = thisDSP\n",
    "            bestDSP_G = thisDSP_G\n",
    "        end\n",
    "    end\n",
    "    #push!(dsps, bestDSP)\n",
    "    #push!(dspGs, bestDSP_G)\n",
    "    print(\"DSP Exact: \")\n",
    "    print(round(bestDSP_G, digits = 5))\n",
    "    print(\",    \")\n",
    "\n",
    "\n",
    "    #find PI on best DSP\n",
    "    #policy = staticPolicyToDynamicPolicyLAS(N, bestDSP)\n",
    "    #resPE = rpe(N, policy, alpha_d, alpha_r, beta, tau, c0, c1, r, epsilon; nMax = nMax, delScale = delScale, printProgress = false, modCounter = 1000)\n",
    "    #push!(dspPeGs, resPE[1])\n",
    "    #print(\"DSP LAS: \")\n",
    "    #print(round(resPE[1], digits = 5))\n",
    "    #print(\" (Iterations: \")\n",
    "    #print(resPE[3])\n",
    "    #print(\"),   \")\n",
    "    #resPI = rpiExact(N, resPE[2], alpha_d, alpha_r, beta, tau, c0, c1, r, epsilon; nMax = nMax, delScale = delScale, printProgress = false, modCounter = 1000)\n",
    "    #push!(piGs, resPI[1])\n",
    "    #print(\"PIH: \")\n",
    "    #print(round(resPI[1], digits = 5))\n",
    "    #print(\" (Iterations: \")\n",
    "    #print(resPI[3])\n",
    "    #println(\").\")\n",
    "\n",
    "    #print DSP\n",
    "    print(\"DSP: \")\n",
    "    println(bestDSP)\n",
    "\n",
    "    numLinks = sum(bestDSP)\n",
    "    linkCount[numLinks + 1] += 1\n",
    "\n",
    "    #Give heuristic DSP\n",
    "    dspH, dspHG, counter = jointHeuristic(N, alpha_d, alpha_r, beta, tau, c0, c1, r)\n",
    "    print(\"Heuristic DSP: \")\n",
    "    print(dspH)\n",
    "    print(\": \")\n",
    "    println(dspHG)\n",
    "    if dspH == bestDSP\n",
    "        numSame += 1\n",
    "    end\n",
    "    #print optimality gap\n",
    "    #print(\"Optimality Gap: \")\n",
    "    #gap = (resPI[1]/resInhomog[1] - 1)*100\n",
    "    #push!(gaps2, gap)\n",
    "    #print(round(gap, digits = 2))\n",
    "    #println(\"%.\")\n",
    "    #end frame\n",
    "    println(join(fill(\"-\",LEN_FRAME)))\n",
    "end\n"
   ]
  },
  {
   "cell_type": "code",
   "execution_count": null,
   "id": "276f436b",
   "metadata": {},
   "outputs": [],
   "source": [
    "linkCount"
   ]
  },
  {
   "attachments": {},
   "cell_type": "markdown",
   "id": "90b5a5f1",
   "metadata": {},
   "source": [
    "## Experiment 6"
   ]
  },
  {
   "cell_type": "code",
   "execution_count": null,
   "id": "ce8c59b9",
   "metadata": {},
   "outputs": [],
   "source": [
    "Random.seed!(12345)\n",
    "numRuns = 1000\n",
    "N = 5\n",
    "alpha_d = fill(0.0, N)\n",
    "beta = 1.0\n",
    "epsilon = 1e-15\n",
    "LEN_FRAME = 75\n",
    "TAU_MAX = 1.0\n",
    "C0_MAX = 1.0\n",
    "C1_MAX = 1000\n",
    "R_MAX = 100\n",
    "nMax = 50000\n",
    "delScale = 1\n",
    "taus = []\n",
    "alphas = []\n",
    "c0s = []\n",
    "c1s = []\n",
    "rs = []\n",
    "rviGs = []\n",
    "optDsps = []\n",
    "optDspGs = []\n",
    "heurDsps = []\n",
    "heurDspGs = []\n",
    "optPiGs = []\n",
    "heurPiGs = []\n",
    "optGaps = []\n",
    "heurGaps = []\n",
    "for run in 1:numRuns\n",
    "    #Start frame\n",
    "    println(join(fill(\"-\",LEN_FRAME)))\n",
    "    print(\"Run: \")\n",
    "    println(run)\n",
    "\n",
    "    #generate parameters\n",
    "    tau = rand(N).*TAU_MAX #\n",
    "    print(\"tau: \")\n",
    "    println([round(tau[i], digits = 5) for i in 1:N])\n",
    "    push!(taus, tau)\n",
    "\n",
    "    alpha_r = [sampleTruncExp(minimum(tau)/2, minimum(tau)) for i in 1:N]\n",
    "    print(\"alpha_r: \")\n",
    "    println([round(alpha_r[i], digits = 5) for i in 1:N])\n",
    "    push!(alphas, alpha_r)\n",
    "\n",
    "    c0 = rand(N).*C0_MAX\n",
    "    c0 = sort(c0)\n",
    "    print(\"c0: \")\n",
    "    println([round(c0[i], digits = 5) for i in 1:N])\n",
    "    push!(c0s, c0)\n",
    "\n",
    "    c1 = C0_MAX + rand()*(C1_MAX - C0_MAX)\n",
    "    print(\"c1: \")\n",
    "    println(round(c1, digits = 5))\n",
    "    push!(c1s, c1)\n",
    "\n",
    "    r = rand(N).*R_MAX\n",
    "    print(\"r: \")\n",
    "    println([round(r[i], digits = 5) for i in 1:N])\n",
    "    push!(rs, r)\n",
    "\n",
    "    #find true optimal solution\n",
    "    resRVI= rvi(N, alpha_d, alpha_r, beta, tau, c0, c1, r, epsilon; nMax = nMax, delScale = delScale, printProgress = false, modCounter = 100)\n",
    "    push!(rviGs, resRVI[1])\n",
    "    print(\"RVI: \")\n",
    "    print(round(resRVI[1], digits = 5))\n",
    "    print(\" (Iterations: \")\n",
    "    print(resRVI[3])\n",
    "    println(\")    \")\n",
    "\n",
    "    #find best DSP solution\n",
    "    dsps = enumerateActions(N)\n",
    "    bestDSP = dsps[1]\n",
    "    bestDSP_G = calculateG_DSP(N,alpha_d, alpha_r, beta, tau, c0, c1, r, bestDSP)\n",
    "    for i in 2:(2^N)\n",
    "        thisDSP = dsps[i]\n",
    "        thisDSP_G = calculateG_DSP(N,alpha_d, alpha_r, beta, tau, c0, c1, r, thisDSP)\n",
    "        if thisDSP_G < bestDSP_G\n",
    "            bestDSP = thisDSP\n",
    "            bestDSP_G = thisDSP_G\n",
    "        end\n",
    "    end\n",
    "    push!(optDsps, bestDSP)\n",
    "    push!(optDspGs, bestDSP_G)\n",
    "    print(\"Optimal DSP: \")\n",
    "    print(bestDSP)\n",
    "    print(\" \")\n",
    "    print(round(bestDSP_G, digits = 5))\n",
    "    print(\",    \")\n",
    "\n",
    "    #find PE of best DSP\n",
    "    policy = staticPolicyToDynamicPolicyLAS(N, bestDSP)\n",
    "    resPE = rpe(N, policy, alpha_d, alpha_r, beta, tau, c0, c1, r, epsilon; nMax = nMax, delScale = delScale, printProgress = false, modCounter = 1000)\n",
    "    print(\"PE Iterations: \")\n",
    "    print(resPE[3])\n",
    "    print(\",   \")\n",
    "\n",
    "    #do PI on best DSP\n",
    "    resPI = rpiExact(N, resPE[2], alpha_d, alpha_r, beta, tau, c0, c1, r, epsilon; nMax = nMax, delScale = delScale, printProgress = false, modCounter = 1000)\n",
    "    push!(optPiGs, resPI[1])\n",
    "    print(\"PIH: \")\n",
    "    print(round(resPI[1], digits = 5))\n",
    "    print(\" (Iterations: \")\n",
    "    print(resPI[3])\n",
    "    println(\").\")\n",
    "\n",
    "    #Print optimality gap\n",
    "    print(\"Optimality Gap: \")\n",
    "    gap = (resPI[1]/resRVI[1] - 1)*100\n",
    "    push!(optGaps, gap)\n",
    "    print(round(gap, digits = 2))\n",
    "    println(\"%.\")\n",
    "\n",
    "    #find heuristic DSP solution\n",
    "    heurDsp, heurDspG, counter = jointHeuristic(N, alpha_d, alpha_r, beta, tau, c0, c1, r)\n",
    "    push!(heurDsps, heurDsp)\n",
    "    push!(heurDspGs)\n",
    "    if heurDsp == bestDSP\n",
    "        println(\"Heuristic DSP same as Optimal DSP.\")\n",
    "        push!(heurGaps, gap)\n",
    "    else\n",
    "        #print heuristic DSP and g\n",
    "        print(\"Heuristic DSP: \")\n",
    "        print(heurDsp)\n",
    "        print(\" \")\n",
    "        print(round(heurDspG, digits = 5))\n",
    "\n",
    "        #find PE of heuristic DSP\n",
    "        policy = staticPolicyToDynamicPolicyLAS(N, heurDsp)\n",
    "        resPE = rpe(N, policy, alpha_d, alpha_r, beta, tau, c0, c1, r, epsilon; nMax = nMax, delScale = delScale, printProgress = false, modCounter = 1000)\n",
    "        print(\"PE Iterations: \")\n",
    "        print(resPE[3])\n",
    "        print(\"),   \")\n",
    "\n",
    "        #do PI on heuristic DSP\n",
    "        resPI = rpiExact(N, resPE[2], alpha_d, alpha_r, beta, tau, c0, c1, r, epsilon; nMax = nMax, delScale = delScale, printProgress = false, modCounter = 1000)\n",
    "        push!(heurPiGs, resPI[1])\n",
    "        print(\"PIH: \")\n",
    "        print(round(resPI[1], digits = 5))\n",
    "        print(\" (Iterations: \")\n",
    "        print(resPI[3])\n",
    "        println(\").\")\n",
    "\n",
    "        #Print optimality gap\n",
    "        print(\"Optimality Gap: \")\n",
    "        gap = (resPI[1]/resRVI[1] - 1)*100\n",
    "        push!(heurGaps, gap)\n",
    "        print(round(gap, digits = 2))\n",
    "        println(\"%.\")\n",
    "    end\n",
    "    #end frame\n",
    "    println(join(fill(\"-\",LEN_FRAME)))\n",
    "end"
   ]
  },
  {
   "cell_type": "code",
   "execution_count": null,
   "id": "d2108638",
   "metadata": {},
   "outputs": [],
   "source": [
    "resultsExp6 = Dict()\n",
    "resultsExp6[\"taus\"] = taus \n",
    "resultsExp6[\"alphas\"] = alphas\n",
    "resultsExp6[\"c0s\"] = c1s \n",
    "resultsExp6[\"rs\"] = rs \n",
    "resultsExp6[\"rviGs\"] = rviGs\n",
    "resultsExp6[\"optDsps\"] = optDsps \n",
    "resultsExp6[\"optDspGs\"] = optDspGs \n",
    "resultsExp6[\"heurDsps\"] = heurDsps\n",
    "resultsExp6[\"heurDspGs\"] = heurDspGs\n",
    "resultsExp6[\"optPiGs\"] = optPiGs \n",
    "resultsExp6[\"heurPiGs\"] = heurPiGs\n",
    "resultsExp6[\"optGaps\"] = optGaps \n",
    "resultsExp6[\"heurGaps\"] = heurGaps\n",
    "\n",
    "f = serialize(\"resultsExp6.big\", resultsExp6)"
   ]
  },
  {
   "cell_type": "code",
   "execution_count": null,
   "id": "4fdee3a8",
   "metadata": {},
   "outputs": [],
   "source": [
    "density(optGaps)"
   ]
  },
  {
   "cell_type": "code",
   "execution_count": null,
   "id": "b11a3812",
   "metadata": {},
   "outputs": [],
   "source": [
    "maximum(optGaps)"
   ]
  },
  {
   "cell_type": "code",
   "execution_count": null,
   "id": "9336974f",
   "metadata": {},
   "outputs": [],
   "source": [
    "minimum(optGaps)"
   ]
  },
  {
   "cell_type": "code",
   "execution_count": null,
   "id": "324a0042",
   "metadata": {},
   "outputs": [],
   "source": [
    "mean(optGaps)"
   ]
  },
  {
   "cell_type": "code",
   "execution_count": null,
   "id": "a70d1bd7",
   "metadata": {},
   "outputs": [],
   "source": [
    "median(optGaps)"
   ]
  },
  {
   "cell_type": "code",
   "execution_count": null,
   "id": "94fd39f7",
   "metadata": {},
   "outputs": [],
   "source": [
    "mean(optGaps[i] < 1e-10 for i in 1:1000)"
   ]
  },
  {
   "cell_type": "code",
   "execution_count": null,
   "id": "5a9cbbc8",
   "metadata": {},
   "outputs": [],
   "source": [
    "mean(optGaps[i] < -1e-5 for i in 1:1000)"
   ]
  },
  {
   "cell_type": "code",
   "execution_count": null,
   "id": "699ba9df",
   "metadata": {},
   "outputs": [],
   "source": [
    "mean(optGaps[i] < -1e-10 for i in 1:1000)"
   ]
  },
  {
   "cell_type": "code",
   "execution_count": null,
   "id": "31fc3d70",
   "metadata": {},
   "outputs": [],
   "source": [
    "mean(optGaps[i] < 1 for i in 1:1000)"
   ]
  },
  {
   "cell_type": "code",
   "execution_count": null,
   "id": "3aeec0d4",
   "metadata": {},
   "outputs": [],
   "source": [
    "mean(optGaps[i] < 5 for i in 1:1000)"
   ]
  },
  {
   "cell_type": "code",
   "execution_count": null,
   "id": "17cc7063",
   "metadata": {},
   "outputs": [],
   "source": [
    "mean(optGaps[i] < 10 for i in 1:1000)"
   ]
  },
  {
   "cell_type": "code",
   "execution_count": null,
   "id": "4b9d3260",
   "metadata": {},
   "outputs": [],
   "source": [
    "sum(heurDsps[i] == optDsps[i] for i in 1:1000)"
   ]
  },
  {
   "cell_type": "code",
   "execution_count": null,
   "id": "959e4744",
   "metadata": {},
   "outputs": [],
   "source": [
    "sum(sum(optDsps[i]) == 3 for i in 1:1000)"
   ]
  },
  {
   "cell_type": "code",
   "execution_count": null,
   "id": "8d67c972",
   "metadata": {},
   "outputs": [],
   "source": [
    "dspGaps = (optDspGs./rviGs .-1).*100"
   ]
  },
  {
   "cell_type": "code",
   "execution_count": null,
   "id": "eb50fb28",
   "metadata": {},
   "outputs": [],
   "source": [
    "density(dspGaps)"
   ]
  },
  {
   "cell_type": "code",
   "execution_count": null,
   "id": "e5944bc8",
   "metadata": {},
   "outputs": [],
   "source": [
    "minimum(dspGaps)"
   ]
  },
  {
   "cell_type": "code",
   "execution_count": null,
   "id": "abadc1a4",
   "metadata": {},
   "outputs": [],
   "source": [
    "median(dspGaps)"
   ]
  },
  {
   "cell_type": "code",
   "execution_count": null,
   "id": "bab62523",
   "metadata": {},
   "outputs": [],
   "source": [
    "mean(dspGaps)"
   ]
  },
  {
   "cell_type": "code",
   "execution_count": null,
   "id": "9587d0d7",
   "metadata": {},
   "outputs": [],
   "source": [
    "mean(dspGaps[i] < 1e-10 for i in 1:1000)"
   ]
  },
  {
   "cell_type": "code",
   "execution_count": null,
   "id": "fd3932db",
   "metadata": {},
   "outputs": [],
   "source": [
    "mean(dspGaps[i] < -1e-10 for i in 1:1000)"
   ]
  },
  {
   "cell_type": "code",
   "execution_count": null,
   "id": "e5463a22",
   "metadata": {},
   "outputs": [],
   "source": [
    "mean(optGaps[i] < -1e-10 for i in 1:1000)"
   ]
  },
  {
   "cell_type": "code",
   "execution_count": null,
   "id": "154640ab",
   "metadata": {},
   "outputs": [],
   "source": [
    "mean(optGaps[i] for i in 1:1000 if dspGaps[i] < 1e-10)"
   ]
  },
  {
   "cell_type": "code",
   "execution_count": null,
   "id": "d2c2de4a",
   "metadata": {},
   "outputs": [],
   "source": [
    "mean(dspGaps[i] for i in 1:1000 if dspGaps[i] < 1e-10)"
   ]
  },
  {
   "cell_type": "code",
   "execution_count": null,
   "id": "e8e0e8bf",
   "metadata": {},
   "outputs": [],
   "source": [
    "minimum(optGaps[i] for i in 1:1000 if optGaps[i] > -0.27)"
   ]
  },
  {
   "cell_type": "code",
   "execution_count": null,
   "id": "4b0e3fce",
   "metadata": {},
   "outputs": [],
   "source": [
    "score = [(dspGaps[i] - optGaps[i])/dspGaps[i] for i in 1:1000 if dspGaps[i] > 1e-10]"
   ]
  },
  {
   "cell_type": "code",
   "execution_count": null,
   "id": "efd20457",
   "metadata": {},
   "outputs": [],
   "source": [
    "score = [s*(s <= 1) + 1*(s > 1) for s in score if s >= 0]"
   ]
  },
  {
   "cell_type": "code",
   "execution_count": null,
   "id": "a0ec4c9c",
   "metadata": {},
   "outputs": [],
   "source": [
    "density(score, xlim = (0,1))"
   ]
  },
  {
   "attachments": {},
   "cell_type": "markdown",
   "id": "c73f6a77",
   "metadata": {},
   "source": [
    "## Experiment 7"
   ]
  },
  {
   "attachments": {},
   "cell_type": "markdown",
   "id": "d29b5f8a",
   "metadata": {},
   "source": [
    "Similar to above, but smaller epsilon"
   ]
  },
  {
   "cell_type": "code",
   "execution_count": null,
   "id": "e4093260",
   "metadata": {},
   "outputs": [],
   "source": [
    "Random.seed!(12345)\n",
    "numRuns = 1000\n",
    "N = 5\n",
    "alpha_d = fill(0.0, N)\n",
    "beta = 1.0\n",
    "epsilon = 1e-10\n",
    "LEN_FRAME = 75\n",
    "TAU_MAX = 1.0\n",
    "C0_MAX = 1.0\n",
    "C1_MAX = 1000\n",
    "R_MAX = 100\n",
    "nMax = 50000\n",
    "delScale = 1\n",
    "taus = []\n",
    "alphas = []\n",
    "c0s = []\n",
    "c1s = []\n",
    "rs = []\n",
    "rviGs = []\n",
    "optDsps = []\n",
    "optDspGs = []\n",
    "heurDsps = []\n",
    "heurDspGs = []\n",
    "optPiGs = []\n",
    "heurPiGs = []\n",
    "optGaps = []\n",
    "heurGaps = []\n",
    "for run in 1:numRuns\n",
    "    #Start frame\n",
    "    println(join(fill(\"-\",LEN_FRAME)))\n",
    "    print(\"Run: \")\n",
    "    println(run)\n",
    "\n",
    "    #generate parameters\n",
    "    tau = rand(N).*TAU_MAX #\n",
    "    print(\"tau: \")\n",
    "    println([round(tau[i], digits = 5) for i in 1:N])\n",
    "    push!(taus, tau)\n",
    "\n",
    "    alpha_r = [sampleTruncExp(minimum(tau)/2, minimum(tau)) for i in 1:N]\n",
    "    print(\"alpha_r: \")\n",
    "    println([round(alpha_r[i], digits = 5) for i in 1:N])\n",
    "    push!(alphas, alpha_r)\n",
    "\n",
    "    c0 = rand(N).*C0_MAX\n",
    "    c0 = sort(c0)\n",
    "    print(\"c0: \")\n",
    "    println([round(c0[i], digits = 5) for i in 1:N])\n",
    "    push!(c0s, c0)\n",
    "\n",
    "    c1 = C0_MAX + rand()*(C1_MAX - C0_MAX)\n",
    "    print(\"c1: \")\n",
    "    println(round(c1, digits = 5))\n",
    "    push!(c1s, c1)\n",
    "\n",
    "    r = rand(N).*R_MAX\n",
    "    print(\"r: \")\n",
    "    println([round(r[i], digits = 5) for i in 1:N])\n",
    "    push!(rs, r)\n",
    "\n",
    "    #find true optimal solution\n",
    "    resRVI= rvi(N, alpha_d, alpha_r, beta, tau, c0, c1, r, epsilon; nMax = nMax, delScale = delScale, printProgress = false, modCounter = 100)\n",
    "\n",
    "    #evaluate true optimal solution\n",
    "    resRVI_PE = rpe(N, resRVI[4], alpha_d, alpha_r, beta, tau, c0, c1, r, epsilon; nMax = nMax, delScale = delScale, printProgress = false, modCounter = 1000)\n",
    "    push!(rviGs, resRVI_PE[1])\n",
    "    print(\"RVI: \")\n",
    "    print(round(resRVI_PE[1], digits = 5))\n",
    "    print(\" (RVI Iterations: \")\n",
    "    print(resRVI[3])\n",
    "    print(\", PE Iterations: \")\n",
    "    print(resRVI_PE[3])\n",
    "    println(\")    \")\n",
    "\n",
    "    #find best DSP solution\n",
    "    dsps = enumerateActions(N)\n",
    "    bestDSP = dsps[1]\n",
    "    bestDSP_G = calculateG_DSP(N,alpha_d, alpha_r, beta, tau, c0, c1, r, bestDSP)\n",
    "    for i in 2:(2^N)\n",
    "        thisDSP = dsps[i]\n",
    "        thisDSP_G = calculateG_DSP(N,alpha_d, alpha_r, beta, tau, c0, c1, r, thisDSP)\n",
    "        if thisDSP_G < bestDSP_G\n",
    "            bestDSP = thisDSP\n",
    "            bestDSP_G = thisDSP_G\n",
    "        end\n",
    "    end\n",
    "    push!(optDsps, bestDSP)\n",
    "    push!(optDspGs, bestDSP_G)\n",
    "    print(\"Optimal DSP: \")\n",
    "    print(bestDSP)\n",
    "    print(\" \")\n",
    "    print(round(bestDSP_G, digits = 5))\n",
    "    print(\",    \")\n",
    "\n",
    "    #find PE of best DSP\n",
    "    policy = staticPolicyToDynamicPolicyLAS(N, bestDSP)\n",
    "    resPE = rpe(N, policy, alpha_d, alpha_r, beta, tau, c0, c1, r, epsilon; nMax = nMax, delScale = delScale, printProgress = false, modCounter = 1000)\n",
    "    print(\"PE Iterations: \")\n",
    "    print(resPE[3])\n",
    "    print(\",   \")\n",
    "\n",
    "    #do PI on best DSP\n",
    "    resPI = rpiExact(N, resPE[2], alpha_d, alpha_r, beta, tau, c0, c1, r, epsilon; nMax = nMax, delScale = delScale, printProgress = false, modCounter = 1000)\n",
    "    push!(optPiGs, resPI[1])\n",
    "    print(\"PIH: \")\n",
    "    print(round(resPI[1], digits = 5))\n",
    "    print(\" (Iterations: \")\n",
    "    print(resPI[3])\n",
    "    println(\").\")\n",
    "\n",
    "    #Print optimality gap\n",
    "    print(\"Optimality Gap: \")\n",
    "    gap = (resPI[1]/resRVI_PE[1] - 1)*100\n",
    "    push!(optGaps, gap)\n",
    "    print(round(gap, digits = 2))\n",
    "    println(\"%.\")\n",
    "\n",
    "    #find heuristic DSP solution\n",
    "    heurDsp, heurDspG, counter = jointHeuristic(N, alpha_d, alpha_r, beta, tau, c0, c1, r)\n",
    "    push!(heurDsps, heurDsp)\n",
    "    push!(heurDspGs)\n",
    "    if heurDsp == bestDSP\n",
    "        println(\"Heuristic DSP same as Optimal DSP.\")\n",
    "        push!(heurGaps, gap)\n",
    "    else\n",
    "        #print heuristic DSP and g\n",
    "        print(\"Heuristic DSP: \")\n",
    "        print(heurDsp)\n",
    "        print(\" \")\n",
    "        print(round(heurDspG, digits = 5))\n",
    "\n",
    "        #find PE of heuristic DSP\n",
    "        policy = staticPolicyToDynamicPolicyLAS(N, heurDsp)\n",
    "        resPE = rpe(N, policy, alpha_d, alpha_r, beta, tau, c0, c1, r, epsilon; nMax = nMax, delScale = delScale, printProgress = false, modCounter = 1000)\n",
    "        print(\"PE Iterations: \")\n",
    "        print(resPE[3])\n",
    "        print(\"),   \")\n",
    "\n",
    "        #do PI on heuristic DSP\n",
    "        resPI = rpiExact(N, resPE[2], alpha_d, alpha_r, beta, tau, c0, c1, r, epsilon; nMax = nMax, delScale = delScale, printProgress = false, modCounter = 1000)\n",
    "        push!(heurPiGs, resPI[1])\n",
    "        print(\"PIH: \")\n",
    "        print(round(resPI[1], digits = 5))\n",
    "        print(\" (Iterations: \")\n",
    "        print(resPI[3])\n",
    "        println(\").\")\n",
    "\n",
    "        #Print optimality gap\n",
    "        print(\"Optimality Gap: \")\n",
    "        gap = (resPI[1]/resRVI_PE[1] - 1)*100\n",
    "        push!(heurGaps, gap)\n",
    "        print(round(gap, digits = 2))\n",
    "        println(\"%.\")\n",
    "    end\n",
    "    #end frame\n",
    "    println(join(fill(\"-\",LEN_FRAME)))\n",
    "end"
   ]
  },
  {
   "cell_type": "code",
   "execution_count": null,
   "id": "477ed756",
   "metadata": {},
   "outputs": [],
   "source": [
    "resultsExp7 = Dict()\n",
    "resultsExp7[\"taus\"] = taus \n",
    "resultsExp7[\"alphas\"] = alphas\n",
    "resultsExp7[\"c0s\"] = c1s \n",
    "resultsExp7[\"rs\"] = rs \n",
    "resultsExp7[\"rviGs\"] = rviGs\n",
    "resultsExp7[\"optDsps\"] = optDsps \n",
    "resultsExp7[\"optDspGs\"] = optDspGs \n",
    "resultsExp7[\"heurDsps\"] = heurDsps\n",
    "resultsExp7[\"heurDspGs\"] = heurDspGs\n",
    "resultsExp7[\"optPiGs\"] = optPiGs \n",
    "resultsExp7[\"heurPiGs\"] = heurPiGs\n",
    "resultsExp7[\"optGaps\"] = optGaps \n",
    "resultsExp7[\"heurGaps\"] = heurGaps\n",
    "\n",
    "f = serialize(\"resultsExp7.big\", resultsExp7)"
   ]
  },
  {
   "cell_type": "code",
   "execution_count": null,
   "id": "6ffb3ea0",
   "metadata": {},
   "outputs": [],
   "source": [
    "minimum(optGaps)"
   ]
  },
  {
   "cell_type": "code",
   "execution_count": null,
   "id": "72c2d51c",
   "metadata": {},
   "outputs": [],
   "source": [
    "maximum(optGaps)"
   ]
  },
  {
   "cell_type": "code",
   "execution_count": null,
   "id": "69d4e7f1",
   "metadata": {},
   "outputs": [],
   "source": [
    "density(optGaps, xlim = (0,25), label = \"PI Optimality Gap\")"
   ]
  },
  {
   "cell_type": "code",
   "execution_count": null,
   "id": "f0bb01a9",
   "metadata": {},
   "outputs": [],
   "source": [
    "hist(optGaps, density= true, bins = 25)"
   ]
  },
  {
   "cell_type": "code",
   "execution_count": null,
   "id": "ab1539c3",
   "metadata": {},
   "outputs": [],
   "source": [
    "density(optGaps, xlim = (10, 25), ylim = (0, 0.008))"
   ]
  },
  {
   "cell_type": "code",
   "execution_count": null,
   "id": "acb5e601",
   "metadata": {},
   "outputs": [],
   "source": [
    "mean(optGaps[i] < 1e-10 for i in 1:1000)"
   ]
  },
  {
   "cell_type": "code",
   "execution_count": null,
   "id": "22a54309",
   "metadata": {},
   "outputs": [],
   "source": [
    "mean(optGaps[i] < 0.1 for i in 1:1000)"
   ]
  },
  {
   "cell_type": "code",
   "execution_count": null,
   "id": "aedda4ed",
   "metadata": {},
   "outputs": [],
   "source": [
    "mean(optGaps[i] < 1.0 for i in 1:1000)"
   ]
  },
  {
   "cell_type": "code",
   "execution_count": null,
   "id": "0437f902",
   "metadata": {},
   "outputs": [],
   "source": [
    "mean(optGaps[i] < 10.0 for i in 1:1000)"
   ]
  },
  {
   "cell_type": "code",
   "execution_count": null,
   "id": "92a16073",
   "metadata": {},
   "outputs": [],
   "source": [
    "median(optGaps)"
   ]
  },
  {
   "cell_type": "code",
   "execution_count": null,
   "id": "dccb4bf5",
   "metadata": {},
   "outputs": [],
   "source": [
    "mean(optGaps)"
   ]
  },
  {
   "cell_type": "code",
   "execution_count": null,
   "id": "82772b82",
   "metadata": {},
   "outputs": [],
   "source": [
    "quantile(optGaps, 0.9)"
   ]
  },
  {
   "cell_type": "code",
   "execution_count": null,
   "id": "386235d0",
   "metadata": {},
   "outputs": [],
   "source": [
    "quantile(optGaps, 0.99)"
   ]
  },
  {
   "cell_type": "code",
   "execution_count": null,
   "id": "536a3e4f",
   "metadata": {},
   "outputs": [],
   "source": [
    "dspGaps = (optDspGs./rviGs .-1).*100"
   ]
  },
  {
   "cell_type": "code",
   "execution_count": null,
   "id": "e19be9a7",
   "metadata": {},
   "outputs": [],
   "source": [
    "density(dspGaps, xlim = (0.0, maximum(dspGaps)), label = \"DSP Optimality Gap\")"
   ]
  },
  {
   "cell_type": "code",
   "execution_count": null,
   "id": "a90143a3",
   "metadata": {},
   "outputs": [],
   "source": [
    "minimum(dspGaps)"
   ]
  },
  {
   "cell_type": "code",
   "execution_count": null,
   "id": "f624aa2a",
   "metadata": {},
   "outputs": [],
   "source": [
    "maximum(dspGaps)"
   ]
  },
  {
   "cell_type": "code",
   "execution_count": null,
   "id": "cb312a14",
   "metadata": {},
   "outputs": [],
   "source": [
    "mean(dspGaps)"
   ]
  },
  {
   "cell_type": "code",
   "execution_count": null,
   "id": "e9126d7a",
   "metadata": {},
   "outputs": [],
   "source": [
    "median(dspGaps)"
   ]
  },
  {
   "cell_type": "code",
   "execution_count": null,
   "id": "195c69c7",
   "metadata": {},
   "outputs": [],
   "source": [
    "mean(dspGaps[i] < 1e-10 for i in 1:1000)"
   ]
  },
  {
   "cell_type": "code",
   "execution_count": null,
   "id": "821a27c1",
   "metadata": {},
   "outputs": [],
   "source": [
    "mean(dspGaps[i] < 0.1 for i in 1:1000)"
   ]
  },
  {
   "cell_type": "code",
   "execution_count": null,
   "id": "bbf359e1",
   "metadata": {},
   "outputs": [],
   "source": [
    "mean(dspGaps[i] < 1.0 for i in 1:1000)"
   ]
  },
  {
   "cell_type": "code",
   "execution_count": null,
   "id": "ffda7969",
   "metadata": {},
   "outputs": [],
   "source": [
    "mean(dspGaps[i] < 10.0 for i in 1:1000)"
   ]
  },
  {
   "cell_type": "code",
   "execution_count": null,
   "id": "cf7a8922",
   "metadata": {},
   "outputs": [],
   "source": [
    "quantile(dspGaps, 0.9)"
   ]
  },
  {
   "cell_type": "code",
   "execution_count": null,
   "id": "34969138",
   "metadata": {},
   "outputs": [],
   "source": [
    "quantile(dspGaps, 0.99)"
   ]
  },
  {
   "attachments": {},
   "cell_type": "markdown",
   "id": "73a7fe26",
   "metadata": {},
   "source": [
    "## Experiment 8"
   ]
  },
  {
   "cell_type": "code",
   "execution_count": 477,
   "id": "30308f27",
   "metadata": {},
   "outputs": [
    {
     "name": "stdout",
     "output_type": "stream",
     "text": [
      "---------------------------------------------------------------------------\n",
      "Run: 1\n",
      "tau: [0.9447905649425166, 0.866894886438913, 0.3396115028483221, 0.13611651795784874, 0.3225010866963668]\n",
      "alpha: [0.008970179158651559, 0.036935810010869013, 0.059888020871150055, 0.03663215704203369, 0.0737056992956364]\n",
      "c0: [0.09261145157968753, 0.11848853125656122, 0.26755021483368013, 0.8104947638539546, 0.8681535487443706]\n",
      "c1: 853.4190042384113\n",
      "r: [99.56147215735662, 82.000516419209, 83.4463081073842, 73.46937216084547, 38.36128790136257]\n",
      "\n",
      "RVI: 4.70822, PI Heuristic: 4.70822, Gap: -0.0\n",
      "(Simulated) DSP g: 4.71124, e-soft DSP g: 4.94448\n",
      "Simulated PI g: 4.7069, Exact PI g: 4.70822, Optimality Gap: -0.0\n",
      "---------------------------------------------------------------------------\n",
      "---------------------------------------------------------------------------\n",
      "Run: 2\n",
      "tau: [0.9026092458595942, 0.33079891601205613, 0.13162494417125792, 0.1735229272258466, 0.13882745373884087]\n",
      "alpha: [0.03063031765318111, 0.045966658334234294, 0.007767668179646831, 0.002744059925049017, 0.014014082661568152]\n",
      "c0: [0.031060918612698662, 0.47502901483951, 0.6338479453532103, 0.8686618392461037, 0.8999510969166794]\n",
      "c1: 886.4052903510224\n",
      "r: [2.2917203156524124, 74.74303803715054, 92.61105979360987, 24.71873940882312, 49.33692564620821]\n",
      "\n",
      "RVI: 0.95977, PI Heuristic: 0.95977, Gap: 0.0\n",
      "(Simulated) DSP g: 0.96504, e-soft DSP g: 1.28256\n",
      "Simulated PI g: 0.9757, Exact PI g: 0.97105, Optimality Gap: 1.18\n",
      "---------------------------------------------------------------------------\n",
      "---------------------------------------------------------------------------\n",
      "Run: 3\n",
      "tau: [0.022975827157776574, 0.5819438542193595, 0.28519068774898626, 0.8401967208497753, 0.1706197629133105]\n",
      "alpha: [0.010343463158472604, 0.022534434095330277, 0.00297784571145519, 0.01564425158696812, 0.0088073736937561]\n",
      "c0: [0.03823088323229851, 0.08118340510081057, 0.48103483781166023, 0.6652328434047942, 0.6831432889802543]\n",
      "c1: 299.0424552332221\n",
      "r: [48.852596224220115, 5.6513539628750165, 18.79230864601834, 89.16133717717167, 83.94541316242426]\n",
      "\n",
      "RVI: 0.59994, PI Heuristic: 0.60328, Gap: 0.56\n",
      "(Simulated) DSP g: 0.61556, e-soft DSP g: 0.98288\n",
      "Simulated PI g: 0.61464, Exact PI g: 0.61598, Optimality Gap: 2.67\n",
      "---------------------------------------------------------------------------\n",
      "---------------------------------------------------------------------------\n",
      "Run: 4\n",
      "tau: [0.5257954524244801, 0.6846826944853885, 0.6299157011197652, 0.12180466275080659, 0.22714523410904908]\n",
      "alpha: [0.10793481201011335, 0.07928947327031104, 0.06441516474737297, 0.1038830297062849, 0.046310822473277766]\n",
      "c0: [0.04556691727491835, 0.2569855620998601, 0.7641765093049641, 0.8355328219650928, 0.9247865497253934]\n",
      "c1: 215.51526875094254\n",
      "r: [18.11552569034297, 65.83241974888779, 73.72969029596533, 69.25855091220197, 8.926233453609667]\n",
      "\n",
      "RVI: 9.08295, PI Heuristic: 9.33284, Gap: 2.75\n",
      "(Simulated) DSP g: 10.97675, e-soft DSP g: 11.32879\n",
      "Simulated PI g: 10.92873, Exact PI g: 10.98198, Optimality Gap: 20.91\n",
      "---------------------------------------------------------------------------\n",
      "---------------------------------------------------------------------------\n",
      "Run: 5\n",
      "tau: [0.745158656317059, 0.06716015502195471, 0.9766402666233881, 0.7678286947665199, 0.9259791273188613]\n",
      "alpha: [0.004550703832405469, 0.02918758748451868, 0.004692436761172917, 0.04218837255365773, 0.026556668445700402]\n",
      "c0: [0.014706365774695529, 0.310238593662026, 0.45867544991454623, 0.497571749691327, 0.7897714145236052]\n",
      "c1: 142.54375963933796\n",
      "r: [76.48717254657191, 69.05450320280814, 13.795756870611886, 50.037855003798214, 89.39004629330798]\n",
      "\n",
      "RVI: 0.55177, PI Heuristic: 0.55177, Gap: -0.0\n",
      "(Simulated) DSP g: 0.55191, e-soft DSP g: 0.61175\n",
      "Simulated PI g: 0.55186, Exact PI g: 0.55177, Optimality Gap: -0.0\n",
      "---------------------------------------------------------------------------\n",
      "---------------------------------------------------------------------------\n",
      "Run: 6\n",
      "tau: [0.3152421869370332, 0.0775328897574149, 0.8668001780368776, 0.635247162882394, 0.37101097421566187]\n",
      "alpha: [0.02209608772152969, 0.03497173817099469, 0.006111187881283514, 0.04762558624167467, 0.006563205112644]\n",
      "c0: [0.1876429469318034, 0.484814030223487, 0.5136160809618052, 0.6045241487477916, 0.8827443952651307]\n",
      "c1: 297.3222012571138\n",
      "r: [25.844439089895545, 32.364983460388174, 54.91785936768554, 55.003683540638825, 40.79891902418276]\n",
      "\n",
      "RVI: 1.64594, PI Heuristic: 1.64594, Gap: 0.0\n",
      "(Simulated) DSP g: 1.64614, e-soft DSP g: 1.68781\n",
      "Simulated PI g: 1.6456, Exact PI g: 1.64594, Optimality Gap: 0.0\n",
      "---------------------------------------------------------------------------\n",
      "---------------------------------------------------------------------------\n",
      "Run: 7\n",
      "tau: [0.9401692702576502, 0.12253520319473654, 0.9804835488409009, 0.059976101651463054, 0.21479246476141112]\n",
      "alpha: [0.0028901349510305242, 0.005098753385585487, 0.012999539284461492, 0.040165092523188686, 0.034670073449654844]\n",
      "c0: [0.3812291267547717, 0.539344466494275, 0.5926193129911952, 0.6550375788867486, 0.9808109904430782]\n",
      "c1: 583.5296460777939\n",
      "r: [43.67261437144428, 55.22601284843039, 68.23433195558535, 12.229945769185345, 81.37025017657913]\n",
      "\n",
      "RVI: 1.43193, PI Heuristic: 1.43193, Gap: 0.0\n",
      "(Simulated) DSP g: 1.43153, e-soft DSP g: 1.53135\n",
      "Simulated PI g: 1.40399, Exact PI g: 1.71245, Optimality Gap: 19.59\n",
      "---------------------------------------------------------------------------\n",
      "---------------------------------------------------------------------------\n",
      "Run: 8\n",
      "tau: [0.9456921874808961, 0.9497919748832513, 0.45925544940841956, 0.6821525081196905, 0.6664253465715614]\n",
      "alpha: [0.11423733862082462, 0.15286560502573487, 0.19254088803642913, 0.10758051686472457, 0.3975377781371666]\n",
      "c0: [0.22682668576626408, 0.29561830474399775, 0.30707213452019777, 0.606623172832839, 0.8840887409951093]\n",
      "c1: 220.45421939847725\n",
      "r: [68.41606204680438, 1.5736189890959706, 77.60279058551623, 16.20470452457906, 9.30788711684144]\n",
      "\n",
      "RVI: 6.30142, PI Heuristic: 6.42945, Gap: 2.03\n",
      "(Simulated) DSP g: 6.90283, e-soft DSP g: 7.18593\n",
      "Simulated PI g: 6.87231, Exact PI g: 6.91623, Optimality Gap: 9.76\n",
      "---------------------------------------------------------------------------\n",
      "---------------------------------------------------------------------------\n",
      "Run: 9\n",
      "tau: [0.8683757466953818, 0.05771875062539511, 0.8684883538634811, 0.08192290025835924, 0.7900357372232398]\n",
      "alpha: [0.016811561518671525, 0.008752819399673536, 0.007510710372060958, 0.011454595638471272, 0.00412955700132952]\n",
      "c0: [0.23637668396750444, 0.2710937732136022, 0.30684075929588006, 0.5125292450208497, 0.9456116870596813]\n",
      "c1: 684.4743327959106\n",
      "r: [25.679854650523204, 30.18057448831498, 2.355462804770092, 56.79002499090413, 72.16649536424083]\n",
      "\n",
      "RVI: 0.73465, PI Heuristic: 0.73538, Gap: 0.1\n",
      "(Simulated) DSP g: 0.73841, e-soft DSP g: 0.83694\n",
      "Simulated PI g: 0.73879, Exact PI g: 0.73824, Optimality Gap: 0.49\n",
      "---------------------------------------------------------------------------\n",
      "---------------------------------------------------------------------------\n",
      "Run: 10\n",
      "tau: [0.9012147830891933, 0.46122675648518374, 0.31544803282459943, 0.37435245804088535, 0.5685754198997256]\n",
      "alpha: [0.11961157271271257, 0.14914615582631915, 0.1755868021738314, 0.04575225990932379, 0.09233917901748587]\n",
      "c0: [0.12638796304645084, 0.18494113302675308, 0.3323566671401027, 0.36708612741863855, 0.6844497859519026]\n",
      "c1: 676.2840045976853\n",
      "r: [86.76798774391285, 62.572808673000694, 61.677208836541666, 49.901638315862705, 39.01371187257606]\n",
      "\n",
      "RVI: 17.78518, PI Heuristic: 19.32581, Gap: 8.66\n",
      "(Simulated) DSP g: 21.53591, e-soft DSP g: 21.71494\n",
      "Simulated PI g: 21.45121, Exact PI g: 21.56686, Optimality Gap: 21.26\n",
      "---------------------------------------------------------------------------\n",
      "---------------------------------------------------------------------------\n",
      "Run: 11\n",
      "tau: [0.022522076981925765, 0.8228275977023196, 0.8693865393448893, 0.12311714526487239, 0.012322728543585404]\n",
      "alpha: [0.008910573509950405, 0.0026667237295539908, 0.0030445495105178165, 0.0007028947516503511, 0.003795975923588317]\n",
      "c0: [0.2337230656462589, 0.3225747463161558, 0.5681099185151535, 0.8105455050815257, 0.9314719369533632]\n",
      "c1: 725.1320617048058\n",
      "r: [68.40749403376859, 99.58718455087417, 92.94873577891161, 34.380836023438455, 29.013577427125238]\n",
      "\n",
      "RVI: 0.85149, PI Heuristic: 0.85203, Gap: 0.06\n",
      "(Simulated) DSP g: 0.85367, e-soft DSP g: 0.95877\n"
     ]
    },
    {
     "ename": "LoadError",
     "evalue": "InterruptException:",
     "output_type": "error",
     "traceback": [
      "InterruptException:",
      "",
      "Stacktrace:",
      "  [1] Array",
      "    @ ./boot.jl:459 [inlined]",
      "  [2] Array",
      "    @ ./boot.jl:468 [inlined]",
      "  [3] Array",
      "    @ ./boot.jl:476 [inlined]",
      "  [4] similar",
      "    @ ./abstractarray.jl:841 [inlined]",
      "  [5] similar",
      "    @ ./abstractarray.jl:840 [inlined]",
      "  [6] similar",
      "    @ ./broadcast.jl:212 [inlined]",
      "  [7] similar",
      "    @ ./broadcast.jl:211 [inlined]",
      "  [8] copy",
      "    @ ./broadcast.jl:885 [inlined]",
      "  [9] materialize",
      "    @ ./broadcast.jl:860 [inlined]",
      " [10] broadcast_preserving_zero_d",
      "    @ ./broadcast.jl:849 [inlined]",
      " [11] -(A::Vector{Int64}, B::Vector{Int64})",
      "    @ Base ./arraymath.jl:8",
      " [12] sojournTime(s::Vector{Int64}, a::Vector{Int64}, flows::Vector{Float64}, N::Int64, alpha_d::Vector{Float64}, alpha_r::Vector{Float64}, beta::Float64, tau::Vector{Float64})",
      "    @ Main ./In[376]:3",
      " [13] #instantCostCont#660",
      "    @ ./In[377]:4 [inlined]",
      " [14] instantCostCont",
      "    @ ./In[377]:2 [inlined]",
      " [15] smarActionAndVFromNewVFA(s::Vector{Int64}, flows::Vector{Float64}, N::Int64, alpha_d::Vector{Float64}, alpha_r::Vector{Float64}, beta::Float64, tau::Vector{Float64}, c0::Vector{Float64}, c1::Float64, r::Vector{Float64}, ve::Dict{Any, Any}, vn::Dict{Any, Any}, g::Float64; s0::Vector{Int64})",
      "    @ Main ./In[425]:5",
      " [16] gEvaluationNewVFA(N::Int64, alpha_d::Vector{Float64}, alpha_r::Vector{Float64}, beta::Float64, tau::Vector{Float64}, c0::Vector{Float64}, c1::Float64, r::Vector{Float64}, nMax::Int64, ve::Dict{Any, Any}, vn::Dict{Any, Any}, g0::Float64; printProgress::Bool, modCounter::Int64)",
      "    @ Main ./In[432]:28",
      " [17] top-level scope",
      "    @ ./In[477]:89"
     ]
    }
   ],
   "source": [
    "numRuns = 1000\n",
    "N = 5\n",
    "alpha_d = fill(0.0, N)\n",
    "beta = 1.0\n",
    "epsilon = 1e-10\n",
    "LEN_FRAME = 75\n",
    "nMaxgEval = 2000000\n",
    "nMaxSmarpe = 2000000\n",
    "nMaxPE = 50000\n",
    "delScale = 1\n",
    "stepsize = 0.0\n",
    "esoft = 1e-3\n",
    "\n",
    "ves = []\n",
    "vns = []\n",
    "simDspG = []\n",
    "simSoftDspG = []\n",
    "simApproxPIG = []\n",
    "exactApproxPIG = []\n",
    "optGapsApprox = []\n",
    "for run in 1:numRuns\n",
    "    #Start frame\n",
    "    println(join(fill(\"-\",LEN_FRAME)))\n",
    "    print(\"Run: \")\n",
    "    println(run)\n",
    "\n",
    "    #get parameters\n",
    "    tau = taus[run]\n",
    "    print(\"tau: \")\n",
    "    println(tau)\n",
    "\n",
    "    alpha_r = alphas[run]\n",
    "    print(\"alpha: \")\n",
    "    println(alpha_r)\n",
    "\n",
    "    c0 = c0s[run]\n",
    "    print(\"c0: \")\n",
    "    println(c0)\n",
    "\n",
    "    c1 = c1s[run]\n",
    "    print(\"c1: \")\n",
    "    println(c1)\n",
    "\n",
    "    r = rs[run]\n",
    "    print(\"r: \")\n",
    "    println(r)\n",
    "\n",
    "    println()\n",
    "\n",
    "    #print rvi result \n",
    "    print(\"RVI: \")\n",
    "    print(round(rviGs[run], digits = 5))\n",
    "\n",
    "    #print exact heuristic result\n",
    "    print(\", PI Heuristic: \")\n",
    "    print(round(optPiGs[run], digits = 5))\n",
    "\n",
    "    print(\", Gap: \")\n",
    "    println(round(optGaps[run], digits = 2))\n",
    "\n",
    "    #simulate g of exact dsp\n",
    "    dsp = optDsps[run]\n",
    "    Random.seed!(12345)\n",
    "    gsExact = gEvaluationDSP(N,alpha_d, alpha_r, beta, tau, c0, c1, r, nMaxgEval, dsp; s = fill(1, N), epsilon = 0.0, printProgress = false, modCounter = 100000, stateTrace = false)\n",
    "    print(\"(Simulated) DSP g: \")\n",
    "    print(round(gsExact[1], digits = 5))\n",
    "    push!(simDspG, gsExact[1])\n",
    "\n",
    "    #simulate g of e-soft dsp\n",
    "    Random.seed!(12345)\n",
    "    gs = gEvaluationDSP(N,alpha_d, alpha_r, beta, tau, c0, c1, r, nMaxgEval, dsp; s = fill(1, N), epsilon = 0.01, printProgress = false, modCounter = 100000, stateTrace = false)\n",
    "    g = gs[1]\n",
    "    print(\", e-soft DSP g: \")\n",
    "    println(round(gs[1], digits = 5))\n",
    "    push!(simSoftDspG, gs[1])\n",
    "\n",
    "    #find smarpe vfa of dsp\n",
    "    Random.seed!(12345)\n",
    "    resSMARPE = smarpeNewVFA_ST_DSP_mcclain(N,alpha_d, alpha_r, beta, tau, c0, c1, r, nMaxSmarpe, stepsize, dsp; epsilon = esoft, ve = Dict(), vn = Dict(), vfaProvided = false, g = g, gFixed = true, s = fill(1,N), stateTrace = [], timePassed = 0.0, printProgress = false, modCounter = 1000000)\n",
    "    ve = resSMARPE[1][\"ve\"]\n",
    "    vn = resSMARPE[1][\"vn\"]\n",
    "    push!(ves, ve)\n",
    "    push!(vns, vn)\n",
    "\n",
    "    #evaluate PI policy from smarpe vfa\n",
    "    policy = policyFromNewVFA(N,alpha_d, alpha_r, beta, tau, c0, c1, r, ve, vn, g)\n",
    "    resPI = rpe(N, policy, alpha_d, alpha_r, beta, tau, c0, c1, r, epsilon; nMax = nMaxPE, delScale = delScale, printProgress = false, modCounter = 1000)\n",
    "    Random.seed!(12345)\n",
    "    gsPI = gEvaluationNewVFA(N,alpha_d, alpha_r, beta, tau, c0, c1, r, nMaxgEval, ve, vn, g, printProgress = false, modCounter = 100000)\n",
    "    push!(simApproxPIG, gsPI[1])\n",
    "    push!(exactApproxPIG, resPI[1])\n",
    "\n",
    "    print(\"Simulated PI g: \")\n",
    "    print(round(gsPI[1], digits = 5))\n",
    "    print(\", Exact PI g: \")\n",
    "    print(round(resPI[1], digits = 5))\n",
    "    print(\", Optimality Gap: \")\n",
    "    gap = (resPI[1]/rviGs[run] - 1)*100\n",
    "    push!(optGapsApprox, gap)\n",
    "    println(round(gap, digits = 2))\n",
    "    #end frame\n",
    "    println(join(fill(\"-\",LEN_FRAME)))\n",
    "end"
   ]
  },
  {
   "cell_type": "code",
   "execution_count": null,
   "id": "4d021ae2",
   "metadata": {},
   "outputs": [],
   "source": [
    "resultExp8 = Dict()\n",
    "resultExp8[\"ves\"] = ves \n",
    "resultExp8[\"vns\"] = vns \n",
    "resultExp8[\"simDspG\"] = simDspG \n",
    "resultExp8[\"simSoftDspG\"] = simSoftDspG \n",
    "resultExp8[\"simApproxPIG\"] = simApproxPIG \n",
    "resultExp8[\"exactApproxPIG\"] = exactApproxPIG \n",
    "resultExp8[\"optGapsApprox\"] = optGapsApprox \n",
    "f = serialize(\"resultExp8.dat\", resultExp8)"
   ]
  },
  {
   "cell_type": "code",
   "execution_count": 469,
   "id": "1b41aad3",
   "metadata": {},
   "outputs": [
    {
     "name": "stdout",
     "output_type": "stream",
     "text": [
      "---------------------------------------------------------------------------\n",
      "Run: 1\n",
      "tau: [0.9447905649425166, 0.866894886438913, 0.3396115028483221, 0.13611651795784874, 0.3225010866963668]\n",
      "alpha: [0.008970179158651559, 0.036935810010869013, 0.059888020871150055, 0.03663215704203369, 0.0737056992956364]\n",
      "c0: [0.09261145157968753, 0.11848853125656122, 0.26755021483368013, 0.8104947638539546, 0.8681535487443706]\n",
      "c1: 853.4190042384113\n",
      "r: [99.56147215735662, 82.000516419209, 83.4463081073842, 73.46937216084547, 38.36128790136257]\n",
      "\n",
      "RVI: 4.70822, PI Heuristic: 4.70822, Gap: -0.0\n",
      "(Simulated) DSP g: 4.70998, e-soft DSP g: 4.94791\n",
      "Simulated PI g: 4.70748, Exact PI g: 4.70822, Optimality Gap: 0.0\n",
      "---------------------------------------------------------------------------\n"
     ]
    }
   ],
   "source": [
    "run = 1\n",
    "\n",
    "#Start frame\n",
    "println(join(fill(\"-\",LEN_FRAME)))\n",
    "print(\"Run: \")\n",
    "println(run)\n",
    "\n",
    "#get parameters\n",
    "tau = taus[run]\n",
    "print(\"tau: \")\n",
    "println(tau)\n",
    "\n",
    "alpha_r = alphas[run]\n",
    "print(\"alpha: \")\n",
    "println(alpha_r)\n",
    "\n",
    "c0 = c0s[run]\n",
    "print(\"c0: \")\n",
    "println(c0)\n",
    "\n",
    "c1 = c1s[run]\n",
    "print(\"c1: \")\n",
    "println(c1)\n",
    "\n",
    "r = rs[run]\n",
    "print(\"r: \")\n",
    "println(r)\n",
    "\n",
    "println()\n",
    "\n",
    "#print rvi result \n",
    "print(\"RVI: \")\n",
    "print(round(rviGs[run], digits = 5))\n",
    "\n",
    "#print exact heuristic result\n",
    "print(\", PI Heuristic: \")\n",
    "print(round(optPiGs[run], digits = 5))\n",
    "\n",
    "print(\", Gap: \")\n",
    "println(round(optGaps[run], digits = 2))\n",
    "\n",
    "#simulate g of exact dsp\n",
    "dsp = optDsps[run]\n",
    "Random.seed!(12345)\n",
    "gsExact = gEvaluationDSP(N,alpha_d, alpha_r, beta, tau, c0, c1, r, nMaxgEval, dsp; s = fill(1, N), epsilon = 0.0, printProgress = false, modCounter = 100000, stateTrace = false)\n",
    "print(\"(Simulated) DSP g: \")\n",
    "print(round(gsExact[1], digits = 5))\n",
    "push!(simDspG, gsExact[1])\n",
    "\n",
    "#rpe of dsp\n",
    "policy = staticPolicyToDynamicPolicyLAS(N, dsp)\n",
    "resPE = rpe(N, policy, alpha_d, alpha_r, beta, tau, c0, c1, r, epsilon; nMax = nMax, delScale = 1, printProgress = false, modCounter = 1000)\n",
    "\n",
    "#simulate g of e-soft dsp\n",
    "Random.seed!(12345)\n",
    "gs = gEvaluationDSP(N,alpha_d, alpha_r, beta, tau, c0, c1, r, nMaxgEval, dsp; s = fill(1, N), epsilon = 0.01, printProgress = false, modCounter = 100000, stateTrace = false)\n",
    "g = gs[1]\n",
    "print(\", e-soft DSP g: \")\n",
    "println(round(gs[1], digits = 5))\n",
    "push!(simSoftDspG, gs[1])\n",
    "\n",
    "#find smarpe vfa of dsp\n",
    "Random.seed!(12345)\n",
    "resSMARPE = smarpeNewVFA_ST_DSP_mcclain(N,alpha_d, alpha_r, beta, tau, c0, c1, r, nMaxSmarpe, 0.0, dsp; epsilon = esoft, ve = Dict(), vn = Dict(), vfaProvided = false, g = g, gFixed = true, s = fill(1,N), stateTrace = [], timePassed = 0.0, printProgress = false, modCounter = 1000000)\n",
    "ve = resSMARPE[1][\"ve\"]\n",
    "vn = resSMARPE[1][\"vn\"]\n",
    "push!(ves, ve)\n",
    "push!(vns, vn)\n",
    "\n",
    "#evaluate PI policy from smarpe vfa\n",
    "policy = policyFromNewVFA(N,alpha_d, alpha_r, beta, tau, c0, c1, r, ve, vn, g)\n",
    "resPI = rpe(N, policy, alpha_d, alpha_r, beta, tau, c0, c1, r, epsilon; nMax = nMaxPE, delScale = delScale, printProgress = false, modCounter = 1000)\n",
    "Random.seed!(12345)\n",
    "gsPI = gEvaluationNewVFA(N,alpha_d, alpha_r, beta, tau, c0, c1, r, nMaxgEval, ve, vn, g, printProgress = false, modCounter = 100000)\n",
    "push!(simApproxPIG, gsPI[1])\n",
    "push!(exactApproxPIG, resPI[1])\n",
    "\n",
    "print(\"Simulated PI g: \")\n",
    "print(round(gsPI[1], digits = 5))\n",
    "print(\", Exact PI g: \")\n",
    "print(round(resPI[1], digits = 5))\n",
    "print(\", Optimality Gap: \")\n",
    "gap = (resPI[1]/rviGs[run] - 1)*100\n",
    "push!(optGapsApprox, gap)\n",
    "println(round(gap, digits = 2))\n",
    "#end frame\n",
    "println(join(fill(\"-\",LEN_FRAME)))"
   ]
  },
  {
   "cell_type": "code",
   "execution_count": 470,
   "id": "2117b4b7",
   "metadata": {},
   "outputs": [
    {
     "data": {
      "text/plain": [
       "243-element Vector{Any}:\n",
       " [1, 1, 1, 1, 1]\n",
       " [2, 1, 1, 1, 1]\n",
       " [3, 1, 1, 1, 1]\n",
       " [1, 2, 1, 1, 1]\n",
       " [2, 2, 1, 1, 1]\n",
       " [3, 2, 1, 1, 1]\n",
       " [1, 3, 1, 1, 1]\n",
       " [2, 3, 1, 1, 1]\n",
       " [3, 3, 1, 1, 1]\n",
       " [1, 1, 2, 1, 1]\n",
       " [2, 1, 2, 1, 1]\n",
       " [3, 1, 2, 1, 1]\n",
       " [1, 2, 2, 1, 1]\n",
       " ⋮\n",
       " [1, 3, 2, 3, 3]\n",
       " [2, 3, 2, 3, 3]\n",
       " [3, 3, 2, 3, 3]\n",
       " [1, 1, 3, 3, 3]\n",
       " [2, 1, 3, 3, 3]\n",
       " [3, 1, 3, 3, 3]\n",
       " [1, 2, 3, 3, 3]\n",
       " [2, 2, 3, 3, 3]\n",
       " [3, 2, 3, 3, 3]\n",
       " [1, 3, 3, 3, 3]\n",
       " [2, 3, 3, 3, 3]\n",
       " [3, 3, 3, 3, 3]"
      ]
     },
     "execution_count": 470,
     "metadata": {},
     "output_type": "execute_result"
    }
   ],
   "source": [
    "stateSpace = enumerateStates(N)\n"
   ]
  },
  {
   "cell_type": "code",
   "execution_count": 471,
   "id": "1f1af851",
   "metadata": {},
   "outputs": [],
   "source": [
    "trueValues = []\n",
    "approxValues = []\n",
    "for s in stateSpace\n",
    "    push!(trueValues, resPE[2][s])\n",
    "    push!(approxValues, v(s,N,alpha_d, alpha_r, beta, tau, c0, c1, r, resSMARPE[1][\"ve\"], resSMARPE[1][\"vn\"]))\n",
    "end"
   ]
  },
  {
   "cell_type": "code",
   "execution_count": 472,
   "id": "68faca0f",
   "metadata": {},
   "outputs": [
    {
     "data": {
      "text/plain": [
       "243-element Vector{Any}:\n",
       " [1, 1, 1, 1, 1]\n",
       " [1, 1, 1, 1, 3]\n",
       " [1, 1, 3, 1, 1]\n",
       " [1, 1, 3, 1, 3]\n",
       " [1, 1, 1, 3, 1]\n",
       " [1, 1, 1, 3, 3]\n",
       " [1, 1, 3, 3, 1]\n",
       " [1, 1, 3, 3, 3]\n",
       " [1, 2, 1, 1, 1]\n",
       " [1, 3, 1, 1, 1]\n",
       " [1, 2, 1, 1, 3]\n",
       " [1, 3, 1, 1, 3]\n",
       " [1, 2, 3, 1, 1]\n",
       " ⋮\n",
       " [3, 2, 3, 2, 2]\n",
       " [2, 3, 3, 2, 2]\n",
       " [3, 3, 3, 2, 3]\n",
       " [2, 2, 2, 2, 3]\n",
       " [3, 2, 2, 2, 3]\n",
       " [2, 3, 2, 2, 3]\n",
       " [3, 3, 3, 2, 2]\n",
       " [2, 2, 2, 2, 2]\n",
       " [3, 2, 2, 2, 2]\n",
       " [2, 3, 2, 2, 2]\n",
       " [3, 3, 2, 2, 3]\n",
       " [3, 3, 2, 2, 2]"
      ]
     },
     "execution_count": 472,
     "metadata": {},
     "output_type": "execute_result"
    }
   ],
   "source": [
    "p = sortperm(trueValues); trueValues .= trueValues[p]; approxValues .= approxValues[p]; stateSpace .= stateSpace[p] "
   ]
  },
  {
   "cell_type": "code",
   "execution_count": 475,
   "id": "0542b9a2",
   "metadata": {},
   "outputs": [
    {
     "data": {
      "image/png": "[encoded data removed]",
      "text/plain": [
       "Figure(PyObject <Figure size 750x500 with 1 Axes>)"
      ]
     },
     "metadata": {},
     "output_type": "display_data"
    }
   ],
   "source": [
    "figure(figsize=((3/2)*5, 5))\n",
    "gap = mean(trueValues - approxValues)\n",
    "ptSize = 2\n",
    "PyPlot.plot(trueValues , \"bo\", label = \"True\", ms = ptSize)\n",
    "PyPlot.plot(approxValues.+ gap, \"ro\", label = \"Approx\", ms = ptSize)\n",
    "legend()\n",
    "PyPlot.savefig(\"vfaVsTrue.pdf\", bbox_inches=\"tight\")"
   ]
  },
  {
   "cell_type": "code",
   "execution_count": 347,
   "id": "932a0fda",
   "metadata": {},
   "outputs": [
    {
     "data": {
      "text/plain": [
       "243-element Vector{Float64}:\n",
       " -107.91452235625638\n",
       " -160.1638461793782\n",
       " -147.5386114938192\n",
       " -199.27772737635678\n",
       " -176.32527267371552\n",
       " -227.55930381080907\n",
       " -214.51606529204673\n",
       " -263.7499698549036\n",
       " -114.01780754407446\n",
       " -114.85389441289954\n",
       " -166.23899958084166\n",
       " -167.07508644966674\n",
       " -153.60382219609892\n",
       "    ⋮\n",
       " -164.22171972924298\n",
       " -159.68105742185617\n",
       "  -44.693636879538644\n",
       " -163.4345998019071\n",
       " -168.81134897811808\n",
       " -164.27068667073218\n",
       "  -50.60275740594261\n",
       " -135.9210992438757\n",
       " -141.29784842008667\n",
       " -136.75718611270077\n",
       "  -56.24260738178964\n",
       "  -42.19548828237748"
      ]
     },
     "execution_count": 347,
     "metadata": {},
     "output_type": "execute_result"
    }
   ],
   "source": [
    "gaps = trueValues - approxValues .- gap"
   ]
  },
  {
   "cell_type": "code",
   "execution_count": 350,
   "id": "03587505",
   "metadata": {},
   "outputs": [
    {
     "name": "stdout",
     "output_type": "stream",
     "text": [
      "[3, 3, 1, 1, 1]\n",
      "[2, 2, 1, 1, 1]\n",
      "[3, 2, 1, 1, 1]\n",
      "[2, 3, 1, 1, 1]\n",
      "[3, 3, 1, 1, 3]\n",
      "[2, 2, 1, 1, 3]\n",
      "[3, 2, 1, 1, 3]\n",
      "[2, 3, 1, 1, 3]\n",
      "[3, 3, 3, 1, 1]\n",
      "[2, 2, 3, 1, 1]\n",
      "[3, 2, 3, 1, 1]\n",
      "[2, 3, 3, 1, 1]\n",
      "[3, 3, 1, 3, 1]\n",
      "[2, 2, 1, 3, 1]\n",
      "[3, 2, 1, 3, 1]\n",
      "[2, 3, 1, 3, 1]\n",
      "[2, 2, 3, 1, 3]\n",
      "[3, 2, 3, 1, 3]\n",
      "[2, 3, 3, 1, 3]\n",
      "[3, 3, 3, 1, 3]\n",
      "[2, 2, 1, 3, 3]\n",
      "[3, 2, 1, 3, 3]\n",
      "[2, 3, 1, 3, 3]\n",
      "[3, 3, 1, 3, 3]\n",
      "[2, 2, 3, 3, 1]\n",
      "[3, 2, 3, 3, 1]\n",
      "[2, 3, 3, 3, 1]\n",
      "[3, 3, 3, 3, 1]\n",
      "[3, 3, 1, 1, 2]\n",
      "[2, 2, 1, 1, 2]\n",
      "[3, 2, 1, 1, 2]\n",
      "[2, 3, 1, 1, 2]\n",
      "[2, 2, 3, 1, 2]\n",
      "[3, 2, 3, 1, 2]\n",
      "[2, 3, 3, 1, 2]\n",
      "[3, 3, 3, 1, 2]\n",
      "[2, 2, 1, 3, 2]\n",
      "[3, 2, 1, 3, 2]\n",
      "[2, 3, 1, 3, 2]\n",
      "[3, 3, 1, 3, 2]\n",
      "[3, 3, 2, 1, 1]\n",
      "[2, 2, 2, 1, 1]\n",
      "[3, 2, 2, 1, 1]\n",
      "[2, 3, 2, 1, 1]\n",
      "[2, 2, 2, 1, 3]\n",
      "[3, 2, 2, 1, 3]\n",
      "[2, 3, 2, 1, 3]\n",
      "[3, 3, 2, 1, 3]\n",
      "[2, 2, 2, 3, 1]\n",
      "[3, 2, 2, 3, 1]\n",
      "[2, 3, 2, 3, 1]\n",
      "[3, 3, 2, 3, 1]\n",
      "[2, 2, 2, 1, 2]\n",
      "[3, 2, 2, 1, 2]\n",
      "[2, 3, 2, 1, 2]\n",
      "[3, 3, 2, 1, 2]\n",
      "[3, 3, 1, 2, 1]\n",
      "[2, 2, 1, 2, 1]\n",
      "[3, 2, 1, 2, 1]\n",
      "[2, 3, 1, 2, 1]\n",
      "[2, 2, 1, 2, 3]\n",
      "[3, 2, 1, 2, 3]\n",
      "[2, 3, 1, 2, 3]\n",
      "[3, 3, 1, 2, 3]\n",
      "[2, 2, 3, 2, 1]\n",
      "[3, 2, 3, 2, 1]\n",
      "[2, 3, 3, 2, 1]\n",
      "[3, 3, 3, 2, 1]\n",
      "[2, 2, 1, 2, 2]\n",
      "[3, 2, 1, 2, 2]\n",
      "[2, 3, 1, 2, 2]\n",
      "[3, 3, 1, 2, 2]\n",
      "[2, 2, 2, 2, 1]\n",
      "[3, 2, 2, 2, 1]\n",
      "[2, 3, 2, 2, 1]\n",
      "[3, 3, 2, 2, 1]\n"
     ]
    }
   ],
   "source": [
    "test = [stateSpace[i] for i in 1:243 if gaps[i] >= 100]\n",
    "for t in test\n",
    "    println(t)\n",
    "end"
   ]
  },
  {
   "cell_type": "code",
   "execution_count": 355,
   "id": "267cbf23",
   "metadata": {},
   "outputs": [],
   "source": [
    "test2 = []\n",
    "for t in test\n",
    "    cand = t[3:5]\n",
    "    unique = true\n",
    "    for t2 in test2\n",
    "        if cand == t2\n",
    "            unique = false\n",
    "            break\n",
    "        end\n",
    "    end\n",
    "\n",
    "    if unique\n",
    "        push!(test2, cand)\n",
    "    end\n",
    "end"
   ]
  },
  {
   "cell_type": "code",
   "execution_count": 356,
   "id": "d4b3a917",
   "metadata": {},
   "outputs": [
    {
     "data": {
      "text/plain": [
       "19-element Vector{Any}:\n",
       " [1, 1, 1]\n",
       " [1, 1, 3]\n",
       " [3, 1, 1]\n",
       " [1, 3, 1]\n",
       " [3, 1, 3]\n",
       " [1, 3, 3]\n",
       " [3, 3, 1]\n",
       " [1, 1, 2]\n",
       " [3, 1, 2]\n",
       " [1, 3, 2]\n",
       " [2, 1, 1]\n",
       " [2, 1, 3]\n",
       " [2, 3, 1]\n",
       " [2, 1, 2]\n",
       " [1, 2, 1]\n",
       " [1, 2, 3]\n",
       " [3, 2, 1]\n",
       " [1, 2, 2]\n",
       " [2, 2, 1]"
      ]
     },
     "execution_count": 356,
     "metadata": {},
     "output_type": "execute_result"
    }
   ],
   "source": [
    "test2"
   ]
  },
  {
   "cell_type": "code",
   "execution_count": 357,
   "id": "4af67b01",
   "metadata": {},
   "outputs": [],
   "source": [
    "options = enumerateStates(3)\n",
    "options2 = []\n",
    "for o in options\n",
    "    found = false\n",
    "    for t2 in test2\n",
    "        if o == t2\n",
    "            found = true\n",
    "            break\n",
    "        end\n",
    "    end\n",
    "\n",
    "    if !found\n",
    "        push!(options2, o)\n",
    "    end\n",
    "end"
   ]
  },
  {
   "cell_type": "code",
   "execution_count": 359,
   "id": "9f4d8f43",
   "metadata": {},
   "outputs": [
    {
     "data": {
      "text/plain": [
       "8-element Vector{Any}:\n",
       " [2, 2, 2]\n",
       " [3, 2, 2]\n",
       " [2, 3, 2]\n",
       " [3, 3, 2]\n",
       " [2, 2, 3]\n",
       " [3, 2, 3]\n",
       " [2, 3, 3]\n",
       " [3, 3, 3]"
      ]
     },
     "execution_count": 359,
     "metadata": {},
     "output_type": "execute_result"
    }
   ],
   "source": [
    "options2"
   ]
  },
  {
   "attachments": {},
   "cell_type": "markdown",
   "id": "cb42e594",
   "metadata": {},
   "source": [
    "All poor estimates have DIP links either damaged or repairing, and at least 1 non-DIP link healthy"
   ]
  },
  {
   "cell_type": "code",
   "execution_count": 354,
   "id": "128343dc",
   "metadata": {},
   "outputs": [
    {
     "data": {
      "image/png": "[encoded data removed]",
      "text/plain": [
       "Figure(PyObject <Figure size 640x480 with 1 Axes>)"
      ]
     },
     "metadata": {},
     "output_type": "display_data"
    },
    {
     "data": {
      "text/plain": [
       "1-element Vector{PyCall.PyObject}:\n",
       " PyObject <matplotlib.lines.Line2D object at 0x7f54e358fe50>"
      ]
     },
     "execution_count": 354,
     "metadata": {},
     "output_type": "execute_result"
    }
   ],
   "source": [
    "PyPlot.plot(gaps .+ 150, \"bo\", ms =2)"
   ]
  },
  {
   "cell_type": "code",
   "execution_count": 284,
   "id": "7e1472cf",
   "metadata": {},
   "outputs": [
    {
     "data": {
      "text/plain": [
       "5-element Vector{Int64}:\n",
       " 1\n",
       " 3\n",
       " 3\n",
       " 3\n",
       " 3"
      ]
     },
     "execution_count": 284,
     "metadata": {},
     "output_type": "execute_result"
    }
   ],
   "source": [
    "importantStates[7]"
   ]
  },
  {
   "cell_type": "code",
   "execution_count": null,
   "id": "d012972a",
   "metadata": {},
   "outputs": [],
   "source": []
  },
  {
   "cell_type": "code",
   "execution_count": null,
   "id": "74aab027",
   "metadata": {},
   "outputs": [],
   "source": [
    "median(optGapsApprox)"
   ]
  }
 ],
 "metadata": {
  "kernelspec": {
   "display_name": "Julia 1.8.5",
   "language": "julia",
   "name": "julia-1.8"
  },
  "language_info": {
   "file_extension": ".jl",
   "mimetype": "application/julia",
   "name": "julia",
   "version": "1.8.5"
  }
 },
 "nbformat": 4,
 "nbformat_minor": 5
}
